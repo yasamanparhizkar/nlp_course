{
 "cells": [
  {
   "cell_type": "code",
   "execution_count": 1,
   "id": "a127f652-7ec2-4f8a-b42d-96321b4f7e9c",
   "metadata": {},
   "outputs": [],
   "source": [
    "import matplotlib.pyplot as plt\n",
    "import numpy as np"
   ]
  },
  {
   "cell_type": "markdown",
   "id": "e65b32aa-16f2-47c6-bd39-43e651b5a341",
   "metadata": {},
   "source": [
    "# NLTK Book - Chapter 1 Exercises\n",
    "Access here: https://www.nltk.org/book/ch01.html"
   ]
  },
  {
   "cell_type": "code",
   "execution_count": 2,
   "id": "e0b10551-b4d5-49ac-bc18-4ed9351a4f39",
   "metadata": {},
   "outputs": [
    {
     "name": "stdout",
     "output_type": "stream",
     "text": [
      "*** Introductory Examples for the NLTK Book ***\n",
      "Loading text1, ..., text9 and sent1, ..., sent9\n",
      "Type the name of the text or sentence to view it.\n",
      "Type: 'texts()' or 'sents()' to list the materials.\n",
      "text1: Moby Dick by Herman Melville 1851\n",
      "text2: Sense and Sensibility by Jane Austen 1811\n",
      "text3: The Book of Genesis\n",
      "text4: Inaugural Address Corpus\n",
      "text5: Chat Corpus\n",
      "text6: Monty Python and the Holy Grail\n",
      "text7: Wall Street Journal\n",
      "text8: Personals Corpus\n",
      "text9: The Man Who Was Thursday by G . K . Chesterton 1908\n"
     ]
    }
   ],
   "source": [
    "from nltk.book import *"
   ]
  },
  {
   "cell_type": "code",
   "execution_count": 3,
   "id": "421df42b-6d18-4247-afbd-16215757367b",
   "metadata": {},
   "outputs": [
    {
     "name": "stdout",
     "output_type": "stream",
     "text": [
      "sent1: Call me Ishmael .\n",
      "sent2: The family of Dashwood had long been settled in Sussex .\n",
      "sent3: In the beginning God created the heaven and the earth .\n",
      "sent4: Fellow - Citizens of the Senate and of the House of Representatives :\n",
      "sent5: I have a problem with people PMing me to lol JOIN\n",
      "sent6: SCENE 1 : [ wind ] [ clop clop clop ] KING ARTHUR : Whoa there !\n",
      "sent7: Pierre Vinken , 61 years old , will join the board as a nonexecutive director Nov. 29 .\n",
      "sent8: 25 SEXY MALE , seeks attrac older single lady , for discreet encounters .\n",
      "sent9: THE suburb of Saffron Park lay on the sunset side of London , as red and ragged as a cloud of sunset .\n"
     ]
    }
   ],
   "source": [
    "sents()"
   ]
  },
  {
   "cell_type": "markdown",
   "id": "a573e073-5014-45a5-a38e-bcd5e788a069",
   "metadata": {},
   "source": [
    "# Computing with Language"
   ]
  },
  {
   "cell_type": "markdown",
   "id": "263dec5d-17a5-4f6e-972a-d26631471297",
   "metadata": {},
   "source": [
    "## Searching text"
   ]
  },
  {
   "cell_type": "code",
   "execution_count": 4,
   "id": "6682cb04-8680-498c-b6dc-a695ea3491f4",
   "metadata": {},
   "outputs": [
    {
     "name": "stdout",
     "output_type": "stream",
     "text": [
      "Displaying 11 of 11 matches:\n",
      "ong the former , one was of a most monstrous size . ... This came towards us , \n",
      "ON OF THE PSALMS . \" Touching that monstrous bulk of the whale or ork we have r\n",
      "ll over with a heathenish array of monstrous clubs and spears . Some were thick\n",
      "d as you gazed , and wondered what monstrous cannibal and savage could ever hav\n",
      "that has survived the flood ; most monstrous and most mountainous ! That Himmal\n",
      "they might scout at Moby Dick as a monstrous fable , or still worse and more de\n",
      "th of Radney .'\" CHAPTER 55 Of the Monstrous Pictures of Whales . I shall ere l\n",
      "ing Scenes . In connexion with the monstrous pictures of whales , I am strongly\n",
      "ere to enter upon those still more monstrous stories of them which are to be fo\n",
      "ght have been rummaged out of this monstrous cabinet there is no telling . But \n",
      "of Whale - Bones ; for Whales of a monstrous size are oftentimes cast up dead u\n"
     ]
    }
   ],
   "source": [
    "# show occurances of a word + some context\n",
    "text1.concordance(\"monstrous\")"
   ]
  },
  {
   "cell_type": "code",
   "execution_count": 5,
   "id": "b280893f-53b0-4d7b-bfa1-a2cd02a7bc05",
   "metadata": {},
   "outputs": [
    {
     "name": "stdout",
     "output_type": "stream",
     "text": [
      "Displaying 11 of 11 matches:\n",
      ". \" Now , Palmer , you shall see a monstrous pretty girl .\" He immediately went\n",
      "your sister is to marry him . I am monstrous glad of it , for then I shall have\n",
      "ou may tell your sister . She is a monstrous lucky girl to get him , upon my ho\n",
      "k how you will like them . Lucy is monstrous pretty , and so good humoured and \n",
      " Jennings , \" I am sure I shall be monstrous glad of Miss Marianne ' s company \n",
      " usual noisy cheerfulness , \" I am monstrous glad to see you -- sorry I could n\n",
      "t however , as it turns out , I am monstrous glad there was never any thing in \n",
      "so scornfully ! for they say he is monstrous fond of her , as well he may . I s\n",
      "possible that she should .\" \" I am monstrous glad of it . Good gracious ! I hav\n",
      "thing of the kind . So then he was monstrous happy , and talked on some time ab\n",
      "e very genteel people . He makes a monstrous deal of money , and they keep thei\n"
     ]
    }
   ],
   "source": [
    "a = text2.concordance(\"monstrous\")"
   ]
  },
  {
   "cell_type": "code",
   "execution_count": 6,
   "id": "54109ae0-1496-4647-80b5-2d4919388ecc",
   "metadata": {},
   "outputs": [
    {
     "name": "stdout",
     "output_type": "stream",
     "text": [
      "<Text: Moby Dick by Herman Melville 1851>\n",
      "true contemptible christian abundant few part mean careful puzzled\n",
      "mystifying passing curious loving wise doleful gamesome singular\n",
      "delightfully perilous fearless\n",
      "\n",
      " <Text: Sense and Sensibility by Jane Austen 1811>\n",
      "very so exceedingly heartily a as good great extremely remarkably\n",
      "sweet vast amazingly\n"
     ]
    }
   ],
   "source": [
    "# show similar words that could happen in the same context as the given word\n",
    "print(text1)\n",
    "text1.similar(\"monstrous\")\n",
    "print('\\n',text2)\n",
    "text2.similar(\"monstrous\")"
   ]
  },
  {
   "cell_type": "code",
   "execution_count": 7,
   "id": "34049643-ffc7-4564-88ee-0752f70473f3",
   "metadata": {},
   "outputs": [
    {
     "name": "stdout",
     "output_type": "stream",
     "text": [
      "most_and\n",
      "am_glad a_pretty a_lucky is_pretty be_glad\n"
     ]
    }
   ],
   "source": [
    "# show common contexts of two or more words in a text\n",
    "text1.common_contexts([\"monstrous\", \"contemptible\"])\n",
    "text2.common_contexts([\"monstrous\", \"very\"])"
   ]
  },
  {
   "cell_type": "code",
   "execution_count": 8,
   "id": "f20c27cf-1406-42dd-81ca-df3b0bcd8cfe",
   "metadata": {},
   "outputs": [
    {
     "name": "stderr",
     "output_type": "stream",
     "text": [
      "/home/yasamanparhizkar/Documents/yorku/10_ai4ph_nlp/nlp/lib/python3.9/site-packages/nltk/draw/__init__.py:15: UserWarning: nltk.draw package not loaded (please install Tkinter library).\n",
      "  warnings.warn(\"nltk.draw package not loaded (please install Tkinter library).\")\n"
     ]
    },
    {
     "data": {
      "image/png": "[encoded data removed]",
      "text/plain": [
       "<Figure size 640x480 with 1 Axes>"
      ]
     },
     "metadata": {},
     "output_type": "display_data"
    }
   ],
   "source": [
    "# show the locations where a word occurs in a text - dispersion plot\n",
    "text4.dispersion_plot([\"citizens\", \"democracy\", \"freedom\", \"duties\", \"America\"])"
   ]
  },
  {
   "cell_type": "code",
   "execution_count": 11,
   "id": "c6558796-cfef-4bb4-8a77-e1661ccbf474",
   "metadata": {},
   "outputs": [
    {
     "name": "stderr",
     "output_type": "stream",
     "text": [
      "Building ngram index...\n"
     ]
    },
    {
     "name": "stdout",
     "output_type": "stream",
     "text": [
      "laid by her , and said unto Cain , Where art thou , and said , Go to ,\n",
      "I will not do it for ten ' s sons ; we dreamed each man according to\n",
      "their generatio the firstborn said unto Laban , Because I said , Nay ,\n",
      "but Sarah shall her name be . , duke Elah , duke Shobal , and Akan .\n",
      "and looked upon my affliction . Bashemath Ishmael ' s blood , but Isra\n",
      "for as a prince hast thou found of all the cattle in the valley , and\n",
      "the wo The\n"
     ]
    },
    {
     "data": {
      "text/plain": [
       "\"laid by her , and said unto Cain , Where art thou , and said , Go to ,\\nI will not do it for ten ' s sons ; we dreamed each man according to\\ntheir generatio the firstborn said unto Laban , Because I said , Nay ,\\nbut Sarah shall her name be . , duke Elah , duke Shobal , and Akan .\\nand looked upon my affliction . Bashemath Ishmael ' s blood , but Isra\\nfor as a prince hast thou found of all the cattle in the valley , and\\nthe wo The\""
      ]
     },
     "execution_count": 11,
     "metadata": {},
     "output_type": "execute_result"
    }
   ],
   "source": [
    "text3.generate()"
   ]
  },
  {
   "cell_type": "markdown",
   "id": "10ec41d0-52b5-490e-a39f-b83ba5461c8f",
   "metadata": {},
   "source": [
    "## Counting vocabulary"
   ]
  },
  {
   "cell_type": "code",
   "execution_count": 12,
   "id": "ab26a657-50d1-4a73-8e63-7542715ab82d",
   "metadata": {},
   "outputs": [
    {
     "data": {
      "text/plain": [
       "44764"
      ]
     },
     "execution_count": 12,
     "metadata": {},
     "output_type": "execute_result"
    }
   ],
   "source": [
    "# get the number of tokens ( = words and punctuation symobls) in a text\n",
    "len(text3)"
   ]
  },
  {
   "cell_type": "code",
   "execution_count": 15,
   "id": "8a3c34a0-f713-4ffe-8083-a086bb50dd9f",
   "metadata": {},
   "outputs": [
    {
     "data": {
      "text/plain": [
       "2789"
      ]
     },
     "execution_count": 15,
     "metadata": {},
     "output_type": "execute_result"
    }
   ],
   "source": [
    "# get the token set of a text (each member is unique) - sorted alphabetically\n",
    "# sorted(set(text3))\n",
    "\n",
    "# get the number of unique tokens (= word type, type) in a text\n",
    "len(set(text3))"
   ]
  },
  {
   "cell_type": "code",
   "execution_count": 20,
   "id": "135adf7f-fc0f-4347-b9df-b8a68c172b9a",
   "metadata": {},
   "outputs": [
    {
     "data": {
      "text/plain": [
       "1.457806031353621"
      ]
     },
     "execution_count": 20,
     "metadata": {},
     "output_type": "execute_result"
    }
   ],
   "source": [
    "# measure of lexical richness\n",
    "len(set(text3)) / len(text3)\n",
    "\n",
    "# count # of occurances of a specific token\n",
    "text3.count(\"smote\")\n",
    "\n",
    "100 * text4.count('a') /  len(text4)"
   ]
  },
  {
   "cell_type": "code",
   "execution_count": 22,
   "id": "49fbb2ef-3b59-481d-839a-304b96900688",
   "metadata": {},
   "outputs": [
    {
     "data": {
      "text/plain": [
       "1.5640968673628082"
      ]
     },
     "execution_count": 22,
     "metadata": {},
     "output_type": "execute_result"
    }
   ],
   "source": [
    "100 * text5.count(\"lol\") / len(text5)"
   ]
  },
  {
   "cell_type": "code",
   "execution_count": 23,
   "id": "5995cede-f3d9-4481-8b89-540fa8a4840a",
   "metadata": {},
   "outputs": [],
   "source": [
    "def lexical_diversity(text):\n",
    "    return len(set(text)) / len(text)\n",
    "\n",
    "def percentage(count, total):\n",
    "    return 100 * count / total"
   ]
  },
  {
   "cell_type": "code",
   "execution_count": 25,
   "id": "34c1bb8c-4159-42c9-97be-52a52fda342a",
   "metadata": {},
   "outputs": [
    {
     "data": {
      "text/plain": [
       "0.06230453042623537"
      ]
     },
     "execution_count": 25,
     "metadata": {},
     "output_type": "execute_result"
    }
   ],
   "source": [
    "lexical_diversity(text3)"
   ]
  },
  {
   "cell_type": "code",
   "execution_count": 26,
   "id": "b1906d17-2248-4dc7-b833-e6deab37c11f",
   "metadata": {},
   "outputs": [
    {
     "data": {
      "text/plain": [
       "1.457806031353621"
      ]
     },
     "execution_count": 26,
     "metadata": {},
     "output_type": "execute_result"
    }
   ],
   "source": [
    "percentage(text4.count('a'), len(text4))"
   ]
  },
  {
   "cell_type": "markdown",
   "id": "6db4271e-6012-46da-88c3-6018ee385780",
   "metadata": {},
   "source": [
    "# Deeper look into the concepts"
   ]
  },
  {
   "cell_type": "code",
   "execution_count": 30,
   "id": "793907fc-789a-4191-b3eb-15fade81d6ce",
   "metadata": {},
   "outputs": [
    {
     "name": "stdout",
     "output_type": "stream",
     "text": [
      "['Fellow', '-', 'Citizens', 'of', 'the', 'Senate', 'and', 'of', 'the', 'House', 'of', 'Representatives', ':', 'Call', 'me', 'Ishmael', '.', 'Some']\n"
     ]
    }
   ],
   "source": [
    "# concatenation: when we add two lists together\n",
    "print(sent4 + sent1)\n",
    "\n",
    "# appending: when we add a singl element to a list\n",
    "sent1.append('Some')"
   ]
  },
  {
   "cell_type": "code",
   "execution_count": 32,
   "id": "b77a965f-26d4-4bd8-9915-5f49246de1ae",
   "metadata": {},
   "outputs": [
    {
     "name": "stdout",
     "output_type": "stream",
     "text": [
      "awaken\n",
      "173\n"
     ]
    }
   ],
   "source": [
    "# find a token by index\n",
    "print(text4[173])\n",
    "\n",
    "# or find the index by token\n",
    "print(text4.index('awaken'))"
   ]
  },
  {
   "cell_type": "code",
   "execution_count": 34,
   "id": "17dc07fe-c9dc-4f77-8380-abccc365c283",
   "metadata": {},
   "outputs": [
    {
     "data": {
      "text/plain": [
       "['U86',\n",
       " 'thats',\n",
       " 'why',\n",
       " 'something',\n",
       " 'like',\n",
       " 'gamefly',\n",
       " 'is',\n",
       " 'so',\n",
       " 'good',\n",
       " 'because',\n",
       " 'you',\n",
       " 'can',\n",
       " 'actually',\n",
       " 'play',\n",
       " 'a',\n",
       " 'full',\n",
       " 'game',\n",
       " 'without',\n",
       " 'buying',\n",
       " 'it']"
      ]
     },
     "execution_count": 34,
     "metadata": {},
     "output_type": "execute_result"
    }
   ],
   "source": [
    "# slicing\n",
    "text5[16715:16735]"
   ]
  },
  {
   "cell_type": "code",
   "execution_count": 36,
   "id": "1910b8c3-6bc1-4bc8-bae2-d7ea77289ced",
   "metadata": {},
   "outputs": [
    {
     "name": "stdout",
     "output_type": "stream",
     "text": [
      "['Call', 'me', 'Ishmael', '.', 'Some', 'Some']\n",
      "['Call', 'me', 'Yasaman', '.', 'Some', 'Some']\n"
     ]
    }
   ],
   "source": [
    "# modify tokens of a list\n",
    "print(sent1)\n",
    "sent1[2] = 'Yasaman'\n",
    "print(sent1)"
   ]
  },
  {
   "cell_type": "code",
   "execution_count": 37,
   "id": "70c88176-bd27-44d0-b635-9ea78e0f76ce",
   "metadata": {},
   "outputs": [
    {
     "name": "stdout",
     "output_type": "stream",
     "text": [
      "['Call', 'boo', 'baa', 'Some', 'Some']\n"
     ]
    }
   ],
   "source": [
    "# replace a slice with a new slice\n",
    "sent1[1:4] = ['boo', 'baa']\n",
    "print(sent1)"
   ]
  },
  {
   "cell_type": "code",
   "execution_count": 38,
   "id": "54aa610b-7498-4575-bcc9-7b169efdc1eb",
   "metadata": {},
   "outputs": [
    {
     "name": "stdout",
     "output_type": "stream",
     "text": [
      "M\n",
      "Mon\n"
     ]
    }
   ],
   "source": [
    "# strings\n",
    "# indexing and slicing\n",
    "name = 'Monty'\n",
    "print(name[0])\n",
    "print(name[:3])"
   ]
  },
  {
   "cell_type": "code",
   "execution_count": 39,
   "id": "7a5bf6f3-e168-42e4-af73-29eeffca89c7",
   "metadata": {},
   "outputs": [
    {
     "name": "stdout",
     "output_type": "stream",
     "text": [
      "MontyMontyMonty\n",
      "Monty!\n"
     ]
    }
   ],
   "source": [
    "# concatenation\n",
    "print(name*3)\n",
    "print(name+'!')"
   ]
  },
  {
   "cell_type": "code",
   "execution_count": 46,
   "id": "8cffffc4-9b3f-4046-abed-e58695ffd6f3",
   "metadata": {},
   "outputs": [
    {
     "data": {
      "text/plain": [
       "'Monty Python'"
      ]
     },
     "execution_count": 46,
     "metadata": {},
     "output_type": "execute_result"
    }
   ],
   "source": [
    "# join\n",
    "' '.join(['Monty', 'Python'])"
   ]
  },
  {
   "cell_type": "code",
   "execution_count": 45,
   "id": "83357bae-cfaf-48ae-ad6d-b1c38fb643bb",
   "metadata": {},
   "outputs": [
    {
     "data": {
      "text/plain": [
       "['Monty', 'Python']"
      ]
     },
     "execution_count": 45,
     "metadata": {},
     "output_type": "execute_result"
    }
   ],
   "source": [
    "# split\n",
    "'Monty Python'.split()"
   ]
  },
  {
   "cell_type": "markdown",
   "id": "7443c983-8672-4c59-8900-13f7c4d452d4",
   "metadata": {},
   "source": [
    "# Computing with Language: simple statistics"
   ]
  },
  {
   "cell_type": "code",
   "execution_count": 50,
   "id": "b8d9b2d4-0494-4628-b906-9472a6399c50",
   "metadata": {
    "scrolled": true
   },
   "outputs": [
    {
     "name": "stdout",
     "output_type": "stream",
     "text": [
      "<FreqDist with 19317 samples and 260819 outcomes>\n"
     ]
    },
    {
     "data": {
      "text/plain": [
       "[(',', 18713),\n",
       " ('the', 13721),\n",
       " ('.', 6862),\n",
       " ('of', 6536),\n",
       " ('and', 6024),\n",
       " ('a', 4569),\n",
       " ('to', 4542),\n",
       " (';', 4072),\n",
       " ('in', 3916),\n",
       " ('that', 2982),\n",
       " (\"'\", 2684),\n",
       " ('-', 2552),\n",
       " ('his', 2459),\n",
       " ('it', 2209),\n",
       " ('I', 2124),\n",
       " ('s', 1739),\n",
       " ('is', 1695),\n",
       " ('he', 1661),\n",
       " ('with', 1659),\n",
       " ('was', 1632),\n",
       " ('as', 1620),\n",
       " ('\"', 1478),\n",
       " ('all', 1462),\n",
       " ('for', 1414),\n",
       " ('this', 1280),\n",
       " ('!', 1269),\n",
       " ('at', 1231),\n",
       " ('by', 1137),\n",
       " ('but', 1113),\n",
       " ('not', 1103),\n",
       " ('--', 1070),\n",
       " ('him', 1058),\n",
       " ('from', 1052),\n",
       " ('be', 1030),\n",
       " ('on', 1005),\n",
       " ('so', 918),\n",
       " ('whale', 906),\n",
       " ('one', 889),\n",
       " ('you', 841),\n",
       " ('had', 767),\n",
       " ('have', 760),\n",
       " ('there', 715),\n",
       " ('But', 705),\n",
       " ('or', 697),\n",
       " ('were', 680),\n",
       " ('now', 646),\n",
       " ('which', 640),\n",
       " ('?', 637),\n",
       " ('me', 627),\n",
       " ('like', 624)]"
      ]
     },
     "execution_count": 50,
     "metadata": {},
     "output_type": "execute_result"
    }
   ],
   "source": [
    "# compute the frequency distribution of tokens in a text\n",
    "fdist1 = FreqDist(text1)\n",
    "print(fdist1)\n",
    "\n",
    "# print the 50 most common tokens and the # of their occurances\n",
    "fdist1.most_common(50)"
   ]
  },
  {
   "cell_type": "code",
   "execution_count": 51,
   "id": "6446b75f-3697-4695-805c-bb29e967ac2b",
   "metadata": {},
   "outputs": [
    {
     "data": {
      "text/plain": [
       "906"
      ]
     },
     "execution_count": 51,
     "metadata": {},
     "output_type": "execute_result"
    }
   ],
   "source": [
    "# print # of occurance of a specific token\n",
    "fdist1['whale']"
   ]
  },
  {
   "cell_type": "code",
   "execution_count": 53,
   "id": "9b5ca6a6-609f-4b14-8236-ea34fc990705",
   "metadata": {},
   "outputs": [
    {
     "data": {
      "image/png": "[encoded data removed]",
      "text/plain": [
       "<Figure size 640x480 with 1 Axes>"
      ]
     },
     "metadata": {},
     "output_type": "display_data"
    },
    {
     "data": {
      "text/plain": [
       "<Axes: xlabel='Samples', ylabel='Cumulative Counts'>"
      ]
     },
     "execution_count": 53,
     "metadata": {},
     "output_type": "execute_result"
    }
   ],
   "source": [
    "# draw a cumulative plot of the frequency distribution\n",
    "fdist1.plot(50, cumulative=True)"
   ]
  },
  {
   "cell_type": "code",
   "execution_count": 56,
   "id": "ee0acfc6-ea86-48ea-b451-8be03b2d305d",
   "metadata": {
    "scrolled": true
   },
   "outputs": [
    {
     "data": {
      "text/plain": [
       "9002"
      ]
     },
     "execution_count": 56,
     "metadata": {},
     "output_type": "execute_result"
    }
   ],
   "source": [
    "# print tokens that only appear ONCE in the text = hapaxes\n",
    "len(fdist1.hapaxes())"
   ]
  },
  {
   "cell_type": "code",
   "execution_count": 57,
   "id": "f800a4f3-5d2d-4d8e-b6e1-70297f7b14f5",
   "metadata": {},
   "outputs": [
    {
     "data": {
      "text/plain": [
       "['CIRCUMNAVIGATION',\n",
       " 'Physiognomically',\n",
       " 'apprehensiveness',\n",
       " 'cannibalistically',\n",
       " 'characteristically',\n",
       " 'circumnavigating',\n",
       " 'circumnavigation',\n",
       " 'circumnavigations',\n",
       " 'comprehensiveness',\n",
       " 'hermaphroditical',\n",
       " 'indiscriminately',\n",
       " 'indispensableness',\n",
       " 'irresistibleness',\n",
       " 'physiognomically',\n",
       " 'preternaturalness',\n",
       " 'responsibilities',\n",
       " 'simultaneousness',\n",
       " 'subterraneousness',\n",
       " 'supernaturalness',\n",
       " 'superstitiousness',\n",
       " 'uncomfortableness',\n",
       " 'uncompromisedness',\n",
       " 'undiscriminating',\n",
       " 'uninterpenetratingly']"
      ]
     },
     "execution_count": 57,
     "metadata": {},
     "output_type": "execute_result"
    }
   ],
   "source": [
    "# list the long tokens\n",
    "vocab = set(text1)\n",
    "long_words = [w for w in vocab if len(w) > 15]\n",
    "sorted(long_words)"
   ]
  },
  {
   "cell_type": "code",
   "execution_count": 58,
   "id": "07c49aa6-e520-445b-b81b-6b6dd7140ffe",
   "metadata": {},
   "outputs": [
    {
     "data": {
      "text/plain": [
       "['#14-19teens',\n",
       " '#talkcity_adults',\n",
       " '((((((((((',\n",
       " '........',\n",
       " 'Question',\n",
       " 'actually',\n",
       " 'anything',\n",
       " 'computer',\n",
       " 'cute.-ass',\n",
       " 'everyone',\n",
       " 'football',\n",
       " 'innocent',\n",
       " 'listening',\n",
       " 'remember',\n",
       " 'seriously',\n",
       " 'something',\n",
       " 'together',\n",
       " 'tomorrow',\n",
       " 'watching']"
      ]
     },
     "execution_count": 58,
     "metadata": {},
     "output_type": "execute_result"
    }
   ],
   "source": [
    "# find frequent long words to get a sense of a text's genre\n",
    "fdist5 = FreqDist(text5)\n",
    "sorted([word for word in set(text5) if len(word) > 7 and fdist5[word] > 7])"
   ]
  },
  {
   "cell_type": "markdown",
   "id": "da257465-fde4-4cc9-9c5d-c4c864a0ae70",
   "metadata": {},
   "source": [
    "## collocations and bigrams"
   ]
  },
  {
   "cell_type": "code",
   "execution_count": 61,
   "id": "daedabd5-e05b-4f6e-870b-e746e7adb145",
   "metadata": {},
   "outputs": [
    {
     "data": {
      "text/plain": [
       "[('more', 'is'), ('is', 'said'), ('said', 'than'), ('than', 'done')]"
      ]
     },
     "execution_count": 61,
     "metadata": {},
     "output_type": "execute_result"
    }
   ],
   "source": [
    "# get a list of all bigrams \n",
    "list(bigrams(['more', 'is', 'said', 'than', 'done']))"
   ]
  },
  {
   "cell_type": "code",
   "execution_count": 62,
   "id": "366bd4af-bd10-4f92-b857-89e5cf766719",
   "metadata": {},
   "outputs": [
    {
     "name": "stdout",
     "output_type": "stream",
     "text": [
      "United States; fellow citizens; years ago; four years; Federal\n",
      "Government; General Government; American people; Vice President; God\n",
      "bless; Chief Justice; one another; fellow Americans; Old World;\n",
      "Almighty God; Fellow citizens; Chief Magistrate; every citizen; Indian\n",
      "tribes; public debt; foreign nations\n"
     ]
    }
   ],
   "source": [
    "# collocation: a frequent bigram with rare members - bigram that occurs more than expected based on the frequency of individual words\n",
    "# find collocations of a text\n",
    "text4.collocations()"
   ]
  },
  {
   "cell_type": "code",
   "execution_count": 66,
   "id": "2e581fb6-d95e-46db-911b-62a2c0b4c57c",
   "metadata": {},
   "outputs": [
    {
     "name": "stdout",
     "output_type": "stream",
     "text": [
      "said unto; pray thee; thou shalt; thou hast; thy seed; years old;\n",
      "spake unto; thou art; LORD God; every living; God hath; begat sons;\n",
      "seven years; shalt thou; little ones; living creature; creeping thing;\n",
      "savoury meat; thirty years; every beast\n"
     ]
    }
   ],
   "source": [
    "text3.collocations()"
   ]
  },
  {
   "cell_type": "markdown",
   "id": "a1c495bd-9aec-4598-b22a-e19ba2f8a14c",
   "metadata": {},
   "source": [
    "## Counting other things"
   ]
  },
  {
   "cell_type": "code",
   "execution_count": 73,
   "id": "f2b1f66f-8c04-4696-ab61-e8325388507a",
   "metadata": {},
   "outputs": [
    {
     "data": {
      "text/plain": [
       "FreqDist({3: 28839, 2: 24826, 1: 23009, 4: 21352, 5: 11438, 6: 9507, 7: 8158, 8: 5676, 9: 3736, 10: 2596, ...})"
      ]
     },
     "execution_count": 73,
     "metadata": {},
     "output_type": "execute_result"
    }
   ],
   "source": [
    "# freq dist of the lengths of words in a text\n",
    "word_lengths = [len(w) for w in text2]\n",
    "fdist = FreqDist(word_lengths)\n",
    "fdist"
   ]
  },
  {
   "cell_type": "code",
   "execution_count": 74,
   "id": "c0d01167-08c6-48e0-8268-ab2e8b416cf1",
   "metadata": {},
   "outputs": [
    {
     "data": {
      "image/png": "[encoded data removed]",
      "text/plain": [
       "<Figure size 640x480 with 1 Axes>"
      ]
     },
     "metadata": {},
     "output_type": "display_data"
    },
    {
     "data": {
      "text/plain": [
       "<Axes: xlabel='Samples', ylabel='Counts'>"
      ]
     },
     "execution_count": 74,
     "metadata": {},
     "output_type": "execute_result"
    }
   ],
   "source": [
    "fdist.plot(50, cumulative=False)"
   ]
  },
  {
   "cell_type": "code",
   "execution_count": 76,
   "id": "268dd595-5e9f-47ab-bcc0-779200172544",
   "metadata": {},
   "outputs": [
    {
     "name": "stdout",
     "output_type": "stream",
     "text": [
      "3\n"
     ]
    }
   ],
   "source": [
    "# print the most common length\n",
    "print(fdist.max())"
   ]
  },
  {
   "cell_type": "code",
   "execution_count": 77,
   "id": "58d2099d-a351-496f-9cf7-19cf095b27f7",
   "metadata": {},
   "outputs": [
    {
     "name": "stdout",
     "output_type": "stream",
     "text": [
      "[(3, 28839), (2, 24826), (1, 23009), (4, 21352), (5, 11438), (6, 9507), (7, 8158), (8, 5676), (9, 3736), (10, 2596), (11, 1278), (12, 711), (13, 334), (14, 87), (15, 24), (17, 3), (16, 2)]\n"
     ]
    }
   ],
   "source": [
    "# print the most common lengths\n",
    "print(fdist.most_common())"
   ]
  },
  {
   "cell_type": "code",
   "execution_count": 78,
   "id": "27be3213-e7a5-42da-803d-8a211e2dd1bc",
   "metadata": {},
   "outputs": [
    {
     "data": {
      "text/plain": [
       "28839"
      ]
     },
     "execution_count": 78,
     "metadata": {},
     "output_type": "execute_result"
    }
   ],
   "source": [
    "# print the frequency of a specific length\n",
    "fdist[3]"
   ]
  },
  {
   "cell_type": "code",
   "execution_count": 79,
   "id": "c50870dd-d130-43db-bf20-aff810b23053",
   "metadata": {},
   "outputs": [
    {
     "data": {
      "text/plain": [
       "0.20369977962366503"
      ]
     },
     "execution_count": 79,
     "metadata": {},
     "output_type": "execute_result"
    }
   ],
   "source": [
    "# print the percentage of the whole that a specific length constitutes\n",
    "fdist.freq(3)"
   ]
  },
  {
   "cell_type": "code",
   "execution_count": 80,
   "id": "25560c3e-ea41-424d-b599-a1fe9b89aa9e",
   "metadata": {},
   "outputs": [
    {
     "data": {
      "text/plain": [
       "141576"
      ]
     },
     "execution_count": 80,
     "metadata": {},
     "output_type": "execute_result"
    }
   ],
   "source": [
    "# total number of samples\n",
    "fdist.N()"
   ]
  },
  {
   "cell_type": "code",
   "execution_count": 81,
   "id": "33371664-ef24-44fc-9cbb-4e27367a6eae",
   "metadata": {},
   "outputs": [
    {
     "name": "stdout",
     "output_type": "stream",
     "text": [
      "    3     2     1     4     5     6     7     8     9    10    11    12    13    14    15    17    16 \n",
      "28839 24826 23009 21352 11438  9507  8158  5676  3736  2596  1278   711   334    87    24     3     2 \n"
     ]
    }
   ],
   "source": [
    "fdist.tabulate()"
   ]
  },
  {
   "cell_type": "markdown",
   "id": "3a5afa77-bcee-4cb2-8082-22f29b6a4a3d",
   "metadata": {},
   "source": [
    "## Common functions of fdist\n",
    "Example                       Description\n",
    "fdist = FreqDist(samples)\t  create a frequency distribution containing the given samples\n",
    "\n",
    "fdist[sample] += 1\t          increment the count for this sample\n",
    "\n",
    "fdist['monstrous']\t           count of the number of times a given sample occurred\n",
    "\n",
    "fdist.freq('monstrous')\t         frequency of a given sample\n",
    "\n",
    "fdist.N()\t                    total number of samples\n",
    "\n",
    "fdist.most_common(n)\t       the n most common samples and their frequencies\n",
    "\n",
    "for sample in fdist:\t        iterate over the samples\n",
    "\n",
    "fdist.max()\t                   sample with the greatest count\n",
    "\n",
    "fdist.tabulate()\t          tabulate the frequency distribution\n",
    "\n",
    "fdist.plot()\t              graphical plot of the frequency distribution\n",
    "\n",
    "fdist.plot(cumulative=True)\t  cumulative plot of the frequency distribution\n",
    "\n",
    "fdist1 |= fdist2\t          update fdist1 with counts from fdist2\n",
    "\n",
    "fdist1 < fdist2\t               test if samples in fdist1 occur less frequently than in fdist2"
   ]
  }
 ],
 "metadata": {
  "kernelspec": {
   "display_name": "Python 3 (ipykernel)",
   "language": "python",
   "name": "python3"
  },
  "language_info": {
   "codemirror_mode": {
    "name": "ipython",
    "version": 3
   },
   "file_extension": ".py",
   "mimetype": "text/x-python",
   "name": "python",
   "nbconvert_exporter": "python",
   "pygments_lexer": "ipython3",
   "version": "3.9.13"
  }
 },
 "nbformat": 4,
 "nbformat_minor": 5
}
