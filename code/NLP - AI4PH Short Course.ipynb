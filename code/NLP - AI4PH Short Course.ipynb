{
 "cells": [
  {
   "cell_type": "markdown",
   "metadata": {
    "slideshow": {
     "slide_type": "slide"
    }
   },
   "source": [
    "# Natural Language Processing\n",
    "\n",
    "**AI4PH Short Course**  \n",
    "Fall 2023\n",
    "\n",
    "**Joon Lee, PhD**  \n",
    "Associate Professor  \n",
    "[Data Intelligence for Health Lab](https://cumming.ucalgary.ca/dih)  \n",
    "Cumming School of Medicine    \n",
    "University of Calgary"
   ]
  },
  {
   "cell_type": "markdown",
   "metadata": {
    "slideshow": {
     "slide_type": "slide"
    }
   },
   "source": [
    "# Natural Language Processing (NLP)\n",
    "* About interactions between computers and human languages\n",
    "* An important topic in informatics because much data, information, and knowledge is in natural language"
   ]
  },
  {
   "cell_type": "markdown",
   "metadata": {
    "slideshow": {
     "slide_type": "slide"
    }
   },
   "source": [
    "# Learning Objectives\n",
    "\n",
    "Learn:\n",
    "1. How to pre-process raw text data\n",
    "2. How to perform part-of-speech tagging\n",
    "3. How to develop simple machine learning-based text classification and prediction models"
   ]
  },
  {
   "cell_type": "markdown",
   "metadata": {
    "slideshow": {
     "slide_type": "slide"
    }
   },
   "source": [
    "# Reference for This Course\n",
    "NLTK Book (mostly Chapters 3, 5, and 6): http://www.nltk.org/book"
   ]
  },
  {
   "cell_type": "markdown",
   "metadata": {
    "slideshow": {
     "slide_type": "slide"
    }
   },
   "source": [
    "# How to Run This Notebook\n",
    "* On your local machine if you have Python and Jupyter Notebook installed, or\n",
    "* On Google Colab (https://colab.research.google.com/)"
   ]
  },
  {
   "cell_type": "markdown",
   "metadata": {
    "slideshow": {
     "slide_type": "slide"
    }
   },
   "source": [
    "# Some Terminology\n",
    "\n",
    "![text data hierarchy](https://miro.medium.com/max/1400/1*f9XQxMUDkYkquZDDcccEJA.png)\n",
    "\n",
    "Image: https://medium.com/@amitrani/an-overview-of-nlp-fe597ed7e8b6"
   ]
  },
  {
   "cell_type": "markdown",
   "metadata": {
    "slideshow": {
     "slide_type": "slide"
    }
   },
   "source": [
    "# Package Installation"
   ]
  },
  {
   "cell_type": "code",
   "execution_count": 1,
   "metadata": {
    "slideshow": {
     "slide_type": "slide"
    }
   },
   "outputs": [
    {
     "name": "stdout",
     "output_type": "stream",
     "text": [
      "Requirement already satisfied: nltk in /opt/conda/lib/python3.10/site-packages (3.8.1)\n",
      "Requirement already satisfied: wikipedia in /opt/conda/lib/python3.10/site-packages (1.4.0)\n",
      "Requirement already satisfied: gensim in /opt/conda/lib/python3.10/site-packages (4.3.2)\n",
      "Requirement already satisfied: click in /opt/conda/lib/python3.10/site-packages (from nltk) (8.1.5)\n",
      "Requirement already satisfied: joblib in /opt/conda/lib/python3.10/site-packages (from nltk) (1.3.0)\n",
      "Requirement already satisfied: regex>=2021.8.3 in /opt/conda/lib/python3.10/site-packages (from nltk) (2023.10.3)\n",
      "Requirement already satisfied: tqdm in /opt/conda/lib/python3.10/site-packages (from nltk) (4.65.0)\n",
      "Requirement already satisfied: beautifulsoup4 in /opt/conda/lib/python3.10/site-packages (from wikipedia) (4.12.2)\n",
      "Requirement already satisfied: requests<3.0.0,>=2.0.0 in /opt/conda/lib/python3.10/site-packages (from wikipedia) (2.31.0)\n",
      "Requirement already satisfied: numpy>=1.18.5 in /opt/conda/lib/python3.10/site-packages (from gensim) (1.24.3)\n",
      "Requirement already satisfied: scipy>=1.7.0 in /opt/conda/lib/python3.10/site-packages (from gensim) (1.11.1)\n",
      "Requirement already satisfied: smart-open>=1.8.1 in /opt/conda/lib/python3.10/site-packages (from gensim) (6.4.0)\n",
      "Requirement already satisfied: charset-normalizer<4,>=2 in /opt/conda/lib/python3.10/site-packages (from requests<3.0.0,>=2.0.0->wikipedia) (3.2.0)\n",
      "Requirement already satisfied: idna<4,>=2.5 in /opt/conda/lib/python3.10/site-packages (from requests<3.0.0,>=2.0.0->wikipedia) (3.4)\n",
      "Requirement already satisfied: urllib3<3,>=1.21.1 in /opt/conda/lib/python3.10/site-packages (from requests<3.0.0,>=2.0.0->wikipedia) (1.26.16)\n",
      "Requirement already satisfied: certifi>=2017.4.17 in /opt/conda/lib/python3.10/site-packages (from requests<3.0.0,>=2.0.0->wikipedia) (2023.5.7)\n",
      "Requirement already satisfied: soupsieve>1.2 in /opt/conda/lib/python3.10/site-packages (from beautifulsoup4->wikipedia) (2.3.2.post1)\n"
     ]
    }
   ],
   "source": [
    "# run the line below if you don't have these packages installed\n",
    "\n",
    "!pip install nltk wikipedia gensim"
   ]
  },
  {
   "cell_type": "code",
   "execution_count": 2,
   "metadata": {
    "slideshow": {
     "slide_type": "slide"
    }
   },
   "outputs": [
    {
     "name": "stderr",
     "output_type": "stream",
     "text": [
      "[nltk_data] Downloading package brown to /home/joonwu.lee/nltk_data...\n",
      "[nltk_data]   Package brown is already up-to-date!\n",
      "[nltk_data] Downloading package punkt to /home/joonwu.lee/nltk_data...\n",
      "[nltk_data]   Package punkt is already up-to-date!\n",
      "[nltk_data] Downloading package stopwords to\n",
      "[nltk_data]     /home/joonwu.lee/nltk_data...\n",
      "[nltk_data]   Package stopwords is already up-to-date!\n",
      "[nltk_data] Downloading package averaged_perceptron_tagger to\n",
      "[nltk_data]     /home/joonwu.lee/nltk_data...\n",
      "[nltk_data]   Package averaged_perceptron_tagger is already up-to-\n",
      "[nltk_data]       date!\n",
      "[nltk_data] Downloading package tagsets to\n",
      "[nltk_data]     /home/joonwu.lee/nltk_data...\n",
      "[nltk_data]   Package tagsets is already up-to-date!\n",
      "[nltk_data] Downloading package vader_lexicon to\n",
      "[nltk_data]     /home/joonwu.lee/nltk_data...\n",
      "[nltk_data]   Package vader_lexicon is already up-to-date!\n",
      "[nltk_data] Downloading package names to /home/joonwu.lee/nltk_data...\n",
      "[nltk_data]   Package names is already up-to-date!\n",
      "[nltk_data] Downloading package treebank to\n",
      "[nltk_data]     /home/joonwu.lee/nltk_data...\n",
      "[nltk_data]   Package treebank is already up-to-date!\n",
      "[nltk_data] Downloading package movie_reviews to\n",
      "[nltk_data]     /home/joonwu.lee/nltk_data...\n",
      "[nltk_data]   Package movie_reviews is already up-to-date!\n"
     ]
    },
    {
     "data": {
      "text/plain": [
       "True"
      ]
     },
     "execution_count": 2,
     "metadata": {},
     "output_type": "execute_result"
    }
   ],
   "source": [
    "# download some more stuff from NLTK that will be used in this session\n",
    "\n",
    "import nltk\n",
    "\n",
    "nltk.download('brown')\n",
    "nltk.download('punkt')\n",
    "nltk.download('stopwords')\n",
    "nltk.download('averaged_perceptron_tagger')\n",
    "nltk.download('tagsets')\n",
    "nltk.download('vader_lexicon')\n",
    "nltk.download('names')\n",
    "nltk.download('treebank')\n",
    "nltk.download('movie_reviews')"
   ]
  },
  {
   "cell_type": "code",
   "execution_count": 3,
   "metadata": {
    "slideshow": {
     "slide_type": "slide"
    }
   },
   "outputs": [],
   "source": [
    "# import all packages used in this course\n",
    "\n",
    "from nltk.corpus import brown\n",
    "from nltk.corpus import stopwords\n",
    "from nltk.corpus import names\n",
    "from nltk.corpus import movie_reviews\n",
    "from nltk.sentiment import SentimentIntensityAnalyzer\n",
    "import wikipedia\n",
    "import gensim\n",
    "import gensim.downloader\n",
    "import string\n",
    "import re\n",
    "import math\n",
    "import operator\n",
    "import random"
   ]
  },
  {
   "cell_type": "markdown",
   "metadata": {
    "slideshow": {
     "slide_type": "slide"
    }
   },
   "source": [
    "# Basic String Operations"
   ]
  },
  {
   "cell_type": "code",
   "execution_count": 4,
   "metadata": {
    "slideshow": {
     "slide_type": "slide"
    }
   },
   "outputs": [
    {
     "data": {
      "text/plain": [
       "5"
      ]
     },
     "execution_count": 4,
     "metadata": {},
     "output_type": "execute_result"
    }
   ],
   "source": [
    "# in Python, each string is a list of characters\n",
    "# either single or double quotation is fine\n",
    "\n",
    "str = 'AI4PH'\n",
    "len(str)"
   ]
  },
  {
   "cell_type": "code",
   "execution_count": 5,
   "metadata": {
    "slideshow": {
     "slide_type": "slide"
    }
   },
   "outputs": [
    {
     "data": {
      "text/plain": [
       "'A'"
      ]
     },
     "execution_count": 5,
     "metadata": {},
     "output_type": "execute_result"
    }
   ],
   "source": [
    "# zero indexed\n",
    "\n",
    "str[0]"
   ]
  },
  {
   "cell_type": "code",
   "execution_count": 6,
   "metadata": {
    "slideshow": {
     "slide_type": "slide"
    }
   },
   "outputs": [
    {
     "data": {
      "text/plain": [
       "'PH'"
      ]
     },
     "execution_count": 6,
     "metadata": {},
     "output_type": "execute_result"
    }
   ],
   "source": [
    "# another indexing example\n",
    "\n",
    "str[-2:]"
   ]
  },
  {
   "cell_type": "code",
   "execution_count": 7,
   "metadata": {
    "slideshow": {
     "slide_type": "slide"
    }
   },
   "outputs": [
    {
     "data": {
      "text/plain": [
       "['a', ' b', ' c', ' d']"
      ]
     },
     "execution_count": 7,
     "metadata": {},
     "output_type": "execute_result"
    }
   ],
   "source": [
    "# break a string into pieces\n",
    "\n",
    "longer_str = 'a, b, c, d'\n",
    "longer_str.split(',')"
   ]
  },
  {
   "cell_type": "code",
   "execution_count": 8,
   "metadata": {
    "slideshow": {
     "slide_type": "slide"
    }
   },
   "outputs": [
    {
     "data": {
      "text/plain": [
       "['a', 'b', 'c', 'd']"
      ]
     },
     "execution_count": 8,
     "metadata": {},
     "output_type": "execute_result"
    }
   ],
   "source": [
    "# get rid of whitespaces using list comprehension\n",
    "\n",
    "[x.strip() for x in longer_str.split(',')]"
   ]
  },
  {
   "cell_type": "code",
   "execution_count": 9,
   "metadata": {
    "slideshow": {
     "slide_type": "slide"
    }
   },
   "outputs": [
    {
     "data": {
      "text/plain": [
       "3"
      ]
     },
     "execution_count": 9,
     "metadata": {},
     "output_type": "execute_result"
    }
   ],
   "source": [
    "# find a substring\n",
    "# index is returned\n",
    "\n",
    "longer_str.find('b')"
   ]
  },
  {
   "cell_type": "code",
   "execution_count": 10,
   "metadata": {
    "slideshow": {
     "slide_type": "slide"
    }
   },
   "outputs": [
    {
     "data": {
      "text/plain": [
       "'a|b|c|d'"
      ]
     },
     "execution_count": 10,
     "metadata": {},
     "output_type": "execute_result"
    }
   ],
   "source": [
    "# replace a substring\n",
    "\n",
    "longer_str.replace(', ', '|')"
   ]
  },
  {
   "cell_type": "code",
   "execution_count": 11,
   "metadata": {
    "slideshow": {
     "slide_type": "slide"
    }
   },
   "outputs": [
    {
     "data": {
      "text/plain": [
       "'abc'"
      ]
     },
     "execution_count": 11,
     "metadata": {},
     "output_type": "execute_result"
    }
   ],
   "source": [
    "# convert to lowercase\n",
    "\n",
    "'ABC'.lower()"
   ]
  },
  {
   "cell_type": "code",
   "execution_count": 12,
   "metadata": {
    "slideshow": {
     "slide_type": "slide"
    }
   },
   "outputs": [
    {
     "data": {
      "text/plain": [
       "'ABC'"
      ]
     },
     "execution_count": 12,
     "metadata": {},
     "output_type": "execute_result"
    }
   ],
   "source": [
    "# convert to uppercase\n",
    "\n",
    "'abc'.upper()"
   ]
  },
  {
   "cell_type": "code",
   "execution_count": 13,
   "metadata": {
    "slideshow": {
     "slide_type": "slide"
    }
   },
   "outputs": [
    {
     "name": "stdout",
     "output_type": "stream",
     "text": [
      "Artificial Intelligence\n"
     ]
    }
   ],
   "source": [
    "# concatenate\n",
    "\n",
    "s1 = 'Artificial'\n",
    "s2 = 'Intelligence'\n",
    "print(s1 + \" \" + s2)"
   ]
  },
  {
   "cell_type": "markdown",
   "metadata": {
    "slideshow": {
     "slide_type": "slide"
    }
   },
   "source": [
    "# Example Text Data"
   ]
  },
  {
   "cell_type": "code",
   "execution_count": 14,
   "metadata": {
    "slideshow": {
     "slide_type": "slide"
    }
   },
   "outputs": [
    {
     "name": "stdout",
     "output_type": "stream",
     "text": [
      "['The', 'Fulton', 'County', 'Grand', 'Jury', 'said', 'Friday', 'an', 'investigation', 'of']\n",
      "1161192\n"
     ]
    }
   ],
   "source": [
    "# NLTK has many text data sets\n",
    "# let's use a corpus called \"brown\"\n",
    "\n",
    "brown_words = brown.words()\n",
    "print(brown_words[:10])\n",
    "print(len(brown_words))"
   ]
  },
  {
   "cell_type": "code",
   "execution_count": 15,
   "metadata": {
    "slideshow": {
     "slide_type": "slide"
    }
   },
   "outputs": [
    {
     "name": "stdout",
     "output_type": "stream",
     "text": [
      "[['The', 'Fulton', 'County', 'Grand', 'Jury', 'said', 'Friday', 'an', 'investigation', 'of', \"Atlanta's\", 'recent', 'primary', 'election', 'produced', '``', 'no', 'evidence', \"''\", 'that', 'any', 'irregularities', 'took', 'place', '.'], ['The', 'jury', 'further', 'said', 'in', 'term-end', 'presentments', 'that', 'the', 'City', 'Executive', 'Committee', ',', 'which', 'had', 'over-all', 'charge', 'of', 'the', 'election', ',', '``', 'deserves', 'the', 'praise', 'and', 'thanks', 'of', 'the', 'City', 'of', 'Atlanta', \"''\", 'for', 'the', 'manner', 'in', 'which', 'the', 'election', 'was', 'conducted', '.'], ['The', 'September-October', 'term', 'jury', 'had', 'been', 'charged', 'by', 'Fulton', 'Superior', 'Court', 'Judge', 'Durwood', 'Pye', 'to', 'investigate', 'reports', 'of', 'possible', '``', 'irregularities', \"''\", 'in', 'the', 'hard-fought', 'primary', 'which', 'was', 'won', 'by', 'Mayor-nominate', 'Ivan', 'Allen', 'Jr.', '.'], ['``', 'Only', 'a', 'relative', 'handful', 'of', 'such', 'reports', 'was', 'received', \"''\", ',', 'the', 'jury', 'said', ',', '``', 'considering', 'the', 'widespread', 'interest', 'in', 'the', 'election', ',', 'the', 'number', 'of', 'voters', 'and', 'the', 'size', 'of', 'this', 'city', \"''\", '.'], ['The', 'jury', 'said', 'it', 'did', 'find', 'that', 'many', 'of', \"Georgia's\", 'registration', 'and', 'election', 'laws', '``', 'are', 'outmoded', 'or', 'inadequate', 'and', 'often', 'ambiguous', \"''\", '.']]\n",
      "57340\n"
     ]
    }
   ],
   "source": [
    "# get sentences\n",
    "\n",
    "brown_sents = brown.sents()\n",
    "print(brown_sents[:5])\n",
    "print(len(brown_sents))"
   ]
  },
  {
   "cell_type": "code",
   "execution_count": 16,
   "metadata": {
    "slideshow": {
     "slide_type": "slide"
    }
   },
   "outputs": [
    {
     "data": {
      "text/plain": [
       "'Public health'"
      ]
     },
     "execution_count": 16,
     "metadata": {},
     "output_type": "execute_result"
    }
   ],
   "source": [
    "# wikipeida package allows you to directly import wikipedia pages\n",
    "\n",
    "ph = wikipedia.page(\"Public Health\")\n",
    "ph.title"
   ]
  },
  {
   "cell_type": "code",
   "execution_count": 17,
   "metadata": {
    "slideshow": {
     "slide_type": "slide"
    }
   },
   "outputs": [
    {
     "data": {
      "text/plain": [
       "'Public health is \"the science and art of preventing disease, prolonging life and promoting health through the organized efforts and informed choices of society, organizations, public and private, communities and individuals\". Analyzing the determinants of health of a population and the threats it faces is the basis for public health. The public can be as small as a handful of people or as large as a village or an entire city; in the case of a pandemic it may encompass several continents. The concept of health takes into account physical, psychological, and social well-being.Public health is an interdisciplinary field. For example, epidemiology, biostatistics, social sciences and management of health services are all relevant. Other important sub-fields include environmental health, community health, behavioral health, health economics, public policy, mental health, health education, health politics, occupational safety, disability, oral health, gender issues in health, and sexual and reproductive health. Public health, together with primary care, secondary care, and tertiary care, is part of a country\\'s overall healthcare system. Public health is implemented through the surveillance of cases and health indicators, and through the promotion of healthy behaviors. Common public health initiatives include promotion of hand-washing and breastfeeding, delivery of vaccinations, promoting ventilation and improved air quality both indoors and outdoors, suicide prevention, smoking cessation, obesity education, increasing healthcare accessibility and distribution of condoms to control the spread of sexually transmitted diseases.\\nThere is a significant disparity in access to health care and public health initiatives between developed countries and developing countries, as well as within developing countries. In developing countries, public health infrastructures are still forming. There may not be enough trained healthcare workers, monetary resources, or, in some cases, sufficient knowledge to provide even a basic level of medical care and disease prevention. A major public health concern in developing countries is poor maternal and child health, exacerbated by malnutrition and poverty coupled with governments\\' reluctance in implementing public health policies.\\nFrom the beginnings of human civilization, communities promoted health and fought disease at the population level. In complex, pre-industrialized societies, interventions designed to reduce health risks could be the initiative of different stakeholders, such as army generals, the clergy or rulers. Great Britain became a leader in the development of public health initiatives, beginning in the 19th century, due to the fact that it was the first modern urban nation worldwide. The public health initiatives that began to emerge initially focused on sanitation (for example, the Liverpool and London sewerage systems), control of infectious diseases (including vaccination and quarantine) and an evolving infrastructure of various sciences, e.g. statistics, microbiology, epidemiology, sciences of engineering.'"
      ]
     },
     "execution_count": 17,
     "metadata": {},
     "output_type": "execute_result"
    }
   ],
   "source": [
    "# summary at the top of the wikipedia page\n",
    "\n",
    "ph.summary"
   ]
  },
  {
   "cell_type": "code",
   "execution_count": 18,
   "metadata": {
    "slideshow": {
     "slide_type": "slide"
    }
   },
   "outputs": [
    {
     "data": {
      "text/plain": [
       "'https://en.wikipedia.org/wiki/Public_health'"
      ]
     },
     "execution_count": 18,
     "metadata": {},
     "output_type": "execute_result"
    }
   ],
   "source": [
    "# URL of the wikipedia page\n",
    "\n",
    "ph.url"
   ]
  },
  {
   "cell_type": "code",
   "execution_count": 19,
   "metadata": {
    "slideshow": {
     "slide_type": "slide"
    }
   },
   "outputs": [
    {
     "name": "stdout",
     "output_type": "stream",
     "text": [
      "Public health is \"the science and art of preventing disease, prolonging life and promoting health through the organized efforts and informed choices of society, organizations, public and private, communities and individuals\". Analyzing the determinants of health of a population and the threats it faces is the basis for public health. The public can be as small as a handful of people or as large as a village or an entire city; in the case of a pandemic it may encompass several continents. The concept of health takes into account physical, psychological, and social well-being.Public health is an interdisciplinary field. For example, epidemiology, biostatistics, social sciences and management of health services are all relevant. Other important sub-fields include environmental health, community health, behavioral health, health economics, public policy, mental health, health education, health politics, occupational safety, disability, oral health, gender issues in health, and sexual and reproductive health. Public health, together with primary care, secondary care, and tertiary care, is part of a country's overall healthcare system. Public health is implemented through the surveillance of cases and health indicators, and through the promotion of healthy behaviors. Common public health initiatives include promotion of hand-washing and breastfeeding, delivery of vaccinations, promoting ventilation and improved air quality both indoors and outdoors, suicide prevention, smoking cessation, obesity education, increasing healthcare accessibility and distribution of condoms to control the spread of sexually transmitted diseases.\n",
      "There is a significant disparity in access to health care and public health initiatives between developed countries and developing countries, as well as within developing countries. In developing countries, public health infrastructures are still forming. There may not be enough trained healthcare workers, monetary resources, or, in some cases, sufficient knowledge to provide even a basic level of medical care and disease prevention. A major public health concern in developing countries is poor maternal and child health, exacerbated by malnutrition and poverty coupled with governments' reluctance in implementing public health policies.\n",
      "From the beginnings of human civilization, communities promoted health and fought disease at the population level. In complex, pre-industrialized societies, interventions designed to reduce health risks could be the initiative of different stakeholders, such as army generals, the clergy or rulers. Great Britain became a leader in the development of public health initiatives, beginning in the 19th century, due to the fact that it was the first modern urban nation worldwide. The public health initiatives that began to emerge initially focused on sanitation (for example, the Liverpool and London sewerage systems), control of infectious diseases (including vaccination and quarantine) and an evolving infrastructure of various sciences, e.g. statistics, microbiology, epidemiology, sciences of engineering.\n",
      "\n",
      "\n",
      "== Definitions and purposes ==\n",
      "\n",
      "\n",
      "=== Definition ===\n",
      "Public health has been defined as \"the science and art of preventing disease\", prolonging life and improving quality of life through organized efforts and informed choices of society, organizations (public and private), communities and individuals.  The public can be as small as a handful of people or as large as a village or an entire city. The concept of health takes into account physical, psychological, and social well-being. As such, according to the World Health Organization, \"health is a state of complete physical, mental and social well-being and not merely the absence of disease or infirmity\".\n",
      "\n",
      "\n",
      "=== Related terms ===\n",
      "Public health is related to global health which is the health of populations in the worldwide context. It has been defined as \"the area of study, research and practice that places a priority on improving health and achieving equity in \"Health for all\" people worldwide\". International health is a field of health care, usually with a public health emphasis, dealing with health across regional or national boundaries. Public health is not the same as public healthcare (publicly funded health care).\n",
      "The term preventive medicine is related to public health. The American Board of Preventive Medicine separates three categories of preventive medicine: aerospace health, occupational health, and public health and general preventative medicine. Jung, Boris and Lushniak argue that preventive medicine should be considered the medical specialty for public health but note that the American College of Preventive Medicine and American Board of Preventive Medicine do not prominently use the term \"public health\".: 1  Preventive medicine specialists are trained as clinicians and address complex health needs of a population such as by assessing the need for disease prevention programs, using the best methods to implement them, and assessing their effectiveness.: 1, 3 Since the 1990s many scholars in public health have been using the term population health.: 3  There are no medical specialties directly related to population health.: 4  Valles argues that consideration of health equity is a fundamental part of population health. Scholars such as Coggon and Pielke express concerns about bringing general issues of wealth distribution into population health. Pielke worries about \"stealth issue advocacy\" in population health.: 163  Jung, Boris and Lushniak consider population health to be a concept that is the goal of an activity called public health practiced through the specialty preventive medicine.: 4 Lifestyle medicine uses individual lifestyle modification to prevent or revert disease and can be considered a component of preventive medicine and public health. It is implemented as part of primary care rather than a specialty in its own right.: 3  Valles argues that the term social medicine has a narrower and more biomedical focus than the term population health.: 7 \n",
      "\n",
      "\n",
      "=== Purposes ===\n",
      "The purpose of a public health intervention is to prevent and mitigate diseases, injuries and other health conditions. The overall goal is to improve the health of populations and increase life expectancy.\n",
      "\n",
      "\n",
      "=== Characteristics and components ===\n",
      "Public health is a complex term, composed of many elements and different practices. It is a multi-faceted, interdisciplinary field. For example, epidemiology, biostatistics, social sciences and management of health services are all relevant. Other important sub-fields include environmental health, community health, behavioral health, health economics, public policy, mental health, health education, health politics, occupational safety, disability, gender issues in health, and sexual and reproductive health.Modern public health practice requires multidisciplinary teams of public health workers and professionals. Teams might include epidemiologists, biostatisticians, physician assistants, public health nurses, midwives, medical microbiologists, pharmacists, economists, sociologists, geneticists, data managers, environmental health officers (public health inspectors), bioethicists, gender experts, sexual and reproductive health specialists, physicians, and veterinarians.The elements and priorities of public health have evolved over time, and are continuing to evolve. Different regions in the world can have different public health concerns at a given time.Common public health initiatives include promotion of hand-washing and breastfeeding, delivery of vaccinations, suicide prevention, smoking cessation, obesity education, increasing healthcare accessibility and distribution of condoms to control the spread of sexually transmitted diseases.\n",
      "\n",
      "\n",
      "== Methods ==\n",
      "Public health aims are achieved through surveillance of cases and the promotion of healthy behaviors, communities and environments. Analyzing the determinants of health of a population and the threats it faces is the basis for public health.Many diseases are preventable through simple, nonmedical methods. For example, research has shown that the simple act of handwashing with soap can prevent the spread of many contagious diseases. In other cases, treating a disease or controlling a pathogen can be vital to preventing its spread to others, either during an outbreak of infectious disease or through contamination of food or water supplies. Public health communications programs, vaccination programs and distribution of condoms are examples of common preventive public health measures.Public health, together with primary care, secondary care, and tertiary care, is part of a country's overall health care system. Many interventions of public health interest are delivered outside of health facilities, such as food safety surveillance, distribution of condoms and needle-exchange programs for the prevention of transmissible diseases.Public health plays an important role in disease prevention efforts in both the developing world and in developed countries through local health systems and non-governmental organizations.Public health requires Geographic Information Systems (GIS) because risk, vulnerability and exposure involve geographic aspects.\n",
      "\n",
      "\n",
      "== Ethics ==\n",
      "A dilemma in public health ethics is dealing with the conflict between individual rights and maximizing right to health.: 28  Public health is justified by consequentialist utilitarian ideas,: 153  but is constrained and critiqued by liberal, deontological, principlist and libertarian philosophies: 99, 95, 74, 123  Stephen Holland argues that it can be easy to find a particular framework to justify any viewpoint on public health issues, but that the correct approach is to find a framework that best describes a situation and see what it implies about public health policy.: 154 The definition of health is vague and there are many conceptualizations. Public health practitioners definition of health can different markedly from members of the public or clinicians. This can mean that members of the public view the values behind public health interventions as alien which can cause resentment amongst the public towards certain interventions.: 230  Such vagueness can be a problem for health promotion.: 241  Critics have argued that public health tends to place more focus on individual factors associated with health at the expense of factors operating at the population level.: 9 Historically, public health campaigns have been criticized as a form of \"healthism\",  as moralistic in nature rather than being focused on health. Medical doctors, Petr Shkrabanek and James McCormick wrote a series of publications on this topic in the late 1980s and early 1990s criticizing the UK's the Health of The Nation campaign. These publications exposed abuse of epidemiology and statistics by the public health movement to support lifestyle interventions and screening programs.: 85  A combination of inculcating a fear of ill-health and a strong notion of individual responsibility has been criticized as a form of \"health fascism\" by a number of scholars, objectifying the individual with no considerations of emotional or social factors.: 8 : 7 : 81 \n",
      "\n",
      "\n",
      "== Priority areas ==\n",
      "\n",
      "\n",
      "=== Original focal areas ===\n",
      "When public health initiatives began to emerge in England in modern times (18th century onwards) there were three core strands of public health which were all related to statecraft: Supply of clean water and sanitation (for example London sewerage system); control of infectious diseases (including vaccination and quarantine); an evolving infrastructure of various sciences, e.g. statistics, microbiology, epidemiology, sciences of engineering. Great Britain was a leader in the development of public health during that time period out of necessity: Great Britain was the first modern urban nation (by 1851 more than half of the population lived in settlements of more than 2000 people). This led to a certain type of distress which then led to public health initiatives. Later that particular concern faded away.\n",
      "\n",
      "\n",
      "=== Changing and differing focal areas ===\n",
      "With the onset of the epidemiological transition and as the prevalence of infectious diseases decreased through the 20th century, public health began to put more focus on chronic diseases such as cancer and heart disease. Previous efforts in many developed countries had already led to dramatic reductions in the infant mortality rate using preventive methods. In Britain, the infant mortality rate fell from over 15% in 1870 to 7% by 1930.A major public health concern in developing countries is poor maternal and child health, exacerbated by malnutrition and poverty. The WHO reports that a lack of exclusive breastfeeding during the first six months of life contributes to over a million avoidable child deaths each year.Public health surveillance has led to the identification and prioritization of many public health issues facing the world today, including HIV/AIDS, diabetes, waterborne diseases, zoonotic diseases, and antibiotic resistance leading to the reemergence of infectious diseases such as tuberculosis. Antibiotic resistance, also known as drug resistance, was the theme of World Health Day 2011.\n",
      "For example, the WHO reports that at least 220 million people worldwide have diabetes. Its incidence is increasing rapidly, and it is projected that the number of diabetes deaths will double by 2030. In a June 2010 editorial in the medical journal The Lancet, the authors opined that \"The fact that type 2 diabetes, a largely preventable disorder, has reached epidemic proportion is a public health humiliation.\" The risk of type 2 diabetes is closely linked with the growing problem of obesity. The WHO's latest estimates as of June 2016 highlighted that globally approximately 1.9 billion adults were overweight in 2014, and 41 million children under the age of five were overweight in 2014. Once considered a problem in high-income countries, it is now on the rise in low-income countries, especially in urban settings.Many public health programs are increasingly dedicating attention and resources to the issue of obesity, with objectives to address the underlying causes including healthy diet and physical exercise. The National Institute for Health and Care Research (NIHR) has published a review of research on what local authorities can do to tackle obesity. The review covers interventions in the food environment (what people buy and eat), the built and natural environments, schools, and the community, as well as those focussing on active travel, leisure services and public sports, weight management programmes, and system-wide approaches.Health inequalities, driven by the social determinants of health, are also a growing area of concern in public health.  A central challenge to securing health equity is that the same social structures that contribute to health inequities also operate and are reproduced by public health organizations. In other words, public health organizations have evolved to better meet the needs of some groups more than others. The result is often that those most in need of preventative interventions are least likely to receive them and interventions can actually aggravate inequities as they are often inadvertently tailored to the needs of the normative group. Identifying bias within public health research and practice is essential to ensuring public health efforts mitigate and don't aggravate health inequities.\n",
      "\n",
      "\n",
      "=== Organizations ===\n",
      "\n",
      "\n",
      "==== World Health Organization (WHO) ====\n",
      "The World Health Organization (WHO) is a specialized agency of the United Nations responsible for international public health. The WHO Constitution, which establishes the agency's governing structure and principles, states its main objective as \"the attainment by all peoples of the highest possible level of health\". The WHO's broad mandate includes advocating for universal healthcare, monitoring public health risks, coordinating responses to health emergencies, and promoting human health and well-being. The WHO has played a leading role in several public health achievements, most notably the eradication of smallpox, the near-eradication of polio, and the development of an Ebola vaccine. Its current priorities include communicable diseases, particularly HIV/AIDS, Ebola, COVID-19, malaria and tuberculosis; non-communicable diseases such as heart disease and cancer; healthy diet, nutrition, and food security; occupational health; and substance abuse.\n",
      "\n",
      "\n",
      "==== Others ====\n",
      "Most countries have their own governmental public health agency, often called the ministry of health, with responsibility for domestic health issues.\n",
      "For example, in the United States, state and local health departments are on the front line of public health initiatives. In addition to their national duties, the United States Public Health Service (PHS), led by the Surgeon General of the United States Public Health Service, and the Centers for Disease Control and Prevention, headquartered in Atlanta, are also involved with international health activities.\n",
      "\n",
      "\n",
      "=== Public health programs ===\n",
      "Most governments recognize the importance of public health programs in reducing the incidence of disease, disability, and the effects of aging and other physical and mental health conditions. However, public health generally receives significantly less government funding compared with medicine. Although the collaboration of local health and government agencies is considered best practice to improve public health, the pieces of evidence available to support this is limited. Public health programs providing vaccinations have made major progress in promoting health, including substantially reducing the occurrence of cholera and polio and eradicating smallpox, diseases that have plagued humanity for thousands of years.\n",
      "The World Health Organization (WHO) identifies core functions of public health programs including:\n",
      "providing leadership on matters critical to health and engaging in partnerships where joint action is needed;\n",
      "shaping a research agenda and stimulating the generation, translation and dissemination of valuable knowledge;\n",
      "setting norms and standards and promoting and monitoring their implementation;\n",
      "articulating ethical and evidence-based policy options;\n",
      "monitoring the health situation and assessing health trends.In particular, public health surveillance programs can:\n",
      "serve as an early warning system for impending public health emergencies;\n",
      "document the impact of an intervention, or track progress towards specified goals; and\n",
      "monitor and clarify the epidemiology of health problems, allow priorities to be set, and inform health policy and strategies.\n",
      "diagnose, investigate, and monitor health problems and health hazards of the community\n",
      "\n",
      "\n",
      "=== Behavior change ===\n",
      "\n",
      "Many health problems are due to maladaptive personal behaviors. From an evolutionary psychology perspective, over consumption of novel substances that are harmful is due to the activation of an evolved reward system for substances such as drugs, tobacco, alcohol, refined salt, fat, and carbohydrates. New technologies such as modern transportation also cause reduced physical activity. Research has found that behavior is more effectively changed by taking evolutionary motivations into consideration instead of only presenting information about health effects. The marketing industry has long known the importance of associating products with high status and attractiveness to others. Films are increasingly being recognized as a public health tool. In fact, film festivals and competitions have been established to specifically promote films about health. Conversely, it has been argued that emphasizing the harmful and undesirable effects of tobacco smoking on other persons and imposing smoking bans in public places have been particularly effective in reducing tobacco smoking.\n",
      "\n",
      "\n",
      "=== Applications in health care ===\n",
      "As well as seeking to improve population health through the implementation of specific population-level interventions, public health contributes to medical care by identifying and assessing population needs for health care services, including:\n",
      "Assessing current services and evaluating whether they are meeting the objectives of the health care system\n",
      "Ascertaining requirements as expressed by health professionals, the public and other stakeholders\n",
      "Identifying the most appropriate interventions\n",
      "Considering the effect on resources for proposed interventions and assessing their cost-effectiveness\n",
      "Supporting decision making in health care and planning health services including any necessary changes.\n",
      "Informing, educating, and empowering people about health issues\n",
      "\n",
      "\n",
      "=== Conflicting aims ===\n",
      "Some programs and policies associated with public health promotion and prevention can be controversial. One such example is programs focusing on the prevention of HIV transmission through safe sex campaigns and needle-exchange programs. Another is the control of tobacco smoking. Many nations have implemented major initiatives to cut smoking, such as increased taxation and bans on smoking in some or all public places. Supporters argue by presenting evidence that smoking is one of the major killers, and that therefore governments have a duty to reduce the death rate, both through limiting passive (second-hand) smoking and by providing fewer opportunities for people to smoke. Opponents say that this undermines individual freedom and personal responsibility, and worry that the state may be encouraged to remove more and more choice in the name of better population health overall.Psychological research confirms this tension between concerns about public health and concerns about personal liberty: (i) the best predictor of complying with public health recommendations such as hand-washing, mask-wearing, and staying at home (except for essential activity) during the COVID-19 pandemic was people's perceived duties to prevent harm but (ii) the best predictor of flouting such public health recommendations was valuing liberty more than equality.Simultaneously, while communicable diseases have historically ranged uppermost as a global health priority, non-communicable diseases and the underlying behavior-related risk factors have been at the bottom. This is changing, however, as illustrated by the United Nations hosting its first General Assembly Special Summit on the issue of non-communicable diseases in September 2011.\n",
      "\n",
      "\n",
      "== Global perspectives ==\n",
      "\n",
      "\n",
      "=== Disparities in service and access ===\n",
      "There is a significant disparity in access to health care and public health initiatives between developed countries and developing countries, as well as within developing countries. In developing countries, public health infrastructures are still forming. There may not be enough trained health workers, monetary resources or, in some cases, sufficient knowledge to provide even a basic level of medical care and disease prevention. As a result, a large majority of disease and mortality in developing countries results from and contributes to extreme poverty. For example, many African governments spend less than US$10 per person per year on health care, while, in the United States, the federal government spent approximately US$4,500 per capita in 2000. However, expenditures on health care should not be confused with spending on public health. Public health measures may not generally be considered \"health care\" in the strictest sense. For example, mandating the use of seat belts in cars can save countless lives and contribute to the health of a population, but typically money spent enforcing this rule would not count as money spent on health care.\n",
      "\n",
      "Large parts of the world remained plagued by largely preventable or treatable infectious diseases. In addition to this however, many developing countries are also experiencing an epidemiological shift and polarization in which populations are now experiencing more of the effects of chronic diseases as life expectancy increases, the poorer communities being heavily affected by both chronic and infectious diseases. Another major public health concern in the developing world is poor maternal and child health, exacerbated by malnutrition and poverty. The WHO reports that a lack of exclusive breastfeeding during the first six months of life contributes to over a million avoidable child deaths each year. Intermittent preventive therapy aimed at treating and preventing malaria episodes among pregnant women and young children is one public health measure in endemic countries.\n",
      "Since the 1980s, the growing field of population health has broadened the focus of public health from individual behaviors and risk factors to population-level issues such as inequality, poverty, and education. Modern public health is often concerned with addressing determinants of health across a population. There is a recognition that health is affected by many factors including class, race, income, educational status, region of residence, and social relationships; these are known as \"social determinants of health\". The upstream drivers such as environment, education, employment, income, food security, housing, social inclusion and many others effect the distribution of health between and within populations and are often shaped by policy. A social gradient in health runs through society. The poorest generally have the worst health, but even the middle classes will generally have worse health outcomes than those of a higher social level. The new public health advocates for population-based policies that improve health in an equitable manner.\n",
      "The health sector is one of Europe's most labor-intensive industries. In late 2020, it accounted for more than 21 million employment in the European Union when combined with social work. According to the WHO, several countries began the COVID-19 pandemic with insufficient health and care professionals, inappropriate skill mixtures, and unequal geographical distributions. These issues were worsened by the pandemic, reiterating the importance of public health. In the United States, a history of underinvestment in public health undermined the public health workforce and support for population health, long before the pandemic added to stress, mental distress, job dissatisfaction, and accelerated departures among public health workers.\n",
      "\n",
      "\n",
      "=== Health aid in developing countries ===\n",
      "\n",
      "Health aid to developing countries is an important source of public health funding for many developing countries. Health aid to developing countries has shown a significant increase after World War II as concerns over the spread of disease as a result of globalization increased and the HIV/AIDS epidemic in sub-Saharan Africa surfaced. From 1990 to 2010, total health aid from developed countries increased from 5.5 billion to 26.87 billion with wealthy countries continuously donating billions of dollars every year with the goal of improving population health. Some efforts, however, receive a significantly larger proportion of funds such as HIV which received an increase in funds of over $6 billion between 2000 and 2010 which was more than twice the increase seen in any other sector during those years. Health aid has seen an expansion through multiple channels including private philanthropy, non-governmental organizations, private foundations such as the Rockefeller Foundation or the Bill & Melinda Gates Foundation, bilateral donors, and multilateral donors such as the World Bank or UNICEF. The result has been a sharp rise in uncoordinated and fragmented funding of an ever-increasing number of initiatives and projects. To promote better strategic cooperation and coordination between partners, particularly among bilateral development agencies and funding organizations, the Swedish International Development Cooperation Agency (Sida) spearheaded the establishment of ESSENCE, an initiative to facilitate dialogue between donors/funders, allowing them to identify synergies. ESSENCE brings together a wide range of funding agencies to coordinate funding efforts.\n",
      "In 2009 health aid from the OECD amounted to $12.47 billion which amounted to 11.4% of its total bilateral aid. In 2009, Multilateral donors were found to spend 15.3% of their total aid on bettering public healthcare.\n",
      "\n",
      "\n",
      "==== International health aid debates ====\n",
      "Debates exist questioning the efficacy of international health aid. Supporters of aid claim that health aid from wealthy countries is necessary in order for developing countries to escape the poverty trap. Opponents of health aid claim that international health aid actually disrupts developing countries' course of development, causes dependence on aid, and in many cases the aid fails to reach its recipients. For example, recently, health aid was funneled towards initiatives such as financing new technologies like antiretroviral medication, insecticide-treated mosquito nets, and new vaccines. The positive impacts of these initiatives can be seen in the eradication of smallpox and polio; however, critics claim that misuse or misplacement of funds may cause many of these efforts to never come into achievement.Economic modeling based on the Institute for Health Metrics and Evaluation and the World Health Organization has shown a link between international health aid in developing countries and a reduction in adult mortality rates. However, a 2014–2016 study suggests that a potential confounding variable for this outcome is the possibility that aid was directed at countries once they were already on track for improvement. That same study, however, also suggests that 1 billion dollars in health aid was associated with 364,000 fewer deaths occurring between ages 0 and 5 in 2011.\n",
      "\n",
      "\n",
      "=== Sustainable development goals for 2030 ===\n",
      "\n",
      "To address current and future challenges in addressing health issues in the world, the United Nations have developed the Sustainable Development Goals to be completed by 2030. These goals in their entirety encompass the entire spectrum of development across nations, however Goals 1–6 directly address health disparities, primarily in developing countries. These six goals address key issues in global public health, poverty, hunger and food security, health, education, gender equality and women's empowerment, and water and sanitation. Public health officials can use these goals to set their own agenda and plan for smaller scale initiatives for their organizations. These goals are designed to lessen the burden of disease and inequality faced by developing countries and lead to a healthier future. The links between the various sustainable development goals and public health are numerous and well established.\n",
      "\n",
      "\n",
      "== History ==\n",
      "\n",
      "\n",
      "=== Until the 18th century ===\n",
      "From the beginnings of human civilization, communities promoted health and fought disease at the population level. Definitions of health as well as methods to pursue it differed according to the medical, religious and natural-philosophical ideas groups held, the resources they had, and the changing circumstances in which they lived. Yet few early societies displayed the hygienic stagnation or even apathy often attributed to them. The latter reputation is mainly based on the absence of present-day bioindicators, especially immunological and statistical tools developed in light of the germ theory of disease transmission.Public health was born neither in Europe nor as a response to the Industrial Revolution. Preventive health interventions are attested almost anywhere historical communities have left their mark. In Southeast Asia, for instance, Ayurvedic medicine and subsequently Buddhism fostered occupational, dietary and sexual regimens that promised balanced bodies, lives and communities, a notion strongly present in Traditional Chinese Medicine as well. Among the Mayans, Aztecs and other early civilizations in the Americas, population centers pursued hygienic programs, including by holding medicinal herbal markets. And among Aboriginal Australians, techniques for preserving and protecting water and food sources, micro-zoning to reduce pollution and fire risks, and screens to protect people against flies were common, even in temporary camps.\n",
      "Western European, Byzantine and Islamicate civilizations, which generally adopted a Hippocratic, Galenic or humoral medical system, fostered preventive programs as well. These were developed on the basis of evaluating the quality of local climates, including topography, wind conditions and exposure to the sun, and the properties and availability of water and food, for both humans and nonhuman animals. Diverse authors of medical, architectural, engineering and military manuals explained how to apply such theories to groups of different origins and under different circumstances. This was crucial, since under Galenism bodily constitutions were thought to be heavily shaped by their material environments, so their balance required specific regimens as they traveled during different seasons and between climate zones.In complex, pre-industrialized societies, interventions designed to reduce health risks could be the initiative of different stakeholders. For instance, in Greek and Roman antiquity, army generals learned to provide for soldiers' wellbeing, including off the battlefield, where most combatants died prior to the twentieth century. In Christian monasteries across the Eastern Mediterranean and western Europe since at least the fifth century CE, monks and nuns pursued strict but balanced regimens, including nutritious diets, developed explicitly to extend their lives. And royal, princely and papal courts, which were often mobile as well, likewise adapted their behavior to suit environmental conditions in the sites they occupied. They could also choose sites they considered salubrious for their members and sometimes had them modified.In cities, residents and rulers developed measures to benefit the general population, which faced a broad array of recognized health risks. These provide some of the most sustained evidence for preventive measures in earlier civilizations. In numerous sites the upkeep of infrastructures, including roads, canals and marketplaces, as well as zoning policies, were introduced explicitly to preserve residents' health. Officials such as the muhtasib in the Middle East and the Road master in Italy, fought the combined threats of pollution through sin, ocular intromission and miasma. Craft guilds were important agents of waste disposal and promoted harm reduction through honesty and labor safety among their members. Medical practitioners, including public physicians, collaborated with urban governments in predicting and preparing for calamities and identifying and isolating people perceived as lepers, a disease with strong moral connotations. Neighborhoods were also active in safeguarding local people's health, by monitoring at-risk sites near them and taking appropriate social and legal action against artisanal polluters and neglectful owners of animals. Religious institutions, individuals and charitable organizations in both Islam and Christianity likewise promoted moral and physical wellbeing by endowing urban amenities such as wells, fountains, schools and bridges, also in the service of pilgrims. In western Europe and Byzantium, religious processions commonly took place, which purported to act as both preventive and curative measures for the entire community.Urban residents and other groups also developed preventive measures in response to calamities such as war, famine, floods and widespread disease. During and after the Black Death (1346–53), for instance, inhabitants of the Eastern Mediterranean and Western Europe reacted to massive population decline in part on the basis of existing medical theories and protocols, for instance concerning meat consumption and burial, and in part by developing new ones. The latter included the establishment of quarantine facilities and health boards, some of which eventually became regular urban (and later national) offices. Subsequent measures for protecting cities and their regions included issuing health passports for travelers, deploying guards to create sanitary cordons for protecting local inhabitants, and gathering morbidity and mortality statistics.  Such measures relied in turn on better transportation and communication networks, through which news on human and animal disease was efficiently spread.\n",
      "\n",
      "\n",
      "=== After the 18th century ===\n",
      "With the onset of the Industrial Revolution, living standards amongst the working population began to worsen, with cramped and unsanitary urban conditions. In the first four decades of the 19th century alone, London's population doubled and even greater growth rates were recorded in the new industrial towns, such as Leeds and Manchester. This rapid urbanization exacerbated the spread of disease in the large conurbations that built up around the workhouses and factories. These settlements were cramped and primitive with no organized sanitation. Disease was inevitable and its incubation in these areas was encouraged by the poor lifestyle of the inhabitants. Unavailable housing led to the rapid growth of slums and the per capita death rate began to rise alarmingly, almost doubling in Birmingham and Liverpool. Thomas Malthus warned of the dangers of overpopulation in 1798. His ideas, as well as those of Jeremy Bentham, became very influential in government circles in the early years of the 19th century. The latter part of the century brought the establishment of the basic pattern of improvements in public health over the next two centuries: a social evil was identified, private philanthropists brought attention to it, and changing public opinion led to government action. The 18th century saw rapid growth in voluntary hospitals in England.The practice of vaccination began in the 1800s, following the pioneering work of Edward Jenner in treating smallpox. James Lind's discovery of the causes of scurvy amongst sailors and its mitigation via the introduction of fruit on lengthy voyages was published in 1754 and led to the adoption of this idea by the Royal Navy. Efforts were also made to promulgate health matters to the broader public; in 1752 the British physician Sir John Pringle published Observations on the Diseases of the Army in Camp and Garrison, in which he advocated for the importance of adequate ventilation in the military barracks and the provision of latrines for the soldiers.\n",
      "\n",
      "\n",
      "==== Public health legislation in England ====\n",
      "The first attempts at sanitary reform and the establishment of public health institutions were made in the 1840s. Thomas Southwood Smith, physician at the London Fever Hospital, began to write papers on the importance of public health, and was one of the first physicians brought in to give evidence before the Poor Law Commission in the 1830s, along with Neil Arnott and James Phillips Kay. Smith advised the government on the importance of quarantine and sanitary improvement for limiting the spread of infectious diseases such as cholera and yellow fever.The Poor Law Commission reported in 1838 that \"the expenditures necessary to the adoption and maintenance of measures of prevention would ultimately amount to less than the cost of the disease now constantly engendered\". It recommended the implementation of large scale government engineering projects to alleviate the conditions that allowed for the propagation of disease. The Health of Towns Association was formed at Exeter Hall London on 11 December 1844, and vigorously campaigned for the development of public health in the United Kingdom. Its formation followed the 1843 establishment of the Health of Towns Commission, chaired by Sir Edwin Chadwick, which produced a series of reports on poor and insanitary conditions in British cities.These national and local movements led to the Public Health Act, finally passed in 1848. It aimed to improve the sanitary condition of towns and populous places in England and Wales by placing the supply of water, sewerage, drainage, cleansing and paving under a single local body with the General Board of Health as a central authority. The Act was passed by the Liberal government of Lord John Russell, in response to the urging of Edwin Chadwick. Chadwick's seminal report on The Sanitary Condition of the Labouring Population was published in 1842 and was followed up with a supplementary report a year later. During this time, James Newlands (appointed following the passing of the 1846 Liverpool Sanatory Act championed by the Borough of Liverpool Health of Towns Committee) designed the world's first integrated sewerage system, in Liverpool (1848–1869), with Joseph Bazalgette later creating London's sewerage system (1858–1875).\n",
      "The Vaccination Act 1853 introduced compulsory smallpox vaccination in England and Wales. By 1871 legislation required a comprehensive system of registration run by appointed vaccination officers.Further interventions were made by a series of subsequent Public Health Acts, notably the 1875 Act. Reforms included the building of sewers, the regular collection of garbage followed by incineration or disposal in a landfill, the provision of clean water and the draining of standing water to prevent the breeding of mosquitoes.\n",
      "The Infectious Disease (Notification) Act 1889 mandated the reporting of infectious diseases to the local sanitary authority, which could then pursue measures such as the removal of the patient to hospital and the disinfection of homes and properties.\n",
      "\n",
      "\n",
      "==== Public health legislation in other countries ====\n",
      "In the United States, the first public health organization based on a state health department and local boards of health was founded in New York City in 1866.In Germany during The Weimar Republic the country faced many public health catastrophes. The Nazi Party had a goal of modernizing health care with Volksgesundheit, German for people's public health; this modernization was based on the growing field of eugenics and measures prioritizing group health over any care for the health of individuals.  The end of World War 2 led to the Nuremberg Code, a set of research ethics concerning human experimentation.\n",
      "\n",
      "\n",
      "==== Epidemiology ====\n",
      "The science of epidemiology was founded by John Snow's identification of a polluted public water well as the source of an 1854 cholera outbreak in London. Snow believed in the germ theory of disease as opposed to the prevailing miasma theory. By talking to local residents (with the help of Reverend Henry Whitehead), he identified the source of the outbreak as the public water pump on Broad Street (now Broadwick Street). Although Snow's chemical and microscope examination of a water sample from the Broad Street pump did not conclusively prove its danger, his studies of the pattern of the disease were convincing enough to persuade the local council to close the well pump by removing its handle.Snow later used a dot map to illustrate the cluster of cholera cases around the pump. He also used statistics to illustrate the connection between the quality of the water source and cholera cases. He showed that the Southwark and Vauxhall Waterworks Company was taking water from sewage-polluted sections of the Thames and delivering the water to homes, leading to an increased incidence of cholera. Snow's study was a major event in the history of public health and geography. It is regarded as the founding event of the science of epidemiology.\n",
      "\n",
      "\n",
      "==== Control of infectious diseases ====\n",
      "With the pioneering work in bacteriology of French chemist Louis Pasteur and German scientist Robert Koch, methods for isolating the bacteria responsible for a given disease and vaccines for remedy were developed at the turn of the 20th century. British physician Ronald Ross identified the mosquito as the carrier of malaria and laid the foundations for combating the disease. Joseph Lister revolutionized surgery by the introduction of antiseptic surgery to eliminate infection. French epidemiologist Paul-Louis Simond proved that plague was carried by fleas on the back of rats, and Cuban scientist Carlos J. Finlay and U.S. Americans Walter Reed and James Carroll demonstrated that mosquitoes carry the virus responsible for yellow fever. Brazilian scientist Carlos Chagas identified a tropical disease and its vector.\n",
      "\n",
      "\n",
      "== Society and culture ==\n",
      "\n",
      "\n",
      "=== Education and training ===\n",
      "Education and training of public health professionals is available throughout the world in Schools of Public Health, Medical Schools, Veterinary Schools, Schools of Nursing, and Schools of Public Affairs. The training typically requires a university degree with a focus on core disciplines of biostatistics, epidemiology, health services administration, health policy, health education, behavioral science, gender issues, sexual and reproductive health, public health nutrition, and occupational and environmental health.In the global context, the field of public health education has evolved enormously in recent decades, supported by institutions such as the World Health Organization and the World Bank, among others. Operational structures are formulated by strategic principles, with educational and career pathways guided by competency frameworks, all requiring modulation according to local, national and global realities. It is critically important for the health of populations that nations assess their public health human resource needs and develop their ability to deliver this capacity, and not depend on other countries to supply it.\n",
      "\n",
      "\n",
      "==== Schools of public health: a US perspective ====\n",
      "In the United States, the Welch-Rose Report of 1915 has been viewed as the basis for the critical movement in the history of the institutional schism between public health and medicine because it led to the establishment of schools of public health supported by the Rockefeller Foundation. The report was authored by William Welch, founding dean of the Johns Hopkins Bloomberg School of Public Health, and Wickliffe Rose of the Rockefeller Foundation. The report focused more on research than practical education. Some have blamed the Rockefeller Foundation's 1916 decision to support the establishment of schools of public health for creating the schism between public health and medicine and legitimizing the rift between medicine's laboratory investigation of the mechanisms of disease and public health's nonclinical concern with environmental and social influences on health and wellness.Even though schools of public health had already been established in Canada, Europe and North Africa, the United States had still maintained the traditional system of housing faculties of public health within their medical institutions.  A $25,000 donation from businessman Samuel Zemurray instituted the School of Public Health and Tropical Medicine at Tulane University in 1912 conferring its first doctor of public health degree in 1914.  The Yale School of Public Health was founded by Charles-Edward Amory Winslow in 1915. The Johns Hopkins School of Hygiene and Public Health was founded in 1916 and became an independent, degree-granting institution for research and training in public health, and the largest public health training facility in the United States. By 1922, schools of public health were established at Columbia and Harvard on the Hopkins model. By 1999 there were twenty nine schools of public health in the US, enrolling around fifteen thousand students.Over the years, the types of students and training provided have also changed. In the beginning, students who enrolled in public health schools typically had already obtained a medical degree; public health school training was largely a second degree for medical professionals. However, in 1978, 69% of American students enrolled in public health schools had only a bachelor's degree.\n",
      "\n",
      "\n",
      "==== Degrees in public health ====\n",
      "\n",
      "Schools of public health offer a variety of degrees generally fall into two categories: professional or academic. The two major postgraduate degrees are the Master of Public Health (MPH) or the Master of Science in Public Health (MSPH). Doctoral studies in this field include Doctor of Public Health (DrPH) and Doctor of Philosophy (PhD) in a subspecialty of greater Public Health disciplines. DrPH is regarded as a professional degree and PhD as more of an academic degree.\n",
      "Professional degrees are oriented towards practice in public health settings. The Master of Public Health, Doctor of Public Health, Doctor of Health Science (DHSc/DHS) and the Master of Health Care Administration are examples of degrees which are geared towards people who want careers as practitioners of public health in health departments, managed care and community-based organizations, hospitals and consulting firms, among others. Master of Public Health degrees broadly fall into two categories, those that put more emphasis on an understanding of epidemiology and statistics as the scientific basis of public health practice and those that include a more wide range of methodologies.  A Master of Science of Public Health is similar to an MPH but is considered an academic degree (as opposed to a professional degree) and places more emphasis on scientific methods and research.  The same distinction can be made between the DrPH and the DHSc. The DrPH is considered a professional degree and the DHSc is an academic degree.Academic degrees are more oriented towards those with interests in the scientific basis of public health and preventive medicine who wish to pursue careers in research, university teaching in graduate programs, policy analysis and development, and other high-level public health positions. Examples of academic degrees are the Master of Science, Doctor of Philosophy, Doctor of Science (ScD), and Doctor of Health Science (DHSc). The doctoral programs are distinct from the MPH and other professional programs by the addition of advanced coursework and the nature and scope of a dissertation research project.\n",
      "\n",
      "\n",
      "=== Notable people ===\n",
      "John Graunt (1620–1674)  was a British citizen scientist who laid the foundations for epidemiology.\n",
      "Edward Jenner (1749–1823) created the smallpox vaccine, the first vaccine in the world. He is often known as \"the father of immunology.\"\n",
      "Benjamin Waterhouse (1753–1846) introduced the smallpox vaccine in the United States.\n",
      "Lemuel Shattuck (1793–1859) has been described as an \"architect\" and \"prophet\" of American public health\n",
      "John Snow (1813-1858) was 'the father of modern epidemiology'.\n",
      "Sir Joseph William Bazalgette (1819–1891) created a sewer network for central London in response to the Great Stink of 1858. This proved instrumental in relieving the city from cholera epidemics.\n",
      "Louis Pasteur (1822–1895) conducted research that laid the foundation for our understanding of the causes and preventions of diseases.\n",
      "Robert Koch (1843–1910) used his discoveries to establish that germs \"could cause a specific disease\"and directly provided proofs for that germ theory of diseases, therefore creating the scientific basis of public health, saving millions of lives.\n",
      "Charles V. Chapin (1856–1941) public health advocate and researcher credited with planting \"the roots of quality in public health\" in the United States\n",
      "Sara Josephine Baker (1873–1945) was an \"instrumental force in child and maternal health\"\n",
      "Nora Wattie (1900–1994) led the development of public health services and sanitation, and education in improving women and child health in the poorest slums of Glasgow, for which she received the OBE.\n",
      "Jonas Salk (1914–1995) developed one of the first polio vaccines and campaigned vigorously for mandatory vaccinations.\n",
      "Ruth Huenemann (1910–2005) She became a pioneer in the study of childhood obesity in the 1960s studying the diet and exercise habits of Berkeley teenagers.\n",
      "Edmond Fernandes ( 1990-) Demonstrated proof of concept to end the burden of Malnutrition in India and around the world.\n",
      "Dilip Mahalanabis - Credited to have evolved and utilized ORS to save thousands of lives during the liberation war.\n",
      "\n",
      "\n",
      "== Country examples ==\n",
      "\n",
      "\n",
      "=== Canada ===\n",
      "In Canada, the Public Health Agency of Canada is the national agency responsible for public health, emergency preparedness and response, and infectious and chronic disease control and prevention.\n",
      "\n",
      "\n",
      "=== Cuba ===\n",
      "Since the 1959 Cuban Revolution the Cuban government has devoted extensive resources to the improvement of health conditions for its entire population via universal access to health care. Infant mortality has plummeted. Cuban medical internationalism as a policy has seen the Cuban government sent doctors as a form of aid and export to countries in need in Latin America, especially Venezuela, as well as Oceania and Africa countries.\n",
      "\n",
      "\n",
      "=== Colombia and Bolivia ===\n",
      "Public health was important elsewhere in Latin America in consolidating state power and integrating marginalized populations into the nation-state.  In Colombia, public health was a means for creating and implementing ideas of citizenship. In Bolivia, a similar push came after their 1952 revolution.\n",
      "\n",
      "\n",
      "=== Ghana ===\n",
      "Though curable and preventive, malaria remains a major public health issue and is the third leading cause of death in Ghana. In the absence of a vaccine, mosquito control, or access to anti-malaria medication, public health methods become the main strategy for reducing the prevalence and severity of malaria. These methods include reducing breeding sites, screening doors and windows, insecticide sprays, prompt treatment following infection, and usage of insecticide treated mosquito nets. Distribution and sale of insecticide-treated mosquito nets is a common, cost-effective anti-malaria public health intervention; however, barriers to use exist including cost, household and family organization, access to resources, and social and behavioral determinants which have not only been shown to affect malaria prevalence rates but also mosquito net use.\n",
      "\n",
      "\n",
      "=== France ===\n",
      "\n",
      "\n",
      "=== Mexico ===\n",
      "\n",
      "\n",
      "=== United States ===\n",
      "\n",
      "The United States lacks a coherent system for the governmental funding of public health, relying on a variety of agencies and programs at the federal, state and local levels.\n",
      "Between 1960 and 2001, public health spending in the United States tended to grow,\n",
      "based on increasing expenditures by state and local government, which made up 80–90% of\n",
      "total public health spending.  Spending in support of public health in the United States peaked in 2002 and declined in the following decade. State cuts to public health funding during the Great Recession of 2007–2008 were not restored in subsequent years.\n",
      "As of 2012, a panel for the  U.S. Institute of Medicine panel warned that the United States spends disproportionately far more on clinical care than it does on public health, neglecting \"population-based activities that offer efficient and effective approaches to improving the nation's health.\"  As of 2018, about 3% of government health spending was directed to public health and prevention. This situation has been described as an \"uneven patchwork\" and \"chronic underfunding\".\n",
      "The COVID-19 pandemic has been seen as drawing attention to problems in the public health system in the United States and to a lack of understanding of public health and its important role as a common good.\n",
      "\n",
      "\n",
      "== See also ==\n",
      "Global health\n",
      "Health care\n",
      "Health equity\n",
      "Health policy\n",
      "Health system\n",
      "Health law\n",
      "Effects of climate change on human health\n",
      "European Public Health Association (EUPHA) is an umbrella organization for public health associations and institutes in Europe\n",
      "List of national public health agencies\n",
      "Universal health care\n",
      "\n",
      "\n",
      "== References ==\n"
     ]
    }
   ],
   "source": [
    "# let's get all text from the entire page and use it in this course\n",
    "\n",
    "print(ph.content)"
   ]
  },
  {
   "cell_type": "markdown",
   "metadata": {
    "slideshow": {
     "slide_type": "slide"
    }
   },
   "source": [
    "# Punctuation Removal"
   ]
  },
  {
   "cell_type": "code",
   "execution_count": 20,
   "metadata": {
    "slideshow": {
     "slide_type": "slide"
    }
   },
   "outputs": [
    {
     "name": "stdout",
     "output_type": "stream",
     "text": [
      "!\"#$%&'()*+,-./:;<=>?@[\\]^_`{|}~\n"
     ]
    }
   ],
   "source": [
    "# string package has a list of punctuation\n",
    "\n",
    "print(string.punctuation)"
   ]
  },
  {
   "cell_type": "code",
   "execution_count": 21,
   "metadata": {
    "slideshow": {
     "slide_type": "slide"
    }
   },
   "outputs": [
    {
     "name": "stdout",
     "output_type": "stream",
     "text": [
      "public health is the science and art of preventing disease prolonging life and promoting health through the organized efforts and informed choices of society organizations public and private communities and individuals analyzing the determinants of health of a population and the threats it faces is the basis for public health the public can be as small as a handful of people or as large as a village or an entire city in the case of a pandemic it may encompass several continents the concept of health takes into account physical psychological and social wellbeingpublic health is an interdisciplinary field for example epidemiology biostatistics social sciences and management of health services are all relevant other important subfields include environmental health community health behavioral health health economics public policy mental health health education health politics occupational safety disability oral health gender issues in health and sexual and reproductive health public health together with primary care secondary care and tertiary care is part of a countrys overall healthcare system public health is implemented through the surveillance of cases and health indicators and through the promotion of healthy behaviors common public health initiatives include promotion of handwashing and breastfeeding delivery of vaccinations promoting ventilation and improved air quality both indoors and outdoors suicide prevention smoking cessation obesity education increasing healthcare accessibility and distribution of condoms to control the spread of sexually transmitted diseases\n",
      "there is a significant disparity in access to health care and public health initiatives between developed countries and developing countries as well as within developing countries in developing countries public health infrastructures are still forming there may not be enough trained healthcare workers monetary resources or in some cases sufficient knowledge to provide even a basic level of medical care and disease prevention a major public health concern in developing countries is poor maternal and child health exacerbated by malnutrition and poverty coupled with governments reluctance in implementing public health policies\n",
      "from the beginnings of human civilization communities promoted health and fought disease at the population level in complex preindustrialized societies interventions designed to reduce health risks could be the initiative of different stakeholders such as army generals the clergy or rulers great britain became a leader in the development of public health initiatives beginning in the 19th century due to the fact that it was the first modern urban nation worldwide the public health initiatives that began to emerge initially focused on sanitation for example the liverpool and london sewerage systems control of infectious diseases including vaccination and quarantine and an evolving infrastructure of various sciences eg statistics microbiology epidemiology sciences of engineering\n",
      "\n",
      "\n",
      " definitions and purposes \n",
      "\n",
      "\n",
      " definition \n",
      "public health has been defined as the science and art of preventing disease prolonging life and improving quality of life through organized efforts and informed choices of society organizations public and private communities and individuals  the public can be as small as a handful of people or as large as a village or an entire city the concept of health takes into account physical psychological and social wellbeing as such according to the world health organization health is a state of complete physical mental and social wellbeing and not merely the absence of disease or infirmity\n",
      "\n",
      "\n",
      " related terms \n",
      "public health is related to global health which is the health of populations in the worldwide context it has been defined as the area of study research and practice that places a priority on improving health and achieving equity in health for all people worldwide international health is a field of health care usually with a public health emphasis dealing with health across regional or national boundaries public health is not the same as public healthcare publicly funded health care\n",
      "the term preventive medicine is related to public health the american board of preventive medicine separates three categories of preventive medicine aerospace health occupational health and public health and general preventative medicine jung boris and lushniak argue that preventive medicine should be considered the medical specialty for public health but note that the american college of preventive medicine and american board of preventive medicine do not prominently use the term public health 1  preventive medicine specialists are trained as clinicians and address complex health needs of a population such as by assessing the need for disease prevention programs using the best methods to implement them and assessing their effectiveness 1 3 since the 1990s many scholars in public health have been using the term population health 3  there are no medical specialties directly related to population health 4  valles argues that consideration of health equity is a fundamental part of population health scholars such as coggon and pielke express concerns about bringing general issues of wealth distribution into population health pielke worries about stealth issue advocacy in population health 163  jung boris and lushniak consider population health to be a concept that is the goal of an activity called public health practiced through the specialty preventive medicine 4 lifestyle medicine uses individual lifestyle modification to prevent or revert disease and can be considered a component of preventive medicine and public health it is implemented as part of primary care rather than a specialty in its own right 3  valles argues that the term social medicine has a narrower and more biomedical focus than the term population health 7 \n",
      "\n",
      "\n",
      " purposes \n",
      "the purpose of a public health intervention is to prevent and mitigate diseases injuries and other health conditions the overall goal is to improve the health of populations and increase life expectancy\n",
      "\n",
      "\n",
      " characteristics and components \n",
      "public health is a complex term composed of many elements and different practices it is a multifaceted interdisciplinary field for example epidemiology biostatistics social sciences and management of health services are all relevant other important subfields include environmental health community health behavioral health health economics public policy mental health health education health politics occupational safety disability gender issues in health and sexual and reproductive healthmodern public health practice requires multidisciplinary teams of public health workers and professionals teams might include epidemiologists biostatisticians physician assistants public health nurses midwives medical microbiologists pharmacists economists sociologists geneticists data managers environmental health officers public health inspectors bioethicists gender experts sexual and reproductive health specialists physicians and veterinariansthe elements and priorities of public health have evolved over time and are continuing to evolve different regions in the world can have different public health concerns at a given timecommon public health initiatives include promotion of handwashing and breastfeeding delivery of vaccinations suicide prevention smoking cessation obesity education increasing healthcare accessibility and distribution of condoms to control the spread of sexually transmitted diseases\n",
      "\n",
      "\n",
      " methods \n",
      "public health aims are achieved through surveillance of cases and the promotion of healthy behaviors communities and environments analyzing the determinants of health of a population and the threats it faces is the basis for public healthmany diseases are preventable through simple nonmedical methods for example research has shown that the simple act of handwashing with soap can prevent the spread of many contagious diseases in other cases treating a disease or controlling a pathogen can be vital to preventing its spread to others either during an outbreak of infectious disease or through contamination of food or water supplies public health communications programs vaccination programs and distribution of condoms are examples of common preventive public health measurespublic health together with primary care secondary care and tertiary care is part of a countrys overall health care system many interventions of public health interest are delivered outside of health facilities such as food safety surveillance distribution of condoms and needleexchange programs for the prevention of transmissible diseasespublic health plays an important role in disease prevention efforts in both the developing world and in developed countries through local health systems and nongovernmental organizationspublic health requires geographic information systems gis because risk vulnerability and exposure involve geographic aspects\n",
      "\n",
      "\n",
      " ethics \n",
      "a dilemma in public health ethics is dealing with the conflict between individual rights and maximizing right to health 28  public health is justified by consequentialist utilitarian ideas 153  but is constrained and critiqued by liberal deontological principlist and libertarian philosophies 99 95 74 123  stephen holland argues that it can be easy to find a particular framework to justify any viewpoint on public health issues but that the correct approach is to find a framework that best describes a situation and see what it implies about public health policy 154 the definition of health is vague and there are many conceptualizations public health practitioners definition of health can different markedly from members of the public or clinicians this can mean that members of the public view the values behind public health interventions as alien which can cause resentment amongst the public towards certain interventions 230  such vagueness can be a problem for health promotion 241  critics have argued that public health tends to place more focus on individual factors associated with health at the expense of factors operating at the population level 9 historically public health campaigns have been criticized as a form of healthism  as moralistic in nature rather than being focused on health medical doctors petr shkrabanek and james mccormick wrote a series of publications on this topic in the late 1980s and early 1990s criticizing the uks the health of the nation campaign these publications exposed abuse of epidemiology and statistics by the public health movement to support lifestyle interventions and screening programs 85  a combination of inculcating a fear of illhealth and a strong notion of individual responsibility has been criticized as a form of health fascism by a number of scholars objectifying the individual with no considerations of emotional or social factors 8  7  81 \n",
      "\n",
      "\n",
      " priority areas \n",
      "\n",
      "\n",
      " original focal areas \n",
      "when public health initiatives began to emerge in england in modern times 18th century onwards there were three core strands of public health which were all related to statecraft supply of clean water and sanitation for example london sewerage system control of infectious diseases including vaccination and quarantine an evolving infrastructure of various sciences eg statistics microbiology epidemiology sciences of engineering great britain was a leader in the development of public health during that time period out of necessity great britain was the first modern urban nation by 1851 more than half of the population lived in settlements of more than 2000 people this led to a certain type of distress which then led to public health initiatives later that particular concern faded away\n",
      "\n",
      "\n",
      " changing and differing focal areas \n",
      "with the onset of the epidemiological transition and as the prevalence of infectious diseases decreased through the 20th century public health began to put more focus on chronic diseases such as cancer and heart disease previous efforts in many developed countries had already led to dramatic reductions in the infant mortality rate using preventive methods in britain the infant mortality rate fell from over 15 in 1870 to 7 by 1930a major public health concern in developing countries is poor maternal and child health exacerbated by malnutrition and poverty the who reports that a lack of exclusive breastfeeding during the first six months of life contributes to over a million avoidable child deaths each yearpublic health surveillance has led to the identification and prioritization of many public health issues facing the world today including hivaids diabetes waterborne diseases zoonotic diseases and antibiotic resistance leading to the reemergence of infectious diseases such as tuberculosis antibiotic resistance also known as drug resistance was the theme of world health day 2011\n",
      "for example the who reports that at least 220 million people worldwide have diabetes its incidence is increasing rapidly and it is projected that the number of diabetes deaths will double by 2030 in a june 2010 editorial in the medical journal the lancet the authors opined that the fact that type 2 diabetes a largely preventable disorder has reached epidemic proportion is a public health humiliation the risk of type 2 diabetes is closely linked with the growing problem of obesity the whos latest estimates as of june 2016 highlighted that globally approximately 19 billion adults were overweight in 2014 and 41 million children under the age of five were overweight in 2014 once considered a problem in highincome countries it is now on the rise in lowincome countries especially in urban settingsmany public health programs are increasingly dedicating attention and resources to the issue of obesity with objectives to address the underlying causes including healthy diet and physical exercise the national institute for health and care research nihr has published a review of research on what local authorities can do to tackle obesity the review covers interventions in the food environment what people buy and eat the built and natural environments schools and the community as well as those focussing on active travel leisure services and public sports weight management programmes and systemwide approacheshealth inequalities driven by the social determinants of health are also a growing area of concern in public health  a central challenge to securing health equity is that the same social structures that contribute to health inequities also operate and are reproduced by public health organizations in other words public health organizations have evolved to better meet the needs of some groups more than others the result is often that those most in need of preventative interventions are least likely to receive them and interventions can actually aggravate inequities as they are often inadvertently tailored to the needs of the normative group identifying bias within public health research and practice is essential to ensuring public health efforts mitigate and dont aggravate health inequities\n",
      "\n",
      "\n",
      " organizations \n",
      "\n",
      "\n",
      " world health organization who \n",
      "the world health organization who is a specialized agency of the united nations responsible for international public health the who constitution which establishes the agencys governing structure and principles states its main objective as the attainment by all peoples of the highest possible level of health the whos broad mandate includes advocating for universal healthcare monitoring public health risks coordinating responses to health emergencies and promoting human health and wellbeing the who has played a leading role in several public health achievements most notably the eradication of smallpox the neareradication of polio and the development of an ebola vaccine its current priorities include communicable diseases particularly hivaids ebola covid19 malaria and tuberculosis noncommunicable diseases such as heart disease and cancer healthy diet nutrition and food security occupational health and substance abuse\n",
      "\n",
      "\n",
      " others \n",
      "most countries have their own governmental public health agency often called the ministry of health with responsibility for domestic health issues\n",
      "for example in the united states state and local health departments are on the front line of public health initiatives in addition to their national duties the united states public health service phs led by the surgeon general of the united states public health service and the centers for disease control and prevention headquartered in atlanta are also involved with international health activities\n",
      "\n",
      "\n",
      " public health programs \n",
      "most governments recognize the importance of public health programs in reducing the incidence of disease disability and the effects of aging and other physical and mental health conditions however public health generally receives significantly less government funding compared with medicine although the collaboration of local health and government agencies is considered best practice to improve public health the pieces of evidence available to support this is limited public health programs providing vaccinations have made major progress in promoting health including substantially reducing the occurrence of cholera and polio and eradicating smallpox diseases that have plagued humanity for thousands of years\n",
      "the world health organization who identifies core functions of public health programs including\n",
      "providing leadership on matters critical to health and engaging in partnerships where joint action is needed\n",
      "shaping a research agenda and stimulating the generation translation and dissemination of valuable knowledge\n",
      "setting norms and standards and promoting and monitoring their implementation\n",
      "articulating ethical and evidencebased policy options\n",
      "monitoring the health situation and assessing health trendsin particular public health surveillance programs can\n",
      "serve as an early warning system for impending public health emergencies\n",
      "document the impact of an intervention or track progress towards specified goals and\n",
      "monitor and clarify the epidemiology of health problems allow priorities to be set and inform health policy and strategies\n",
      "diagnose investigate and monitor health problems and health hazards of the community\n",
      "\n",
      "\n",
      " behavior change \n",
      "\n",
      "many health problems are due to maladaptive personal behaviors from an evolutionary psychology perspective over consumption of novel substances that are harmful is due to the activation of an evolved reward system for substances such as drugs tobacco alcohol refined salt fat and carbohydrates new technologies such as modern transportation also cause reduced physical activity research has found that behavior is more effectively changed by taking evolutionary motivations into consideration instead of only presenting information about health effects the marketing industry has long known the importance of associating products with high status and attractiveness to others films are increasingly being recognized as a public health tool in fact film festivals and competitions have been established to specifically promote films about health conversely it has been argued that emphasizing the harmful and undesirable effects of tobacco smoking on other persons and imposing smoking bans in public places have been particularly effective in reducing tobacco smoking\n",
      "\n",
      "\n",
      " applications in health care \n",
      "as well as seeking to improve population health through the implementation of specific populationlevel interventions public health contributes to medical care by identifying and assessing population needs for health care services including\n",
      "assessing current services and evaluating whether they are meeting the objectives of the health care system\n",
      "ascertaining requirements as expressed by health professionals the public and other stakeholders\n",
      "identifying the most appropriate interventions\n",
      "considering the effect on resources for proposed interventions and assessing their costeffectiveness\n",
      "supporting decision making in health care and planning health services including any necessary changes\n",
      "informing educating and empowering people about health issues\n",
      "\n",
      "\n",
      " conflicting aims \n",
      "some programs and policies associated with public health promotion and prevention can be controversial one such example is programs focusing on the prevention of hiv transmission through safe sex campaigns and needleexchange programs another is the control of tobacco smoking many nations have implemented major initiatives to cut smoking such as increased taxation and bans on smoking in some or all public places supporters argue by presenting evidence that smoking is one of the major killers and that therefore governments have a duty to reduce the death rate both through limiting passive secondhand smoking and by providing fewer opportunities for people to smoke opponents say that this undermines individual freedom and personal responsibility and worry that the state may be encouraged to remove more and more choice in the name of better population health overallpsychological research confirms this tension between concerns about public health and concerns about personal liberty i the best predictor of complying with public health recommendations such as handwashing maskwearing and staying at home except for essential activity during the covid19 pandemic was peoples perceived duties to prevent harm but ii the best predictor of flouting such public health recommendations was valuing liberty more than equalitysimultaneously while communicable diseases have historically ranged uppermost as a global health priority noncommunicable diseases and the underlying behaviorrelated risk factors have been at the bottom this is changing however as illustrated by the united nations hosting its first general assembly special summit on the issue of noncommunicable diseases in september 2011\n",
      "\n",
      "\n",
      " global perspectives \n",
      "\n",
      "\n",
      " disparities in service and access \n",
      "there is a significant disparity in access to health care and public health initiatives between developed countries and developing countries as well as within developing countries in developing countries public health infrastructures are still forming there may not be enough trained health workers monetary resources or in some cases sufficient knowledge to provide even a basic level of medical care and disease prevention as a result a large majority of disease and mortality in developing countries results from and contributes to extreme poverty for example many african governments spend less than us10 per person per year on health care while in the united states the federal government spent approximately us4500 per capita in 2000 however expenditures on health care should not be confused with spending on public health public health measures may not generally be considered health care in the strictest sense for example mandating the use of seat belts in cars can save countless lives and contribute to the health of a population but typically money spent enforcing this rule would not count as money spent on health care\n",
      "\n",
      "large parts of the world remained plagued by largely preventable or treatable infectious diseases in addition to this however many developing countries are also experiencing an epidemiological shift and polarization in which populations are now experiencing more of the effects of chronic diseases as life expectancy increases the poorer communities being heavily affected by both chronic and infectious diseases another major public health concern in the developing world is poor maternal and child health exacerbated by malnutrition and poverty the who reports that a lack of exclusive breastfeeding during the first six months of life contributes to over a million avoidable child deaths each year intermittent preventive therapy aimed at treating and preventing malaria episodes among pregnant women and young children is one public health measure in endemic countries\n",
      "since the 1980s the growing field of population health has broadened the focus of public health from individual behaviors and risk factors to populationlevel issues such as inequality poverty and education modern public health is often concerned with addressing determinants of health across a population there is a recognition that health is affected by many factors including class race income educational status region of residence and social relationships these are known as social determinants of health the upstream drivers such as environment education employment income food security housing social inclusion and many others effect the distribution of health between and within populations and are often shaped by policy a social gradient in health runs through society the poorest generally have the worst health but even the middle classes will generally have worse health outcomes than those of a higher social level the new public health advocates for populationbased policies that improve health in an equitable manner\n",
      "the health sector is one of europes most laborintensive industries in late 2020 it accounted for more than 21 million employment in the european union when combined with social work according to the who several countries began the covid19 pandemic with insufficient health and care professionals inappropriate skill mixtures and unequal geographical distributions these issues were worsened by the pandemic reiterating the importance of public health in the united states a history of underinvestment in public health undermined the public health workforce and support for population health long before the pandemic added to stress mental distress job dissatisfaction and accelerated departures among public health workers\n",
      "\n",
      "\n",
      " health aid in developing countries \n",
      "\n",
      "health aid to developing countries is an important source of public health funding for many developing countries health aid to developing countries has shown a significant increase after world war ii as concerns over the spread of disease as a result of globalization increased and the hivaids epidemic in subsaharan africa surfaced from 1990 to 2010 total health aid from developed countries increased from 55 billion to 2687 billion with wealthy countries continuously donating billions of dollars every year with the goal of improving population health some efforts however receive a significantly larger proportion of funds such as hiv which received an increase in funds of over 6 billion between 2000 and 2010 which was more than twice the increase seen in any other sector during those years health aid has seen an expansion through multiple channels including private philanthropy nongovernmental organizations private foundations such as the rockefeller foundation or the bill  melinda gates foundation bilateral donors and multilateral donors such as the world bank or unicef the result has been a sharp rise in uncoordinated and fragmented funding of an everincreasing number of initiatives and projects to promote better strategic cooperation and coordination between partners particularly among bilateral development agencies and funding organizations the swedish international development cooperation agency sida spearheaded the establishment of essence an initiative to facilitate dialogue between donorsfunders allowing them to identify synergies essence brings together a wide range of funding agencies to coordinate funding efforts\n",
      "in 2009 health aid from the oecd amounted to 1247 billion which amounted to 114 of its total bilateral aid in 2009 multilateral donors were found to spend 153 of their total aid on bettering public healthcare\n",
      "\n",
      "\n",
      " international health aid debates \n",
      "debates exist questioning the efficacy of international health aid supporters of aid claim that health aid from wealthy countries is necessary in order for developing countries to escape the poverty trap opponents of health aid claim that international health aid actually disrupts developing countries course of development causes dependence on aid and in many cases the aid fails to reach its recipients for example recently health aid was funneled towards initiatives such as financing new technologies like antiretroviral medication insecticidetreated mosquito nets and new vaccines the positive impacts of these initiatives can be seen in the eradication of smallpox and polio however critics claim that misuse or misplacement of funds may cause many of these efforts to never come into achievementeconomic modeling based on the institute for health metrics and evaluation and the world health organization has shown a link between international health aid in developing countries and a reduction in adult mortality rates however a 2014–2016 study suggests that a potential confounding variable for this outcome is the possibility that aid was directed at countries once they were already on track for improvement that same study however also suggests that 1 billion dollars in health aid was associated with 364000 fewer deaths occurring between ages 0 and 5 in 2011\n",
      "\n",
      "\n",
      " sustainable development goals for 2030 \n",
      "\n",
      "to address current and future challenges in addressing health issues in the world the united nations have developed the sustainable development goals to be completed by 2030 these goals in their entirety encompass the entire spectrum of development across nations however goals 1–6 directly address health disparities primarily in developing countries these six goals address key issues in global public health poverty hunger and food security health education gender equality and womens empowerment and water and sanitation public health officials can use these goals to set their own agenda and plan for smaller scale initiatives for their organizations these goals are designed to lessen the burden of disease and inequality faced by developing countries and lead to a healthier future the links between the various sustainable development goals and public health are numerous and well established\n",
      "\n",
      "\n",
      " history \n",
      "\n",
      "\n",
      " until the 18th century \n",
      "from the beginnings of human civilization communities promoted health and fought disease at the population level definitions of health as well as methods to pursue it differed according to the medical religious and naturalphilosophical ideas groups held the resources they had and the changing circumstances in which they lived yet few early societies displayed the hygienic stagnation or even apathy often attributed to them the latter reputation is mainly based on the absence of presentday bioindicators especially immunological and statistical tools developed in light of the germ theory of disease transmissionpublic health was born neither in europe nor as a response to the industrial revolution preventive health interventions are attested almost anywhere historical communities have left their mark in southeast asia for instance ayurvedic medicine and subsequently buddhism fostered occupational dietary and sexual regimens that promised balanced bodies lives and communities a notion strongly present in traditional chinese medicine as well among the mayans aztecs and other early civilizations in the americas population centers pursued hygienic programs including by holding medicinal herbal markets and among aboriginal australians techniques for preserving and protecting water and food sources microzoning to reduce pollution and fire risks and screens to protect people against flies were common even in temporary camps\n",
      "western european byzantine and islamicate civilizations which generally adopted a hippocratic galenic or humoral medical system fostered preventive programs as well these were developed on the basis of evaluating the quality of local climates including topography wind conditions and exposure to the sun and the properties and availability of water and food for both humans and nonhuman animals diverse authors of medical architectural engineering and military manuals explained how to apply such theories to groups of different origins and under different circumstances this was crucial since under galenism bodily constitutions were thought to be heavily shaped by their material environments so their balance required specific regimens as they traveled during different seasons and between climate zonesin complex preindustrialized societies interventions designed to reduce health risks could be the initiative of different stakeholders for instance in greek and roman antiquity army generals learned to provide for soldiers wellbeing including off the battlefield where most combatants died prior to the twentieth century in christian monasteries across the eastern mediterranean and western europe since at least the fifth century ce monks and nuns pursued strict but balanced regimens including nutritious diets developed explicitly to extend their lives and royal princely and papal courts which were often mobile as well likewise adapted their behavior to suit environmental conditions in the sites they occupied they could also choose sites they considered salubrious for their members and sometimes had them modifiedin cities residents and rulers developed measures to benefit the general population which faced a broad array of recognized health risks these provide some of the most sustained evidence for preventive measures in earlier civilizations in numerous sites the upkeep of infrastructures including roads canals and marketplaces as well as zoning policies were introduced explicitly to preserve residents health officials such as the muhtasib in the middle east and the road master in italy fought the combined threats of pollution through sin ocular intromission and miasma craft guilds were important agents of waste disposal and promoted harm reduction through honesty and labor safety among their members medical practitioners including public physicians collaborated with urban governments in predicting and preparing for calamities and identifying and isolating people perceived as lepers a disease with strong moral connotations neighborhoods were also active in safeguarding local peoples health by monitoring atrisk sites near them and taking appropriate social and legal action against artisanal polluters and neglectful owners of animals religious institutions individuals and charitable organizations in both islam and christianity likewise promoted moral and physical wellbeing by endowing urban amenities such as wells fountains schools and bridges also in the service of pilgrims in western europe and byzantium religious processions commonly took place which purported to act as both preventive and curative measures for the entire communityurban residents and other groups also developed preventive measures in response to calamities such as war famine floods and widespread disease during and after the black death 1346–53 for instance inhabitants of the eastern mediterranean and western europe reacted to massive population decline in part on the basis of existing medical theories and protocols for instance concerning meat consumption and burial and in part by developing new ones the latter included the establishment of quarantine facilities and health boards some of which eventually became regular urban and later national offices subsequent measures for protecting cities and their regions included issuing health passports for travelers deploying guards to create sanitary cordons for protecting local inhabitants and gathering morbidity and mortality statistics  such measures relied in turn on better transportation and communication networks through which news on human and animal disease was efficiently spread\n",
      "\n",
      "\n",
      " after the 18th century \n",
      "with the onset of the industrial revolution living standards amongst the working population began to worsen with cramped and unsanitary urban conditions in the first four decades of the 19th century alone londons population doubled and even greater growth rates were recorded in the new industrial towns such as leeds and manchester this rapid urbanization exacerbated the spread of disease in the large conurbations that built up around the workhouses and factories these settlements were cramped and primitive with no organized sanitation disease was inevitable and its incubation in these areas was encouraged by the poor lifestyle of the inhabitants unavailable housing led to the rapid growth of slums and the per capita death rate began to rise alarmingly almost doubling in birmingham and liverpool thomas malthus warned of the dangers of overpopulation in 1798 his ideas as well as those of jeremy bentham became very influential in government circles in the early years of the 19th century the latter part of the century brought the establishment of the basic pattern of improvements in public health over the next two centuries a social evil was identified private philanthropists brought attention to it and changing public opinion led to government action the 18th century saw rapid growth in voluntary hospitals in englandthe practice of vaccination began in the 1800s following the pioneering work of edward jenner in treating smallpox james linds discovery of the causes of scurvy amongst sailors and its mitigation via the introduction of fruit on lengthy voyages was published in 1754 and led to the adoption of this idea by the royal navy efforts were also made to promulgate health matters to the broader public in 1752 the british physician sir john pringle published observations on the diseases of the army in camp and garrison in which he advocated for the importance of adequate ventilation in the military barracks and the provision of latrines for the soldiers\n",
      "\n",
      "\n",
      " public health legislation in england \n",
      "the first attempts at sanitary reform and the establishment of public health institutions were made in the 1840s thomas southwood smith physician at the london fever hospital began to write papers on the importance of public health and was one of the first physicians brought in to give evidence before the poor law commission in the 1830s along with neil arnott and james phillips kay smith advised the government on the importance of quarantine and sanitary improvement for limiting the spread of infectious diseases such as cholera and yellow feverthe poor law commission reported in 1838 that the expenditures necessary to the adoption and maintenance of measures of prevention would ultimately amount to less than the cost of the disease now constantly engendered it recommended the implementation of large scale government engineering projects to alleviate the conditions that allowed for the propagation of disease the health of towns association was formed at exeter hall london on 11 december 1844 and vigorously campaigned for the development of public health in the united kingdom its formation followed the 1843 establishment of the health of towns commission chaired by sir edwin chadwick which produced a series of reports on poor and insanitary conditions in british citiesthese national and local movements led to the public health act finally passed in 1848 it aimed to improve the sanitary condition of towns and populous places in england and wales by placing the supply of water sewerage drainage cleansing and paving under a single local body with the general board of health as a central authority the act was passed by the liberal government of lord john russell in response to the urging of edwin chadwick chadwicks seminal report on the sanitary condition of the labouring population was published in 1842 and was followed up with a supplementary report a year later during this time james newlands appointed following the passing of the 1846 liverpool sanatory act championed by the borough of liverpool health of towns committee designed the worlds first integrated sewerage system in liverpool 1848–1869 with joseph bazalgette later creating londons sewerage system 1858–1875\n",
      "the vaccination act 1853 introduced compulsory smallpox vaccination in england and wales by 1871 legislation required a comprehensive system of registration run by appointed vaccination officersfurther interventions were made by a series of subsequent public health acts notably the 1875 act reforms included the building of sewers the regular collection of garbage followed by incineration or disposal in a landfill the provision of clean water and the draining of standing water to prevent the breeding of mosquitoes\n",
      "the infectious disease notification act 1889 mandated the reporting of infectious diseases to the local sanitary authority which could then pursue measures such as the removal of the patient to hospital and the disinfection of homes and properties\n",
      "\n",
      "\n",
      " public health legislation in other countries \n",
      "in the united states the first public health organization based on a state health department and local boards of health was founded in new york city in 1866in germany during the weimar republic the country faced many public health catastrophes the nazi party had a goal of modernizing health care with volksgesundheit german for peoples public health this modernization was based on the growing field of eugenics and measures prioritizing group health over any care for the health of individuals  the end of world war 2 led to the nuremberg code a set of research ethics concerning human experimentation\n",
      "\n",
      "\n",
      " epidemiology \n",
      "the science of epidemiology was founded by john snows identification of a polluted public water well as the source of an 1854 cholera outbreak in london snow believed in the germ theory of disease as opposed to the prevailing miasma theory by talking to local residents with the help of reverend henry whitehead he identified the source of the outbreak as the public water pump on broad street now broadwick street although snows chemical and microscope examination of a water sample from the broad street pump did not conclusively prove its danger his studies of the pattern of the disease were convincing enough to persuade the local council to close the well pump by removing its handlesnow later used a dot map to illustrate the cluster of cholera cases around the pump he also used statistics to illustrate the connection between the quality of the water source and cholera cases he showed that the southwark and vauxhall waterworks company was taking water from sewagepolluted sections of the thames and delivering the water to homes leading to an increased incidence of cholera snows study was a major event in the history of public health and geography it is regarded as the founding event of the science of epidemiology\n",
      "\n",
      "\n",
      " control of infectious diseases \n",
      "with the pioneering work in bacteriology of french chemist louis pasteur and german scientist robert koch methods for isolating the bacteria responsible for a given disease and vaccines for remedy were developed at the turn of the 20th century british physician ronald ross identified the mosquito as the carrier of malaria and laid the foundations for combating the disease joseph lister revolutionized surgery by the introduction of antiseptic surgery to eliminate infection french epidemiologist paullouis simond proved that plague was carried by fleas on the back of rats and cuban scientist carlos j finlay and us americans walter reed and james carroll demonstrated that mosquitoes carry the virus responsible for yellow fever brazilian scientist carlos chagas identified a tropical disease and its vector\n",
      "\n",
      "\n",
      " society and culture \n",
      "\n",
      "\n",
      " education and training \n",
      "education and training of public health professionals is available throughout the world in schools of public health medical schools veterinary schools schools of nursing and schools of public affairs the training typically requires a university degree with a focus on core disciplines of biostatistics epidemiology health services administration health policy health education behavioral science gender issues sexual and reproductive health public health nutrition and occupational and environmental healthin the global context the field of public health education has evolved enormously in recent decades supported by institutions such as the world health organization and the world bank among others operational structures are formulated by strategic principles with educational and career pathways guided by competency frameworks all requiring modulation according to local national and global realities it is critically important for the health of populations that nations assess their public health human resource needs and develop their ability to deliver this capacity and not depend on other countries to supply it\n",
      "\n",
      "\n",
      " schools of public health a us perspective \n",
      "in the united states the welchrose report of 1915 has been viewed as the basis for the critical movement in the history of the institutional schism between public health and medicine because it led to the establishment of schools of public health supported by the rockefeller foundation the report was authored by william welch founding dean of the johns hopkins bloomberg school of public health and wickliffe rose of the rockefeller foundation the report focused more on research than practical education some have blamed the rockefeller foundations 1916 decision to support the establishment of schools of public health for creating the schism between public health and medicine and legitimizing the rift between medicines laboratory investigation of the mechanisms of disease and public healths nonclinical concern with environmental and social influences on health and wellnesseven though schools of public health had already been established in canada europe and north africa the united states had still maintained the traditional system of housing faculties of public health within their medical institutions  a 25000 donation from businessman samuel zemurray instituted the school of public health and tropical medicine at tulane university in 1912 conferring its first doctor of public health degree in 1914  the yale school of public health was founded by charlesedward amory winslow in 1915 the johns hopkins school of hygiene and public health was founded in 1916 and became an independent degreegranting institution for research and training in public health and the largest public health training facility in the united states by 1922 schools of public health were established at columbia and harvard on the hopkins model by 1999 there were twenty nine schools of public health in the us enrolling around fifteen thousand studentsover the years the types of students and training provided have also changed in the beginning students who enrolled in public health schools typically had already obtained a medical degree public health school training was largely a second degree for medical professionals however in 1978 69 of american students enrolled in public health schools had only a bachelors degree\n",
      "\n",
      "\n",
      " degrees in public health \n",
      "\n",
      "schools of public health offer a variety of degrees generally fall into two categories professional or academic the two major postgraduate degrees are the master of public health mph or the master of science in public health msph doctoral studies in this field include doctor of public health drph and doctor of philosophy phd in a subspecialty of greater public health disciplines drph is regarded as a professional degree and phd as more of an academic degree\n",
      "professional degrees are oriented towards practice in public health settings the master of public health doctor of public health doctor of health science dhscdhs and the master of health care administration are examples of degrees which are geared towards people who want careers as practitioners of public health in health departments managed care and communitybased organizations hospitals and consulting firms among others master of public health degrees broadly fall into two categories those that put more emphasis on an understanding of epidemiology and statistics as the scientific basis of public health practice and those that include a more wide range of methodologies  a master of science of public health is similar to an mph but is considered an academic degree as opposed to a professional degree and places more emphasis on scientific methods and research  the same distinction can be made between the drph and the dhsc the drph is considered a professional degree and the dhsc is an academic degreeacademic degrees are more oriented towards those with interests in the scientific basis of public health and preventive medicine who wish to pursue careers in research university teaching in graduate programs policy analysis and development and other highlevel public health positions examples of academic degrees are the master of science doctor of philosophy doctor of science scd and doctor of health science dhsc the doctoral programs are distinct from the mph and other professional programs by the addition of advanced coursework and the nature and scope of a dissertation research project\n",
      "\n",
      "\n",
      " notable people \n",
      "john graunt 1620–1674  was a british citizen scientist who laid the foundations for epidemiology\n",
      "edward jenner 1749–1823 created the smallpox vaccine the first vaccine in the world he is often known as the father of immunology\n",
      "benjamin waterhouse 1753–1846 introduced the smallpox vaccine in the united states\n",
      "lemuel shattuck 1793–1859 has been described as an architect and prophet of american public health\n",
      "john snow 18131858 was the father of modern epidemiology\n",
      "sir joseph william bazalgette 1819–1891 created a sewer network for central london in response to the great stink of 1858 this proved instrumental in relieving the city from cholera epidemics\n",
      "louis pasteur 1822–1895 conducted research that laid the foundation for our understanding of the causes and preventions of diseases\n",
      "robert koch 1843–1910 used his discoveries to establish that germs could cause a specific diseaseand directly provided proofs for that germ theory of diseases therefore creating the scientific basis of public health saving millions of lives\n",
      "charles v chapin 1856–1941 public health advocate and researcher credited with planting the roots of quality in public health in the united states\n",
      "sara josephine baker 1873–1945 was an instrumental force in child and maternal health\n",
      "nora wattie 1900–1994 led the development of public health services and sanitation and education in improving women and child health in the poorest slums of glasgow for which she received the obe\n",
      "jonas salk 1914–1995 developed one of the first polio vaccines and campaigned vigorously for mandatory vaccinations\n",
      "ruth huenemann 1910–2005 she became a pioneer in the study of childhood obesity in the 1960s studying the diet and exercise habits of berkeley teenagers\n",
      "edmond fernandes  1990 demonstrated proof of concept to end the burden of malnutrition in india and around the world\n",
      "dilip mahalanabis  credited to have evolved and utilized ors to save thousands of lives during the liberation war\n",
      "\n",
      "\n",
      " country examples \n",
      "\n",
      "\n",
      " canada \n",
      "in canada the public health agency of canada is the national agency responsible for public health emergency preparedness and response and infectious and chronic disease control and prevention\n",
      "\n",
      "\n",
      " cuba \n",
      "since the 1959 cuban revolution the cuban government has devoted extensive resources to the improvement of health conditions for its entire population via universal access to health care infant mortality has plummeted cuban medical internationalism as a policy has seen the cuban government sent doctors as a form of aid and export to countries in need in latin america especially venezuela as well as oceania and africa countries\n",
      "\n",
      "\n",
      " colombia and bolivia \n",
      "public health was important elsewhere in latin america in consolidating state power and integrating marginalized populations into the nationstate  in colombia public health was a means for creating and implementing ideas of citizenship in bolivia a similar push came after their 1952 revolution\n",
      "\n",
      "\n",
      " ghana \n",
      "though curable and preventive malaria remains a major public health issue and is the third leading cause of death in ghana in the absence of a vaccine mosquito control or access to antimalaria medication public health methods become the main strategy for reducing the prevalence and severity of malaria these methods include reducing breeding sites screening doors and windows insecticide sprays prompt treatment following infection and usage of insecticide treated mosquito nets distribution and sale of insecticidetreated mosquito nets is a common costeffective antimalaria public health intervention however barriers to use exist including cost household and family organization access to resources and social and behavioral determinants which have not only been shown to affect malaria prevalence rates but also mosquito net use\n",
      "\n",
      "\n",
      " france \n",
      "\n",
      "\n",
      " mexico \n",
      "\n",
      "\n",
      " united states \n",
      "\n",
      "the united states lacks a coherent system for the governmental funding of public health relying on a variety of agencies and programs at the federal state and local levels\n",
      "between 1960 and 2001 public health spending in the united states tended to grow\n",
      "based on increasing expenditures by state and local government which made up 80–90 of\n",
      "total public health spending  spending in support of public health in the united states peaked in 2002 and declined in the following decade state cuts to public health funding during the great recession of 2007–2008 were not restored in subsequent years\n",
      "as of 2012 a panel for the  us institute of medicine panel warned that the united states spends disproportionately far more on clinical care than it does on public health neglecting populationbased activities that offer efficient and effective approaches to improving the nations health  as of 2018 about 3 of government health spending was directed to public health and prevention this situation has been described as an uneven patchwork and chronic underfunding\n",
      "the covid19 pandemic has been seen as drawing attention to problems in the public health system in the united states and to a lack of understanding of public health and its important role as a common good\n",
      "\n",
      "\n",
      " see also \n",
      "global health\n",
      "health care\n",
      "health equity\n",
      "health policy\n",
      "health system\n",
      "health law\n",
      "effects of climate change on human health\n",
      "european public health association eupha is an umbrella organization for public health associations and institutes in europe\n",
      "list of national public health agencies\n",
      "universal health care\n",
      "\n",
      "\n",
      " references \n"
     ]
    }
   ],
   "source": [
    "# remove punctuation\n",
    "\n",
    "text = ph.content.lower()\n",
    "filtered_text = text.translate(str.maketrans('', '', string.punctuation))\n",
    "print(filtered_text)"
   ]
  },
  {
   "cell_type": "markdown",
   "metadata": {
    "slideshow": {
     "slide_type": "slide"
    }
   },
   "source": [
    "# Tokenization\n",
    "* Basically breaking up text into words"
   ]
  },
  {
   "cell_type": "code",
   "execution_count": 22,
   "metadata": {
    "slideshow": {
     "slide_type": "slide"
    }
   },
   "outputs": [
    {
     "data": {
      "text/plain": [
       "['public',\n",
       " 'health',\n",
       " 'is',\n",
       " 'the',\n",
       " 'science',\n",
       " 'and',\n",
       " 'art',\n",
       " 'of',\n",
       " 'preventing',\n",
       " 'disease']"
      ]
     },
     "execution_count": 22,
     "metadata": {},
     "output_type": "execute_result"
    }
   ],
   "source": [
    "# tokenize into words\n",
    "\n",
    "tokens = nltk.word_tokenize(filtered_text)\n",
    "tokens[:10]"
   ]
  },
  {
   "cell_type": "code",
   "execution_count": 23,
   "metadata": {
    "slideshow": {
     "slide_type": "slide"
    }
   },
   "outputs": [
    {
     "data": {
      "text/plain": [
       "2215"
      ]
     },
     "execution_count": 23,
     "metadata": {},
     "output_type": "execute_result"
    }
   ],
   "source": [
    "# build a vocabulary in lowercase\n",
    "\n",
    "vocab = sorted(set(tokens))\n",
    "len(vocab)"
   ]
  },
  {
   "cell_type": "code",
   "execution_count": 24,
   "metadata": {
    "slideshow": {
     "slide_type": "slide"
    }
   },
   "outputs": [
    {
     "data": {
      "text/plain": [
       "['0', '1', '11', '114', '123', '1247', '1346–53', '15', '153', '154']"
      ]
     },
     "execution_count": 24,
     "metadata": {},
     "output_type": "execute_result"
    }
   ],
   "source": [
    "# numbers are at the beginning\n",
    "\n",
    "vocab[:10]"
   ]
  },
  {
   "cell_type": "code",
   "execution_count": 25,
   "metadata": {
    "slideshow": {
     "slide_type": "slide"
    }
   },
   "outputs": [
    {
     "data": {
      "text/plain": [
       "['theory',\n",
       " 'therapy',\n",
       " 'there',\n",
       " 'therefore',\n",
       " 'these',\n",
       " 'they',\n",
       " 'third',\n",
       " 'this',\n",
       " 'thomas',\n",
       " 'those']"
      ]
     },
     "execution_count": 25,
     "metadata": {},
     "output_type": "execute_result"
    }
   ],
   "source": [
    "# more meaningful words \n",
    "\n",
    "vocab[2000:2010]"
   ]
  },
  {
   "cell_type": "code",
   "execution_count": 26,
   "metadata": {
    "slideshow": {
     "slide_type": "slide"
    }
   },
   "outputs": [
    {
     "data": {
      "text/plain": [
       "['public health is \"the science and art of preventing disease, prolonging life and promoting health through the organized efforts and informed choices of society, organizations, public and private, communities and individuals\".',\n",
       " 'analyzing the determinants of health of a population and the threats it faces is the basis for public health.',\n",
       " 'the public can be as small as a handful of people or as large as a village or an entire city; in the case of a pandemic it may encompass several continents.',\n",
       " 'the concept of health takes into account physical, psychological, and social well-being.public health is an interdisciplinary field.',\n",
       " 'for example, epidemiology, biostatistics, social sciences and management of health services are all relevant.',\n",
       " 'other important sub-fields include environmental health, community health, behavioral health, health economics, public policy, mental health, health education, health politics, occupational safety, disability, oral health, gender issues in health, and sexual and reproductive health.',\n",
       " \"public health, together with primary care, secondary care, and tertiary care, is part of a country's overall healthcare system.\",\n",
       " 'public health is implemented through the surveillance of cases and health indicators, and through the promotion of healthy behaviors.',\n",
       " 'common public health initiatives include promotion of hand-washing and breastfeeding, delivery of vaccinations, promoting ventilation and improved air quality both indoors and outdoors, suicide prevention, smoking cessation, obesity education, increasing healthcare accessibility and distribution of condoms to control the spread of sexually transmitted diseases.',\n",
       " 'there is a significant disparity in access to health care and public health initiatives between developed countries and developing countries, as well as within developing countries.']"
      ]
     },
     "execution_count": 26,
     "metadata": {},
     "output_type": "execute_result"
    }
   ],
   "source": [
    "# tokenize into sentences\n",
    "# you can see that it looks for sentence-ending punctuation such as periods\n",
    "# use the text before punctuation removal\n",
    "\n",
    "sents = nltk.sent_tokenize(text)\n",
    "sents[:10]"
   ]
  },
  {
   "cell_type": "markdown",
   "metadata": {
    "slideshow": {
     "slide_type": "slide"
    }
   },
   "source": [
    "# Stopword Removal\n",
    "* Remove meaningless words"
   ]
  },
  {
   "cell_type": "code",
   "execution_count": 27,
   "metadata": {
    "slideshow": {
     "slide_type": "slide"
    }
   },
   "outputs": [
    {
     "name": "stdout",
     "output_type": "stream",
     "text": [
      "['i', 'me', 'my', 'myself', 'we', 'our', 'ours', 'ourselves', 'you', \"you're\", \"you've\", \"you'll\", \"you'd\", 'your', 'yours', 'yourself', 'yourselves', 'he', 'him', 'his', 'himself', 'she', \"she's\", 'her', 'hers', 'herself', 'it', \"it's\", 'its', 'itself', 'they', 'them', 'their', 'theirs', 'themselves', 'what', 'which', 'who', 'whom', 'this', 'that', \"that'll\", 'these', 'those', 'am', 'is', 'are', 'was', 'were', 'be', 'been', 'being', 'have', 'has', 'had', 'having', 'do', 'does', 'did', 'doing', 'a', 'an', 'the', 'and', 'but', 'if', 'or', 'because', 'as', 'until', 'while', 'of', 'at', 'by', 'for', 'with', 'about', 'against', 'between', 'into', 'through', 'during', 'before', 'after', 'above', 'below', 'to', 'from', 'up', 'down', 'in', 'out', 'on', 'off', 'over', 'under', 'again', 'further', 'then', 'once', 'here', 'there', 'when', 'where', 'why', 'how', 'all', 'any', 'both', 'each', 'few', 'more', 'most', 'other', 'some', 'such', 'no', 'nor', 'not', 'only', 'own', 'same', 'so', 'than', 'too', 'very', 's', 't', 'can', 'will', 'just', 'don', \"don't\", 'should', \"should've\", 'now', 'd', 'll', 'm', 'o', 're', 've', 'y', 'ain', 'aren', \"aren't\", 'couldn', \"couldn't\", 'didn', \"didn't\", 'doesn', \"doesn't\", 'hadn', \"hadn't\", 'hasn', \"hasn't\", 'haven', \"haven't\", 'isn', \"isn't\", 'ma', 'mightn', \"mightn't\", 'mustn', \"mustn't\", 'needn', \"needn't\", 'shan', \"shan't\", 'shouldn', \"shouldn't\", 'wasn', \"wasn't\", 'weren', \"weren't\", 'won', \"won't\", 'wouldn', \"wouldn't\"]\n"
     ]
    }
   ],
   "source": [
    "# NLTK has a list of stopwords\n",
    "\n",
    "print(stopwords.words('english'))"
   ]
  },
  {
   "cell_type": "code",
   "execution_count": 28,
   "metadata": {
    "slideshow": {
     "slide_type": "slide"
    }
   },
   "outputs": [
    {
     "name": "stdout",
     "output_type": "stream",
     "text": [
      "['public', 'health', 'science', 'art', 'preventing', 'disease', 'prolonging', 'life', 'promoting', 'health', 'organized', 'efforts', 'informed', 'choices', 'society', 'organizations', 'public', 'private', 'communities', 'individuals', 'analyzing', 'determinants', 'health', 'population', 'threats', 'faces', 'basis', 'public', 'health', 'public', 'small', 'handful', 'people', 'large', 'village', 'entire', 'city', 'case', 'pandemic', 'may', 'encompass', 'several', 'continents', 'concept', 'health', 'takes', 'account', 'physical', 'psychological', 'social', 'wellbeingpublic', 'health', 'interdisciplinary', 'field', 'example', 'epidemiology', 'biostatistics', 'social', 'sciences', 'management', 'health', 'services', 'relevant', 'important', 'subfields', 'include', 'environmental', 'health', 'community', 'health', 'behavioral', 'health', 'health', 'economics', 'public', 'policy', 'mental', 'health', 'health', 'education', 'health', 'politics', 'occupational', 'safety', 'disability', 'oral', 'health', 'gender', 'issues', 'health', 'sexual', 'reproductive', 'health', 'public', 'health', 'together', 'primary', 'care', 'secondary', 'care']\n"
     ]
    }
   ],
   "source": [
    "# remove stopwords from the tokenized text\n",
    "\n",
    "filtered_tokens = [token for token in tokens if not token in stopwords.words('english')]\n",
    "print(filtered_tokens[:100])"
   ]
  },
  {
   "cell_type": "markdown",
   "metadata": {
    "slideshow": {
     "slide_type": "slide"
    }
   },
   "source": [
    "# Regular Expressions\n",
    "* Widely used for word pattern matching\n",
    "* Advanced regular expressions can be very powerful\n",
    "* Only basics are covered here\n",
    "* See Table 3.3 in the NLTK Book"
   ]
  },
  {
   "cell_type": "code",
   "execution_count": 29,
   "metadata": {
    "slideshow": {
     "slide_type": "slide"
    }
   },
   "outputs": [
    {
     "data": {
      "text/plain": [
       "['accelerated',\n",
       " 'accounted',\n",
       " 'achieved',\n",
       " 'adapted',\n",
       " 'added',\n",
       " 'adopted',\n",
       " 'advanced',\n",
       " 'advised',\n",
       " 'advocated',\n",
       " 'affected']"
      ]
     },
     "execution_count": 29,
     "metadata": {},
     "output_type": "execute_result"
    }
   ],
   "source": [
    "# use regular expressions to find words that end in \"ed\"\n",
    "# $ means the end of a string\n",
    "\n",
    "past_tense = [w for w in vocab if re.search('ed$', w)]\n",
    "past_tense[:10]"
   ]
  },
  {
   "cell_type": "code",
   "execution_count": 30,
   "metadata": {
    "slideshow": {
     "slide_type": "slide"
    }
   },
   "outputs": [
    {
     "data": {
      "text/plain": [
       "['0', '1', '11', '114', '123', '1247', '1346–53', '15', '153', '154']"
      ]
     },
     "execution_count": 30,
     "metadata": {},
     "output_type": "execute_result"
    }
   ],
   "source": [
    "# find words that start with a number\n",
    "# ^ means the beginning of a string\n",
    "# [0-9] means any number\n",
    "# + means one or more of previous item\n",
    "\n",
    "numbers = [w for w in vocab if re.search('^[0-9]+', w)]\n",
    "numbers[:10]"
   ]
  },
  {
   "cell_type": "code",
   "execution_count": 31,
   "metadata": {
    "slideshow": {
     "slide_type": "slide"
    }
   },
   "outputs": [
    {
     "data": {
      "text/plain": [
       "['1346–53',\n",
       " '1620–1674',\n",
       " '1749–1823',\n",
       " '1753–1846',\n",
       " '1793–1859',\n",
       " '1819–1891',\n",
       " '1822–1895',\n",
       " '1843–1910',\n",
       " '1848–1869',\n",
       " '1856–1941']"
      ]
     },
     "execution_count": 31,
     "metadata": {},
     "output_type": "execute_result"
    }
   ],
   "source": [
    "# find hyphenated words\n",
    "\n",
    "hyphenated = [w for w in vocab if re.search('^[a-z0-9]+–[a-z0-9]+$', w)]\n",
    "hyphenated[:10]"
   ]
  },
  {
   "cell_type": "markdown",
   "metadata": {
    "slideshow": {
     "slide_type": "slide"
    }
   },
   "source": [
    "# Stemming\n",
    "* Variations of the same word need to be normalized\n",
    "    * -ed, -ing, etc.\n",
    "* Stemming simply truncates for the most part, so the stem may not be an actual word\n",
    "* Lemmatization considers the word morphology and the resulting lemma is an actual word"
   ]
  },
  {
   "cell_type": "code",
   "execution_count": 32,
   "metadata": {
    "slideshow": {
     "slide_type": "slide"
    }
   },
   "outputs": [
    {
     "name": "stdout",
     "output_type": "stream",
     "text": [
      "['theory', 'therapy', 'there', 'therefore', 'these', 'they', 'third', 'this', 'thomas', 'those']\n",
      "\n",
      "\n",
      "['theori', 'therapi', 'there', 'therefor', 'these', 'they', 'third', 'thi', 'thoma', 'those']\n"
     ]
    }
   ],
   "source": [
    "# NLTK provides several stemmers\n",
    "# that can normalize variations of the same word\n",
    "\n",
    "porter = nltk.PorterStemmer()\n",
    "porter_stems = [porter.stem(word) for word in vocab]\n",
    "print(vocab[2000:2010])\n",
    "print(\"\\n\")\n",
    "print(porter_stems[2000:2010])"
   ]
  },
  {
   "cell_type": "code",
   "execution_count": 33,
   "metadata": {
    "slideshow": {
     "slide_type": "slide"
    }
   },
   "outputs": [
    {
     "name": "stdout",
     "output_type": "stream",
     "text": [
      "['theory', 'therapy', 'there', 'therefore', 'these', 'they', 'third', 'this', 'thomas', 'those']\n",
      "\n",
      "\n",
      "['theori', 'therapi', 'there', 'therefor', 'these', 'they', 'third', 'thi', 'thoma', 'those']\n",
      "\n",
      "\n",
      "['the', 'therapy', 'ther', 'theref', 'thes', 'they', 'third', 'thi', 'thoma', 'thos']\n"
     ]
    }
   ],
   "source": [
    "# different stemmer gives slightly different results\n",
    "\n",
    "lancaster = nltk.LancasterStemmer()\n",
    "lancaster_stems = [lancaster.stem(word) for word in vocab]\n",
    "print(vocab[2000:2010])\n",
    "print(\"\\n\")\n",
    "print(porter_stems[2000:2010])\n",
    "print(\"\\n\")\n",
    "print(lancaster_stems[2000:2010])"
   ]
  },
  {
   "cell_type": "markdown",
   "metadata": {
    "slideshow": {
     "slide_type": "slide"
    }
   },
   "source": [
    "# Term Frequencies"
   ]
  },
  {
   "cell_type": "code",
   "execution_count": 34,
   "metadata": {
    "slideshow": {
     "slide_type": "slide"
    }
   },
   "outputs": [
    {
     "data": {
      "text/plain": [
       "[('the', 487),\n",
       " ('and', 395),\n",
       " ('of', 392),\n",
       " ('health', 369),\n",
       " ('in', 215),\n",
       " ('public', 196),\n",
       " ('to', 165),\n",
       " ('a', 134),\n",
       " ('as', 102),\n",
       " ('for', 84),\n",
       " ('is', 70),\n",
       " ('diseas', 62),\n",
       " ('by', 58),\n",
       " ('that', 58),\n",
       " ('on', 53),\n",
       " ('develop', 49),\n",
       " ('prevent', 47),\n",
       " ('with', 42),\n",
       " ('countri', 40),\n",
       " ('it', 39)]"
      ]
     },
     "execution_count": 34,
     "metadata": {},
     "output_type": "execute_result"
    }
   ],
   "source": [
    "# calculate how many times each token appears\n",
    "# let's use the tokens before stopword removal\n",
    "# most common terms are usually meaningless\n",
    "\n",
    "tokens_stemmed = [nltk.PorterStemmer().stem(token) for token in tokens]\n",
    "tf = nltk.FreqDist(tokens_stemmed)\n",
    "tf.most_common()[:20]"
   ]
  },
  {
   "cell_type": "code",
   "execution_count": 35,
   "metadata": {
    "slideshow": {
     "slide_type": "slide"
    }
   },
   "outputs": [],
   "source": [
    "# in order to give more weight to not-too-common words\n",
    "# idf (inverse document frequency) can be calculated\n",
    "# simplest form of tf-idf is the product between tf and idf\n",
    "# let's break up into 1000 words and treat each block as a document\n",
    "\n",
    "tf_idf = {}\n",
    "doc_size = 1000\n",
    "ntokens = len(tokens_stemmed)\n",
    "ndocs = math.ceil(ntokens/doc_size)\n",
    "\n",
    "for token in tf:\n",
    "    count = 0\n",
    "    doc_idx = 0\n",
    "    \n",
    "    while doc_idx < ndocs:\n",
    "        if doc_idx == ndocs-1:\n",
    "            doc = tokens_stemmed[doc_idx*doc_size:]\n",
    "        else:\n",
    "            doc = tokens_stemmed[doc_idx*doc_size:((doc_idx+1)*doc_size)]\n",
    "            \n",
    "        if token in doc:\n",
    "            count += 1\n",
    "            \n",
    "        doc_idx += 1\n",
    "    \n",
    "    tf_idf[token] = tf[token] * math.log(ndocs / count)"
   ]
  },
  {
   "cell_type": "code",
   "execution_count": 36,
   "metadata": {
    "slideshow": {
     "slide_type": "slide"
    }
   },
   "outputs": [
    {
     "data": {
      "text/plain": [
       "[('degre', 27.073393141972936),\n",
       " ('school', 23.070858062030304),\n",
       " ('aid', 23.070858062030304),\n",
       " ('term', 15.380572041353537),\n",
       " ('scienc', 13.78581367567759),\n",
       " ('act', 13.536696570986468),\n",
       " ('they', 13.536696570986468),\n",
       " ('doctor', 13.183347464017316),\n",
       " ('differ', 12.084735175349207),\n",
       " ('master', 12.032619174210193),\n",
       " ('program', 11.755733298042381),\n",
       " ('water', 11.353023027028602),\n",
       " ('train', 10.986122886681098),\n",
       " ('diabet', 10.986122886681098),\n",
       " ('town', 10.986122886681098),\n",
       " ('academ', 10.986122886681098),\n",
       " ('initi', 10.580159968238142),\n",
       " ('state', 10.542092810812274),\n",
       " ('follow', 10.528541777433919),\n",
       " ('countri', 10.052577131236246)]"
      ]
     },
     "execution_count": 36,
     "metadata": {},
     "output_type": "execute_result"
    }
   ],
   "source": [
    "# now the words with the largest tf-idf values are more meaningful\n",
    "\n",
    "sorted_tf_idf = sorted(tf_idf.items(), \n",
    "                       key=operator.itemgetter(1), \n",
    "                       reverse=True)  # this is how you sort a dict\n",
    "sorted_tf_idf[:20]"
   ]
  },
  {
   "cell_type": "code",
   "execution_count": 37,
   "metadata": {
    "slideshow": {
     "slide_type": "slide"
    }
   },
   "outputs": [
    {
     "data": {
      "text/plain": [
       "[('health', 369),\n",
       " ('public', 196),\n",
       " ('diseas', 62),\n",
       " ('develop', 49),\n",
       " ('prevent', 47),\n",
       " ('countri', 40),\n",
       " ('popul', 36),\n",
       " ('care', 33),\n",
       " ('includ', 30),\n",
       " ('state', 26),\n",
       " ('organ', 22),\n",
       " ('medicin', 22),\n",
       " ('world', 21),\n",
       " ('school', 21),\n",
       " ('unit', 21),\n",
       " ('aid', 21),\n",
       " ('medic', 20),\n",
       " ('program', 20),\n",
       " ('social', 19),\n",
       " ('vaccin', 19)]"
      ]
     },
     "execution_count": 37,
     "metadata": {},
     "output_type": "execute_result"
    }
   ],
   "source": [
    "# another option would be to do term frequencies after stopword removal\n",
    "\n",
    "filtered_tokens_stemmed = [nltk.PorterStemmer().stem(token) for token in filtered_tokens]\n",
    "tf_filtered = nltk.FreqDist(filtered_tokens_stemmed)\n",
    "tf_filtered.most_common()[:20]"
   ]
  },
  {
   "cell_type": "markdown",
   "metadata": {
    "slideshow": {
     "slide_type": "slide"
    }
   },
   "source": [
    "# Part-of-speech (POS) Tagging\n",
    "* The process of classifying words into POS categories.\n",
    "* POS is also called word classes or lexical categories.\n",
    "* NLTK makes this process very easy."
   ]
  },
  {
   "cell_type": "code",
   "execution_count": 38,
   "metadata": {
    "slideshow": {
     "slide_type": "slide"
    }
   },
   "outputs": [
    {
     "data": {
      "text/plain": [
       "[('public', 'JJ'),\n",
       " ('health', 'NN'),\n",
       " ('science', 'NN'),\n",
       " ('art', 'NN'),\n",
       " ('preventing', 'VBG'),\n",
       " ('disease', 'NN'),\n",
       " ('prolonging', 'VBG'),\n",
       " ('life', 'NN'),\n",
       " ('promoting', 'VBG'),\n",
       " ('health', 'NN'),\n",
       " ('organized', 'VBN'),\n",
       " ('efforts', 'NNS'),\n",
       " ('informed', 'VBD'),\n",
       " ('choices', 'NNS'),\n",
       " ('society', 'NN'),\n",
       " ('organizations', 'NNS'),\n",
       " ('public', 'JJ'),\n",
       " ('private', 'JJ'),\n",
       " ('communities', 'NNS'),\n",
       " ('individuals', 'NNS')]"
      ]
     },
     "execution_count": 38,
     "metadata": {},
     "output_type": "execute_result"
    }
   ],
   "source": [
    "# use NLTK to tag the wikipedia page after punctuation and stopword removal\n",
    "\n",
    "tags = nltk.pos_tag(filtered_tokens)\n",
    "tags[:20]"
   ]
  },
  {
   "cell_type": "code",
   "execution_count": 39,
   "metadata": {
    "slideshow": {
     "slide_type": "slide"
    }
   },
   "outputs": [
    {
     "name": "stdout",
     "output_type": "stream",
     "text": [
      "$: dollar\n",
      "    $ -$ --$ A$ C$ HK$ M$ NZ$ S$ U.S.$ US$\n",
      "'': closing quotation mark\n",
      "    ' ''\n",
      "(: opening parenthesis\n",
      "    ( [ {\n",
      "): closing parenthesis\n",
      "    ) ] }\n",
      ",: comma\n",
      "    ,\n",
      "--: dash\n",
      "    --\n",
      ".: sentence terminator\n",
      "    . ! ?\n",
      ":: colon or ellipsis\n",
      "    : ; ...\n",
      "CC: conjunction, coordinating\n",
      "    & 'n and both but either et for less minus neither nor or plus so\n",
      "    therefore times v. versus vs. whether yet\n",
      "CD: numeral, cardinal\n",
      "    mid-1890 nine-thirty forty-two one-tenth ten million 0.5 one forty-\n",
      "    seven 1987 twenty '79 zero two 78-degrees eighty-four IX '60s .025\n",
      "    fifteen 271,124 dozen quintillion DM2,000 ...\n",
      "DT: determiner\n",
      "    all an another any both del each either every half la many much nary\n",
      "    neither no some such that the them these this those\n",
      "EX: existential there\n",
      "    there\n",
      "FW: foreign word\n",
      "    gemeinschaft hund ich jeux habeas Haementeria Herr K'ang-si vous\n",
      "    lutihaw alai je jour objets salutaris fille quibusdam pas trop Monte\n",
      "    terram fiche oui corporis ...\n",
      "IN: preposition or conjunction, subordinating\n",
      "    astride among uppon whether out inside pro despite on by throughout\n",
      "    below within for towards near behind atop around if like until below\n",
      "    next into if beside ...\n",
      "JJ: adjective or numeral, ordinal\n",
      "    third ill-mannered pre-war regrettable oiled calamitous first separable\n",
      "    ectoplasmic battery-powered participatory fourth still-to-be-named\n",
      "    multilingual multi-disciplinary ...\n",
      "JJR: adjective, comparative\n",
      "    bleaker braver breezier briefer brighter brisker broader bumper busier\n",
      "    calmer cheaper choosier cleaner clearer closer colder commoner costlier\n",
      "    cozier creamier crunchier cuter ...\n",
      "JJS: adjective, superlative\n",
      "    calmest cheapest choicest classiest cleanest clearest closest commonest\n",
      "    corniest costliest crassest creepiest crudest cutest darkest deadliest\n",
      "    dearest deepest densest dinkiest ...\n",
      "LS: list item marker\n",
      "    A A. B B. C C. D E F First G H I J K One SP-44001 SP-44002 SP-44005\n",
      "    SP-44007 Second Third Three Two * a b c d first five four one six three\n",
      "    two\n",
      "MD: modal auxiliary\n",
      "    can cannot could couldn't dare may might must need ought shall should\n",
      "    shouldn't will would\n",
      "NN: noun, common, singular or mass\n",
      "    common-carrier cabbage knuckle-duster Casino afghan shed thermostat\n",
      "    investment slide humour falloff slick wind hyena override subhumanity\n",
      "    machinist ...\n",
      "NNP: noun, proper, singular\n",
      "    Motown Venneboerger Czestochwa Ranzer Conchita Trumplane Christos\n",
      "    Oceanside Escobar Kreisler Sawyer Cougar Yvette Ervin ODI Darryl CTCA\n",
      "    Shannon A.K.C. Meltex Liverpool ...\n",
      "NNPS: noun, proper, plural\n",
      "    Americans Americas Amharas Amityvilles Amusements Anarcho-Syndicalists\n",
      "    Andalusians Andes Andruses Angels Animals Anthony Antilles Antiques\n",
      "    Apache Apaches Apocrypha ...\n",
      "NNS: noun, common, plural\n",
      "    undergraduates scotches bric-a-brac products bodyguards facets coasts\n",
      "    divestitures storehouses designs clubs fragrances averages\n",
      "    subjectivists apprehensions muses factory-jobs ...\n",
      "PDT: pre-determiner\n",
      "    all both half many quite such sure this\n",
      "POS: genitive marker\n",
      "    ' 's\n",
      "PRP: pronoun, personal\n",
      "    hers herself him himself hisself it itself me myself one oneself ours\n",
      "    ourselves ownself self she thee theirs them themselves they thou thy us\n",
      "PRP$: pronoun, possessive\n",
      "    her his mine my our ours their thy your\n",
      "RB: adverb\n",
      "    occasionally unabatingly maddeningly adventurously professedly\n",
      "    stirringly prominently technologically magisterially predominately\n",
      "    swiftly fiscally pitilessly ...\n",
      "RBR: adverb, comparative\n",
      "    further gloomier grander graver greater grimmer harder harsher\n",
      "    healthier heavier higher however larger later leaner lengthier less-\n",
      "    perfectly lesser lonelier longer louder lower more ...\n",
      "RBS: adverb, superlative\n",
      "    best biggest bluntest earliest farthest first furthest hardest\n",
      "    heartiest highest largest least less most nearest second tightest worst\n",
      "RP: particle\n",
      "    aboard about across along apart around aside at away back before behind\n",
      "    by crop down ever fast for forth from go high i.e. in into just later\n",
      "    low more off on open out over per pie raising start teeth that through\n",
      "    under unto up up-pp upon whole with you\n",
      "SYM: symbol\n",
      "    % & ' '' ''. ) ). * + ,. < = > @ A[fj] U.S U.S.S.R * ** ***\n",
      "TO: \"to\" as preposition or infinitive marker\n",
      "    to\n",
      "UH: interjection\n",
      "    Goodbye Goody Gosh Wow Jeepers Jee-sus Hubba Hey Kee-reist Oops amen\n",
      "    huh howdy uh dammit whammo shucks heck anyways whodunnit honey golly\n",
      "    man baby diddle hush sonuvabitch ...\n",
      "VB: verb, base form\n",
      "    ask assemble assess assign assume atone attention avoid bake balkanize\n",
      "    bank begin behold believe bend benefit bevel beware bless boil bomb\n",
      "    boost brace break bring broil brush build ...\n",
      "VBD: verb, past tense\n",
      "    dipped pleaded swiped regummed soaked tidied convened halted registered\n",
      "    cushioned exacted snubbed strode aimed adopted belied figgered\n",
      "    speculated wore appreciated contemplated ...\n",
      "VBG: verb, present participle or gerund\n",
      "    telegraphing stirring focusing angering judging stalling lactating\n",
      "    hankerin' alleging veering capping approaching traveling besieging\n",
      "    encrypting interrupting erasing wincing ...\n",
      "VBN: verb, past participle\n",
      "    multihulled dilapidated aerosolized chaired languished panelized used\n",
      "    experimented flourished imitated reunifed factored condensed sheared\n",
      "    unsettled primed dubbed desired ...\n",
      "VBP: verb, present tense, not 3rd person singular\n",
      "    predominate wrap resort sue twist spill cure lengthen brush terminate\n",
      "    appear tend stray glisten obtain comprise detest tease attract\n",
      "    emphasize mold postpone sever return wag ...\n",
      "VBZ: verb, present tense, 3rd person singular\n",
      "    bases reconstructs marks mixes displeases seals carps weaves snatches\n",
      "    slumps stretches authorizes smolders pictures emerges stockpiles\n",
      "    seduces fizzes uses bolsters slaps speaks pleads ...\n",
      "WDT: WH-determiner\n",
      "    that what whatever which whichever\n",
      "WP: WH-pronoun\n",
      "    that what whatever whatsoever which who whom whosoever\n",
      "WP$: WH-pronoun, possessive\n",
      "    whose\n",
      "WRB: Wh-adverb\n",
      "    how however whence whenever where whereby whereever wherein whereof why\n",
      "``: opening quotation mark\n",
      "    ` ``\n"
     ]
    }
   ],
   "source": [
    "# look up tag acronyms like this\n",
    "\n",
    "nltk.help.upenn_tagset()"
   ]
  },
  {
   "cell_type": "code",
   "execution_count": 40,
   "metadata": {
    "slideshow": {
     "slide_type": "slide"
    }
   },
   "outputs": [
    {
     "data": {
      "text/plain": [
       "[('The', 'DT'),\n",
       " ('patient', 'NN'),\n",
       " ('was', 'VBD'),\n",
       " ('patient', 'JJ'),\n",
       " ('.', '.')]"
      ]
     },
     "execution_count": 40,
     "metadata": {},
     "output_type": "execute_result"
    }
   ],
   "source": [
    "# NLTK's tagging is quite smart\n",
    "# it can tell the difference between \n",
    "# the first and second \"patient\" below\n",
    "\n",
    "nltk.pos_tag(nltk.word_tokenize('The patient was patient.'))"
   ]
  },
  {
   "cell_type": "code",
   "execution_count": 41,
   "metadata": {
    "slideshow": {
     "slide_type": "slide"
    }
   },
   "outputs": [
    {
     "data": {
      "text/plain": [
       "[('NN', 1735),\n",
       " ('JJ', 1106),\n",
       " ('NNS', 858),\n",
       " ('VBG', 280),\n",
       " ('VBP', 219),\n",
       " ('VBD', 210),\n",
       " ('RB', 191),\n",
       " ('CD', 161),\n",
       " ('VBN', 147),\n",
       " ('VBZ', 67)]"
      ]
     },
     "execution_count": 41,
     "metadata": {},
     "output_type": "execute_result"
    }
   ],
   "source": [
    "# obtain the frequency distribution of the tags in the wikipedia page\n",
    "\n",
    "tf_tag = nltk.FreqDist(tag for (word, tag) in tags)\n",
    "tf_tag.most_common(10)"
   ]
  },
  {
   "cell_type": "code",
   "execution_count": 42,
   "metadata": {
    "slideshow": {
     "slide_type": "slide"
    }
   },
   "outputs": [
    {
     "data": {
      "text/plain": [
       "['health',\n",
       " 'care',\n",
       " 'disease',\n",
       " 'population',\n",
       " 'world',\n",
       " 'aid',\n",
       " 'medicine',\n",
       " 'research',\n",
       " 'system',\n",
       " 'water',\n",
       " 'education',\n",
       " 'development',\n",
       " 'prevention',\n",
       " 'century',\n",
       " 'government',\n",
       " 'example',\n",
       " 'policy',\n",
       " 'science',\n",
       " 'epidemiology',\n",
       " 'organization']"
      ]
     },
     "execution_count": 42,
     "metadata": {},
     "output_type": "execute_result"
    }
   ],
   "source": [
    "# most common nouns\n",
    "\n",
    "tf_word_tag = nltk.FreqDist(tags)\n",
    "[wt[0] for (wt, _) in tf_word_tag.most_common() if wt[1] == 'NN'][:20]"
   ]
  },
  {
   "cell_type": "code",
   "execution_count": 43,
   "metadata": {
    "slideshow": {
     "slide_type": "slide"
    }
   },
   "outputs": [
    {
     "data": {
      "text/plain": [
       "['developing',\n",
       " 'including',\n",
       " 'developed',\n",
       " 'led',\n",
       " 'include',\n",
       " 'began',\n",
       " 'considered',\n",
       " 'assessing',\n",
       " 'smoking',\n",
       " 'promoting',\n",
       " 'became',\n",
       " 'improving',\n",
       " 'wellbeing',\n",
       " 'related',\n",
       " 'reducing',\n",
       " 'made',\n",
       " 'seen',\n",
       " 'based',\n",
       " 'training',\n",
       " 'preventing']"
      ]
     },
     "execution_count": 43,
     "metadata": {},
     "output_type": "execute_result"
    }
   ],
   "source": [
    "# most common verbs\n",
    "# use a regular expression to capture all verb variations\n",
    "\n",
    "[wt[0] for (wt, _) in tf_word_tag.most_common() if re.search('^VB.*$', wt[1])][:20]"
   ]
  },
  {
   "cell_type": "code",
   "execution_count": 44,
   "metadata": {
    "slideshow": {
     "slide_type": "slide"
    }
   },
   "outputs": [
    {
     "data": {
      "text/plain": [
       "[((('public', 'JJ'), ('health', 'NN')), 167),\n",
       " ((('health', 'NN'), ('care', 'NN')), 21),\n",
       " ((('developing', 'VBG'), ('countries', 'NNS')), 19),\n",
       " ((('united', 'JJ'), ('states', 'NNS')), 14),\n",
       " ((('health', 'NN'), ('aid', 'NN')), 14),\n",
       " ((('population', 'NN'), ('health', 'NN')), 12),\n",
       " ((('health', 'NN'), ('initiatives', 'NNS')), 9),\n",
       " ((('infectious', 'JJ'), ('diseases', 'NNS')), 9),\n",
       " ((('schools', 'NNS'), ('public', 'JJ')), 9),\n",
       " ((('preventive', 'JJ'), ('medicine', 'NN')), 8),\n",
       " ((('health', 'NN'), ('health', 'NN')), 7),\n",
       " ((('world', 'NN'), ('health', 'NN')), 7),\n",
       " ((('health', 'NN'), ('organization', 'NN')), 7),\n",
       " ((('international', 'JJ'), ('health', 'NN')), 6),\n",
       " ((('determinants', 'NNS'), ('health', 'NN')), 5),\n",
       " ((('basis', 'NN'), ('public', 'JJ')), 5),\n",
       " ((('health', 'NN'), ('services', 'NNS')), 5),\n",
       " ((('health', 'NN'), ('education', 'NN')), 5),\n",
       " ((('health', 'NN'), ('issues', 'NNS')), 5),\n",
       " ((('health', 'NN'), ('programs', 'NNS')), 5)]"
      ]
     },
     "execution_count": 44,
     "metadata": {},
     "output_type": "execute_result"
    }
   ],
   "source": [
    "# it's also possible to analyze which pairs of words are common\n",
    "# word pairs are also known as bigrams\n",
    "\n",
    "tf_word_tag_pair = nltk.FreqDist(nltk.bigrams(tags))\n",
    "tf_word_tag_pair.most_common(20)"
   ]
  },
  {
   "cell_type": "markdown",
   "metadata": {
    "slideshow": {
     "slide_type": "slide"
    }
   },
   "source": [
    "# Creating an Automatic Tagger"
   ]
  },
  {
   "cell_type": "code",
   "execution_count": 45,
   "metadata": {
    "slideshow": {
     "slide_type": "slide"
    }
   },
   "outputs": [
    {
     "data": {
      "text/plain": [
       "[('public', 'NN'),\n",
       " ('health', 'NN'),\n",
       " ('science', 'NN'),\n",
       " ('art', 'NN'),\n",
       " ('preventing', 'NN'),\n",
       " ('disease', 'NN'),\n",
       " ('prolonging', 'NN'),\n",
       " ('life', 'NN'),\n",
       " ('promoting', 'NN'),\n",
       " ('health', 'NN')]"
      ]
     },
     "execution_count": 45,
     "metadata": {},
     "output_type": "execute_result"
    }
   ],
   "source": [
    "# the default tagger assigns the same tag to every token\n",
    "\n",
    "default_tagger = nltk.DefaultTagger('NN')\n",
    "default_tagger.tag(filtered_tokens[:10])"
   ]
  },
  {
   "cell_type": "code",
   "execution_count": 46,
   "metadata": {
    "slideshow": {
     "slide_type": "slide"
    }
   },
   "outputs": [],
   "source": [
    "# the regular expression tagger defines patterns first\n",
    "# you may want to use a more comprehensive list of patterns\n",
    "\n",
    "patterns = [(r'.*ing$', 'VBG'),               # gerunds\n",
    "            (r'.*ed$', 'VBD'),                # simple past\n",
    "            (r'.*es$', 'VBZ'),                # 3rd singular present\n",
    "            (r'.*ould$', 'MD'),               # modals\n",
    "            (r'.*\\'s$', 'NN$'),               # possessive nouns\n",
    "            (r'.*s$', 'NNS'),                 # plural nouns\n",
    "            (r'^-?[0-9]+(\\.[0-9]+)?$', 'CD'),  # cardinal numbers\n",
    "            (r'.*', 'NN')                     # nouns (default)\n",
    "           ]"
   ]
  },
  {
   "cell_type": "code",
   "execution_count": 47,
   "metadata": {
    "slideshow": {
     "slide_type": "slide"
    }
   },
   "outputs": [
    {
     "data": {
      "text/plain": [
       "[('public', 'NN'),\n",
       " ('health', 'NN'),\n",
       " ('science', 'NN'),\n",
       " ('art', 'NN'),\n",
       " ('preventing', 'VBG'),\n",
       " ('disease', 'NN'),\n",
       " ('prolonging', 'VBG'),\n",
       " ('life', 'NN'),\n",
       " ('promoting', 'VBG'),\n",
       " ('health', 'NN')]"
      ]
     },
     "execution_count": 47,
     "metadata": {},
     "output_type": "execute_result"
    }
   ],
   "source": [
    "# now create a tagger using the regular expressions above\n",
    "\n",
    "regexp_tagger = nltk.RegexpTagger(patterns)\n",
    "regexp_tagger.tag(filtered_tokens[:10])"
   ]
  },
  {
   "cell_type": "code",
   "execution_count": 48,
   "metadata": {
    "slideshow": {
     "slide_type": "slide"
    }
   },
   "outputs": [
    {
     "data": {
      "text/plain": [
       "[('public', 'JJ'),\n",
       " ('health', 'NN'),\n",
       " ('science', 'NN'),\n",
       " ('art', 'NN'),\n",
       " ('preventing', None),\n",
       " ('disease', None),\n",
       " ('prolonging', None),\n",
       " ('life', 'NN'),\n",
       " ('promoting', None),\n",
       " ('health', 'NN')]"
      ]
     },
     "execution_count": 48,
     "metadata": {},
     "output_type": "execute_result"
    }
   ],
   "source": [
    "# unigram tagging looks at each token individually\n",
    "# you can train your own unigram tagger \n",
    "# using a tagged corpus in NLTK\n",
    "\n",
    "brown_tagged_sents = brown.tagged_sents(categories='news')\n",
    "unigram_tagger = nltk.UnigramTagger(brown_tagged_sents)\n",
    "unigram_tagger.tag(filtered_tokens[:10])"
   ]
  },
  {
   "cell_type": "code",
   "execution_count": 49,
   "metadata": {
    "slideshow": {
     "slide_type": "slide"
    }
   },
   "outputs": [
    {
     "data": {
      "text/plain": [
       "[['public',\n",
       "  'health',\n",
       "  'is',\n",
       "  '``',\n",
       "  'the',\n",
       "  'science',\n",
       "  'and',\n",
       "  'art',\n",
       "  'of',\n",
       "  'preventing',\n",
       "  'disease',\n",
       "  ',',\n",
       "  'prolonging',\n",
       "  'life',\n",
       "  'and',\n",
       "  'promoting',\n",
       "  'health',\n",
       "  'through',\n",
       "  'the',\n",
       "  'organized',\n",
       "  'efforts',\n",
       "  'and',\n",
       "  'informed',\n",
       "  'choices',\n",
       "  'of',\n",
       "  'society',\n",
       "  ',',\n",
       "  'organizations',\n",
       "  ',',\n",
       "  'public',\n",
       "  'and',\n",
       "  'private',\n",
       "  ',',\n",
       "  'communities',\n",
       "  'and',\n",
       "  'individuals',\n",
       "  \"''\",\n",
       "  '.'],\n",
       " ['analyzing',\n",
       "  'the',\n",
       "  'determinants',\n",
       "  'of',\n",
       "  'health',\n",
       "  'of',\n",
       "  'a',\n",
       "  'population',\n",
       "  'and',\n",
       "  'the',\n",
       "  'threats',\n",
       "  'it',\n",
       "  'faces',\n",
       "  'is',\n",
       "  'the',\n",
       "  'basis',\n",
       "  'for',\n",
       "  'public',\n",
       "  'health',\n",
       "  '.']]"
      ]
     },
     "execution_count": 49,
     "metadata": {},
     "output_type": "execute_result"
    }
   ],
   "source": [
    "# in general, N-gram tagging looks at the current token\n",
    "# and the tags of the N-1 previous tokens\n",
    "# 1-gram: unigram, 2-gram: bigram, 3-gram: trigram\n",
    "# N-gram taggers need to work with sentences\n",
    "# tokenize each sentence first\n",
    "\n",
    "sents_tokenized = []\n",
    "for sent in sents:\n",
    "    sents_tokenized.append(nltk.word_tokenize(sent))\n",
    "sents_tokenized[:2]"
   ]
  },
  {
   "cell_type": "code",
   "execution_count": 50,
   "metadata": {
    "slideshow": {
     "slide_type": "slide"
    }
   },
   "outputs": [
    {
     "data": {
      "text/plain": [
       "[('public', None),\n",
       " ('health', None),\n",
       " ('is', None),\n",
       " ('``', None),\n",
       " ('the', None),\n",
       " ('science', None),\n",
       " ('and', None),\n",
       " ('art', None),\n",
       " ('of', None),\n",
       " ('preventing', None),\n",
       " ('disease', None),\n",
       " (',', None),\n",
       " ('prolonging', None),\n",
       " ('life', None),\n",
       " ('and', None),\n",
       " ('promoting', None),\n",
       " ('health', None),\n",
       " ('through', None),\n",
       " ('the', None),\n",
       " ('organized', None),\n",
       " ('efforts', None),\n",
       " ('and', None),\n",
       " ('informed', None),\n",
       " ('choices', None),\n",
       " ('of', None),\n",
       " ('society', None),\n",
       " (',', None),\n",
       " ('organizations', None),\n",
       " (',', None),\n",
       " ('public', None),\n",
       " ('and', None),\n",
       " ('private', None),\n",
       " (',', None),\n",
       " ('communities', None),\n",
       " ('and', None),\n",
       " ('individuals', None),\n",
       " (\"''\", None),\n",
       " ('.', None)]"
      ]
     },
     "execution_count": 50,
     "metadata": {},
     "output_type": "execute_result"
    }
   ],
   "source": [
    "# create and apply a bigram tagger\n",
    "# why do you think this tagger is unable to tag anything?\n",
    "\n",
    "bigram_tagger = nltk.BigramTagger(brown_tagged_sents)\n",
    "bigram_tagger.tag(sents_tokenized[0])"
   ]
  },
  {
   "cell_type": "code",
   "execution_count": 51,
   "metadata": {
    "slideshow": {
     "slide_type": "slide"
    }
   },
   "outputs": [
    {
     "data": {
      "text/plain": [
       "[('The', 'AT'),\n",
       " ('Fulton', 'NP-TL'),\n",
       " ('County', 'NN-TL'),\n",
       " ('Grand', 'JJ-TL'),\n",
       " ('Jury', 'NN-TL'),\n",
       " ('said', 'VBD'),\n",
       " ('Friday', 'NR'),\n",
       " ('an', 'AT'),\n",
       " ('investigation', 'NN'),\n",
       " ('of', 'IN'),\n",
       " (\"Atlanta's\", 'NP$'),\n",
       " ('recent', 'JJ'),\n",
       " ('primary', 'NN'),\n",
       " ('election', 'NN'),\n",
       " ('produced', 'VBD'),\n",
       " ('``', '``'),\n",
       " ('no', 'AT'),\n",
       " ('evidence', 'NN'),\n",
       " (\"''\", \"''\"),\n",
       " ('that', 'CS'),\n",
       " ('any', 'DTI'),\n",
       " ('irregularities', 'NNS'),\n",
       " ('took', 'VBD'),\n",
       " ('place', 'NN'),\n",
       " ('.', '.')]"
      ]
     },
     "execution_count": 51,
     "metadata": {},
     "output_type": "execute_result"
    }
   ],
   "source": [
    "# apply the bigram tagger to the brown corpus\n",
    "\n",
    "brown_sents = brown.sents(categories='news')\n",
    "bigram_tagger.tag(brown_sents[0])"
   ]
  },
  {
   "cell_type": "code",
   "execution_count": 52,
   "metadata": {
    "slideshow": {
     "slide_type": "slide"
    }
   },
   "outputs": [
    {
     "data": {
      "text/plain": [
       "[('public', 'JJ'),\n",
       " ('health', 'NN'),\n",
       " ('science', 'NN'),\n",
       " ('art', 'NN'),\n",
       " ('preventing', 'VBG'),\n",
       " ('disease', 'NN'),\n",
       " ('prolonging', 'VBG'),\n",
       " ('life', 'NN'),\n",
       " ('promoting', 'VBG'),\n",
       " ('health', 'NN')]"
      ]
     },
     "execution_count": 52,
     "metadata": {},
     "output_type": "execute_result"
    }
   ],
   "source": [
    "# unless a very large, relevant tagged corpus is used for training\n",
    "# it is difficult to cover all N-gram sequences\n",
    "# hence, it's useful to have a simpler tagger as a Plan B\n",
    "\n",
    "combined_tagger = nltk.UnigramTagger(brown_tagged_sents, \n",
    "                                     backoff=regexp_tagger)\n",
    "combined_tagger.tag((filtered_tokens)[:10])"
   ]
  },
  {
   "cell_type": "markdown",
   "metadata": {
    "slideshow": {
     "slide_type": "slide"
    }
   },
   "source": [
    "# Sentiment Analysis\n",
    "* Use of NLP to systematically identify, extract, quantify, and study affective states and subjective information in text"
   ]
  },
  {
   "cell_type": "code",
   "execution_count": 53,
   "metadata": {
    "slideshow": {
     "slide_type": "slide"
    }
   },
   "outputs": [
    {
     "data": {
      "text/plain": [
       "{'neg': 0.0, 'neu': 0.0, 'pos': 1.0, 'compound': 0.5719}"
      ]
     },
     "execution_count": 53,
     "metadata": {},
     "output_type": "execute_result"
    }
   ],
   "source": [
    "# neg, neu, and pos values sum to one\n",
    "# compound is some kind of a summary metric (not average)\n",
    "\n",
    "sia = SentimentIntensityAnalyzer()\n",
    "sia.polarity_scores(\"excellent\")"
   ]
  },
  {
   "cell_type": "code",
   "execution_count": 54,
   "metadata": {
    "slideshow": {
     "slide_type": "slide"
    }
   },
   "outputs": [
    {
     "data": {
      "text/plain": [
       "{'neg': 1.0, 'neu': 0.0, 'pos': 0.0, 'compound': -0.4767}"
      ]
     },
     "execution_count": 54,
     "metadata": {},
     "output_type": "execute_result"
    }
   ],
   "source": [
    "sia.polarity_scores(\"terrible\")"
   ]
  },
  {
   "cell_type": "code",
   "execution_count": 55,
   "metadata": {
    "slideshow": {
     "slide_type": "slide"
    }
   },
   "outputs": [
    {
     "name": "stdout",
     "output_type": "stream",
     "text": [
      "public health is \"the science and art of preventing disease, prolonging life and promoting health through the organized efforts and informed choices of society, organizations, public and private, communities and individuals\".\n",
      "{'neg': 0.034, 'neu': 0.89, 'pos': 0.077, 'compound': 0.34}\n",
      "\n",
      "\n",
      "analyzing the determinants of health of a population and the threats it faces is the basis for public health.\n",
      "{'neg': 0.141, 'neu': 0.859, 'pos': 0.0, 'compound': -0.4215}\n",
      "\n",
      "\n",
      "the public can be as small as a handful of people or as large as a village or an entire city; in the case of a pandemic it may encompass several continents.\n",
      "{'neg': 0.0, 'neu': 1.0, 'pos': 0.0, 'compound': 0.0}\n",
      "\n",
      "\n",
      "the concept of health takes into account physical, psychological, and social well-being.public health is an interdisciplinary field.\n",
      "{'neg': 0.0, 'neu': 1.0, 'pos': 0.0, 'compound': 0.0}\n",
      "\n",
      "\n",
      "for example, epidemiology, biostatistics, social sciences and management of health services are all relevant.\n",
      "{'neg': 0.0, 'neu': 1.0, 'pos': 0.0, 'compound': 0.0}\n",
      "\n",
      "\n"
     ]
    }
   ],
   "source": [
    "for sent in sents[:5]:\n",
    "    print(sent)\n",
    "    print(sia.polarity_scores(sent))\n",
    "    print(\"\\n\")"
   ]
  },
  {
   "cell_type": "markdown",
   "metadata": {
    "slideshow": {
     "slide_type": "slide"
    }
   },
   "source": [
    "# Bag of Words\n",
    "* For subsequent steps in NLP such as machine learning, text needs to be represented as vectors\n",
    "* Bag of words is one way to do this\n",
    "* Basically it counts how many times each word appears\n",
    "* Each dimension of the vector is each word in the vocabulary"
   ]
  },
  {
   "cell_type": "markdown",
   "metadata": {
    "slideshow": {
     "slide_type": "slide"
    }
   },
   "source": [
    "![bag of words example](https://user.oc-static.com/upload/2020/10/23/16034397439042_surfin%20bird%20bow.png)\n",
    "\n",
    "Image: https://openclassrooms.com/en/courses/6532301-introduction-to-natural-language-processing/6980811-apply-a-simple-bag-of-words-approach"
   ]
  },
  {
   "cell_type": "code",
   "execution_count": 56,
   "metadata": {
    "slideshow": {
     "slide_type": "slide"
    }
   },
   "outputs": [],
   "source": [
    "# first, let's define a function that counts how many times each word appears\n",
    "# given a vocabulary\n",
    "\n",
    "def calculateBOW(vocab, text):\n",
    "    bow = dict.fromkeys(vocab,0)\n",
    "    for word in text:\n",
    "        bow[word]=text.count(word)\n",
    "    return bow"
   ]
  },
  {
   "cell_type": "code",
   "execution_count": 57,
   "metadata": {
    "slideshow": {
     "slide_type": "slide"
    }
   },
   "outputs": [
    {
     "name": "stdout",
     "output_type": "stream",
     "text": [
      "{'0': 0, '1': 0, '11': 0, '114': 0, '123': 0, '1247': 0, '1346–53': 0, '15': 0, '153': 0, '154': 0, '1620–1674': 0, '163': 0, '1749–1823': 0, '1752': 0, '1753–1846': 0, '1754': 0, '1793–1859': 0, '1798': 0, '1800s': 0, '18131858': 0, '1819–1891': 0, '1822–1895': 0, '1830s': 0, '1838': 0, '1840s': 0, '1842': 0, '1843': 0, '1843–1910': 0, '1844': 0, '1846': 0, '1848': 0, '1848–1869': 0, '1851': 0, '1853': 0, '1854': 0, '1856–1941': 0, '1858': 0, '1858–1875': 0, '1866in': 0, '1870': 0, '1871': 0, '1873–1945': 0, '1875': 0, '1889': 0, '18th': 0, '19': 0, '1900–1994': 0, '1910–2005': 0, '1912': 0, '1914': 0, '1914–1995': 0, '1915': 0, '1916': 0, '1922': 0, '1930a': 0, '1952': 0, '1959': 0, '1960': 0, '1960s': 0, '1978': 0, '1980s': 0, '1990': 0, '1990s': 0, '1999': 0, '19th': 0, '1–6': 0, '2': 0, '2000': 0, '2001': 0, '2002': 0, '2007–2008': 0, '2009': 0, '2010': 0, '2011': 0, '2012': 0, '2014': 0, '2014–2016': 0, '2016': 0, '2018': 0, '2020': 0, '2030': 0, '20th': 0, '21': 0, '220': 0, '230': 0, '241': 0, '25000': 0, '2687': 0, '28': 0, '3': 0, '364000': 0, '4': 0, '41': 0, '5': 0, '55': 0, '6': 0, '69': 0, '7': 0, '74': 0, '8': 0, '80–90': 0, '81': 0, '85': 0, '9': 0, '95': 0, '99': 0, 'a': 0, 'ability': 0, 'aboriginal': 0, 'about': 0, 'absence': 0, 'abuse': 0, 'academic': 0, 'accelerated': 0, 'access': 0, 'accessibility': 0, 'according': 0, 'account': 0, 'accounted': 0, 'achieved': 0, 'achievementeconomic': 0, 'achievements': 0, 'achieving': 0, 'across': 0, 'act': 0, 'action': 0, 'activation': 0, 'active': 0, 'activities': 0, 'activity': 0, 'acts': 0, 'actually': 0, 'adapted': 0, 'added': 0, 'addition': 0, 'address': 0, 'addressing': 0, 'adequate': 0, 'administration': 0, 'adopted': 0, 'adoption': 0, 'adult': 0, 'adults': 0, 'advanced': 0, 'advised': 0, 'advocacy': 0, 'advocate': 0, 'advocated': 0, 'advocates': 0, 'advocating': 0, 'aerospace': 0, 'affairs': 0, 'affect': 0, 'affected': 0, 'africa': 0, 'african': 0, 'after': 0, 'against': 0, 'age': 0, 'agencies': 0, 'agency': 0, 'agencys': 0, 'agenda': 0, 'agents': 0, 'ages': 0, 'aggravate': 0, 'aging': 0, 'aid': 0, 'aimed': 0, 'aims': 0, 'air': 0, 'alarmingly': 0, 'alcohol': 0, 'alien': 0, 'all': 0, 'alleviate': 0, 'allow': 0, 'allowed': 0, 'allowing': 0, 'almost': 0, 'alone': 0, 'along': 0, 'already': 0, 'also': 0, 'although': 0, 'amenities': 0, 'america': 0, 'american': 0, 'americans': 0, 'americas': 0, 'among': 0, 'amongst': 0, 'amory': 0, 'amount': 0, 'amounted': 0, 'an': 0, 'analysis': 0, 'analyzing': 0, 'and': 5, 'animal': 0, 'animals': 0, 'another': 0, 'antibiotic': 0, 'antimalaria': 0, 'antiquity': 0, 'antiretroviral': 0, 'antiseptic': 0, 'any': 0, 'anywhere': 0, 'apathy': 0, 'applications': 0, 'apply': 0, 'appointed': 0, 'approach': 0, 'approaches': 0, 'approacheshealth': 0, 'appropriate': 0, 'approximately': 0, 'architect': 0, 'architectural': 0, 'are': 0, 'area': 0, 'areas': 0, 'argue': 0, 'argued': 0, 'argues': 0, 'army': 0, 'arnott': 0, 'around': 0, 'array': 0, 'art': 1, 'articulating': 0, 'artisanal': 0, 'as': 0, 'ascertaining': 0, 'asia': 0, 'aspects': 0, 'assembly': 0, 'assess': 0, 'assessing': 0, 'assistants': 0, 'associated': 0, 'associating': 0, 'association': 0, 'associations': 0, 'at': 0, 'atlanta': 0, 'atrisk': 0, 'attainment': 0, 'attempts': 0, 'attention': 0, 'attested': 0, 'attractiveness': 0, 'attributed': 0, 'australians': 0, 'authored': 0, 'authorities': 0, 'authority': 0, 'authors': 0, 'availability': 0, 'available': 0, 'avoidable': 0, 'away': 0, 'ayurvedic': 0, 'aztecs': 0, 'bachelors': 0, 'back': 0, 'bacteria': 0, 'bacteriology': 0, 'baker': 0, 'balance': 0, 'balanced': 0, 'bank': 0, 'bans': 0, 'barracks': 0, 'barriers': 0, 'based': 0, 'basic': 0, 'basis': 0, 'battlefield': 0, 'bazalgette': 0, 'be': 0, 'became': 0, 'because': 0, 'become': 0, 'been': 0, 'before': 0, 'began': 0, 'beginning': 0, 'beginnings': 0, 'behavior': 0, 'behavioral': 0, 'behaviorrelated': 0, 'behaviors': 0, 'behind': 0, 'being': 0, 'believed': 0, 'belts': 0, 'benefit': 0, 'benjamin': 0, 'bentham': 0, 'berkeley': 0, 'best': 0, 'better': 0, 'bettering': 0, 'between': 0, 'bias': 0, 'bilateral': 0, 'bill': 0, 'billion': 0, 'billions': 0, 'bioethicists': 0, 'bioindicators': 0, 'biomedical': 0, 'biostatisticians': 0, 'biostatistics': 0, 'birmingham': 0, 'black': 0, 'blamed': 0, 'bloomberg': 0, 'board': 0, 'boards': 0, 'bodies': 0, 'bodily': 0, 'body': 0, 'bolivia': 0, 'boris': 0, 'born': 0, 'borough': 0, 'both': 0, 'bottom': 0, 'boundaries': 0, 'brazilian': 0, 'breastfeeding': 0, 'breeding': 0, 'bridges': 0, 'bringing': 0, 'brings': 0, 'britain': 0, 'british': 0, 'broad': 0, 'broadened': 0, 'broader': 0, 'broadly': 0, 'broadwick': 0, 'brought': 0, 'buddhism': 0, 'building': 0, 'built': 0, 'burden': 0, 'burial': 0, 'businessman': 0, 'but': 0, 'buy': 0, 'by': 0, 'byzantine': 0, 'byzantium': 0, 'calamities': 0, 'called': 0, 'came': 0, 'camp': 0, 'campaign': 0, 'campaigned': 0, 'campaigns': 0, 'camps': 0, 'can': 0, 'canada': 0, 'canals': 0, 'cancer': 0, 'capacity': 0, 'capita': 0, 'carbohydrates': 0, 'care': 0, 'career': 0, 'careers': 0, 'carlos': 0, 'carried': 0, 'carrier': 0, 'carroll': 0, 'carry': 0, 'cars': 0, 'case': 0, 'cases': 0, 'catastrophes': 0, 'categories': 0, 'cause': 0, 'causes': 0, 'ce': 0, 'centers': 0, 'central': 0, 'centuries': 0, 'century': 0, 'certain': 0, 'cessation': 0, 'chadwick': 0, 'chadwicks': 0, 'chagas': 0, 'chaired': 0, 'challenge': 0, 'challenges': 0, 'championed': 0, 'change': 0, 'changed': 0, 'changes': 0, 'changing': 0, 'channels': 0, 'chapin': 0, 'characteristics': 0, 'charitable': 0, 'charles': 0, 'charlesedward': 0, 'chemical': 0, 'chemist': 0, 'child': 0, 'childhood': 0, 'children': 0, 'chinese': 0, 'choice': 0, 'choices': 1, 'cholera': 0, 'choose': 0, 'christian': 0, 'christianity': 0, 'chronic': 0, 'circles': 0, 'circumstances': 0, 'cities': 0, 'citiesthese': 0, 'citizen': 0, 'citizenship': 0, 'city': 0, 'civilization': 0, 'civilizations': 0, 'claim': 0, 'clarify': 0, 'class': 0, 'classes': 0, 'clean': 0, 'cleansing': 0, 'clergy': 0, 'climate': 0, 'climates': 0, 'clinical': 0, 'clinicians': 0, 'close': 0, 'closely': 0, 'cluster': 0, 'code': 0, 'coggon': 0, 'coherent': 0, 'collaborated': 0, 'collaboration': 0, 'collection': 0, 'college': 0, 'colombia': 0, 'columbia': 0, 'combatants': 0, 'combating': 0, 'combination': 0, 'combined': 0, 'come': 0, 'commission': 0, 'committee': 0, 'common': 0, 'commonly': 0, 'communicable': 0, 'communication': 0, 'communications': 0, 'communities': 1, 'community': 0, 'communitybased': 0, 'communityurban': 0, 'company': 0, 'compared': 0, 'competency': 0, 'competitions': 0, 'complete': 0, 'completed': 0, 'complex': 0, 'complying': 0, 'component': 0, 'components': 0, 'composed': 0, 'comprehensive': 0, 'compulsory': 0, 'concept': 0, 'conceptualizations': 0, 'concern': 0, 'concerned': 0, 'concerning': 0, 'concerns': 0, 'conclusively': 0, 'condition': 0, 'conditions': 0, 'condoms': 0, 'conducted': 0, 'conferring': 0, 'confirms': 0, 'conflict': 0, 'conflicting': 0, 'confounding': 0, 'confused': 0, 'connection': 0, 'connotations': 0, 'consequentialist': 0, 'consider': 0, 'consideration': 0, 'considerations': 0, 'considered': 0, 'considering': 0, 'consolidating': 0, 'constantly': 0, 'constitution': 0, 'constitutions': 0, 'constrained': 0, 'consulting': 0, 'consumption': 0, 'contagious': 0, 'contamination': 0, 'context': 0, 'continents': 0, 'continuing': 0, 'continuously': 0, 'contribute': 0, 'contributes': 0, 'control': 0, 'controlling': 0, 'controversial': 0, 'conurbations': 0, 'conversely': 0, 'convincing': 0, 'cooperation': 0, 'coordinate': 0, 'coordinating': 0, 'coordination': 0, 'cordons': 0, 'core': 0, 'correct': 0, 'cost': 0, 'costeffective': 0, 'costeffectiveness': 0, 'could': 0, 'council': 0, 'count': 0, 'countless': 0, 'countries': 0, 'country': 0, 'countrys': 0, 'coupled': 0, 'course': 0, 'coursework': 0, 'courts': 0, 'covers': 0, 'covid19': 0, 'craft': 0, 'cramped': 0, 'create': 0, 'created': 0, 'creating': 0, 'credited': 0, 'critical': 0, 'critically': 0, 'criticized': 0, 'criticizing': 0, 'critics': 0, 'critiqued': 0, 'crucial': 0, 'cuba': 0, 'cuban': 0, 'culture': 0, 'curable': 0, 'curative': 0, 'current': 0, 'cut': 0, 'cuts': 0, 'danger': 0, 'dangers': 0, 'data': 0, 'day': 0, 'dealing': 0, 'dean': 0, 'death': 0, 'deaths': 0, 'debates': 0, 'decade': 0, 'decades': 0, 'december': 0, 'decision': 0, 'decline': 0, 'declined': 0, 'decreased': 0, 'dedicating': 0, 'defined': 0, 'definition': 0, 'definitions': 0, 'degree': 0, 'degreeacademic': 0, 'degreegranting': 0, 'degrees': 0, 'deliver': 0, 'delivered': 0, 'delivering': 0, 'delivery': 0, 'demonstrated': 0, 'deontological': 0, 'department': 0, 'departments': 0, 'departures': 0, 'depend': 0, 'dependence': 0, 'deploying': 0, 'described': 0, 'describes': 0, 'designed': 0, 'determinants': 0, 'develop': 0, 'developed': 0, 'developing': 0, 'development': 0, 'devoted': 0, 'dhsc': 0, 'dhscdhs': 0, 'diabetes': 0, 'diagnose': 0, 'dialogue': 0, 'did': 0, 'died': 0, 'diet': 0, 'dietary': 0, 'diets': 0, 'differed': 0, 'different': 0, 'differing': 0, 'dilemma': 0, 'dilip': 0, 'directed': 0, 'directly': 0, 'disability': 0, 'disciplines': 0, 'discoveries': 0, 'discovery': 0, 'disease': 1, 'diseaseand': 0, 'diseases': 0, 'diseasespublic': 0, 'disinfection': 0, 'disorder': 0, 'disparities': 0, 'disparity': 0, 'displayed': 0, 'disposal': 0, 'disproportionately': 0, 'disrupts': 0, 'dissatisfaction': 0, 'dissemination': 0, 'dissertation': 0, 'distinct': 0, 'distinction': 0, 'distress': 0, 'distribution': 0, 'distributions': 0, 'diverse': 0, 'do': 0, 'doctor': 0, 'doctoral': 0, 'doctors': 0, 'document': 0, 'does': 0, 'dollars': 0, 'domestic': 0, 'donating': 0, 'donation': 0, 'donors': 0, 'donorsfunders': 0, 'dont': 0, 'doors': 0, 'dot': 0, 'double': 0, 'doubled': 0, 'doubling': 0, 'drainage': 0, 'draining': 0, 'dramatic': 0, 'drawing': 0, 'driven': 0, 'drivers': 0, 'drph': 0, 'drug': 0, 'drugs': 0, 'due': 0, 'during': 0, 'duties': 0, 'duty': 0, 'each': 0, 'earlier': 0, 'early': 0, 'east': 0, 'eastern': 0, 'easy': 0, 'eat': 0, 'ebola': 0, 'economics': 0, 'economists': 0, 'editorial': 0, 'edmond': 0, 'educating': 0, 'education': 0, 'educational': 0, 'edward': 0, 'edwin': 0, 'effect': 0, 'effective': 0, 'effectively': 0, 'effectiveness': 0, 'effects': 0, 'efficacy': 0, 'efficient': 0, 'efficiently': 0, 'efforts': 1, 'eg': 0, 'either': 0, 'elements': 0, 'eliminate': 0, 'elsewhere': 0, 'emerge': 0, 'emergencies': 0, 'emergency': 0, 'emotional': 0, 'emphasis': 0, 'emphasizing': 0, 'employment': 0, 'empowering': 0, 'empowerment': 0, 'encompass': 0, 'encouraged': 0, 'end': 0, 'endemic': 0, 'endowing': 0, 'enforcing': 0, 'engaging': 0, 'engendered': 0, 'engineering': 0, 'england': 0, 'englandthe': 0, 'enormously': 0, 'enough': 0, 'enrolled': 0, 'enrolling': 0, 'ensuring': 0, 'entire': 0, 'entirety': 0, 'environment': 0, 'environmental': 0, 'environments': 0, 'epidemic': 0, 'epidemics': 0, 'epidemiological': 0, 'epidemiologist': 0, 'epidemiologists': 0, 'epidemiology': 0, 'episodes': 0, 'equality': 0, 'equalitysimultaneously': 0, 'equitable': 0, 'equity': 0, 'eradicating': 0, 'eradication': 0, 'escape': 0, 'especially': 0, 'essence': 0, 'essential': 0, 'establish': 0, 'established': 0, 'establishes': 0, 'establishment': 0, 'estimates': 0, 'ethical': 0, 'ethics': 0, 'eugenics': 0, 'eupha': 0, 'europe': 0, 'european': 0, 'europes': 0, 'evaluating': 0, 'evaluation': 0, 'even': 0, 'event': 0, 'eventually': 0, 'everincreasing': 0, 'every': 0, 'evidence': 0, 'evidencebased': 0, 'evil': 0, 'evolutionary': 0, 'evolve': 0, 'evolved': 0, 'evolving': 0, 'exacerbated': 0, 'examination': 0, 'example': 0, 'examples': 0, 'except': 0, 'exclusive': 0, 'exercise': 0, 'exeter': 0, 'exist': 0, 'existing': 0, 'expansion': 0, 'expectancy': 0, 'expenditures': 0, 'expense': 0, 'experiencing': 0, 'experimentation': 0, 'experts': 0, 'explained': 0, 'explicitly': 0, 'export': 0, 'exposed': 0, 'exposure': 0, 'express': 0, 'expressed': 0, 'extend': 0, 'extensive': 0, 'extreme': 0, 'faced': 0, 'faces': 0, 'facilitate': 0, 'facilities': 0, 'facility': 0, 'facing': 0, 'fact': 0, 'factories': 0, 'factors': 0, 'faculties': 0, 'faded': 0, 'fails': 0, 'fall': 0, 'family': 0, 'famine': 0, 'far': 0, 'fascism': 0, 'fat': 0, 'father': 0, 'fear': 0, 'federal': 0, 'fell': 0, 'fernandes': 0, 'festivals': 0, 'fever': 0, 'feverthe': 0, 'few': 0, 'fewer': 0, 'field': 0, 'fifteen': 0, 'fifth': 0, 'film': 0, 'films': 0, 'finally': 0, 'financing': 0, 'find': 0, 'finlay': 0, 'fire': 0, 'firms': 0, 'first': 0, 'five': 0, 'fleas': 0, 'flies': 0, 'floods': 0, 'flouting': 0, 'focal': 0, 'focus': 0, 'focused': 0, 'focusing': 0, 'focussing': 0, 'followed': 0, 'following': 0, 'food': 0, 'for': 0, 'force': 0, 'form': 0, 'formation': 0, 'formed': 0, 'forming': 0, 'formulated': 0, 'fostered': 0, 'fought': 0, 'found': 0, 'foundation': 0, 'foundations': 0, 'founded': 0, 'founding': 0, 'fountains': 0, 'four': 0, 'fragmented': 0, 'framework': 0, 'frameworks': 0, 'france': 0, 'freedom': 0, 'french': 0, 'from': 0, 'front': 0, 'fruit': 0, 'functions': 0, 'fundamental': 0, 'funded': 0, 'funding': 0, 'funds': 0, 'funneled': 0, 'future': 0, 'galenic': 0, 'galenism': 0, 'garbage': 0, 'garrison': 0, 'gates': 0, 'gathering': 0, 'geared': 0, 'gender': 0, 'general': 0, 'generally': 0, 'generals': 0, 'generation': 0, 'geneticists': 0, 'geographic': 0, 'geographical': 0, 'geography': 0, 'germ': 0, 'german': 0, 'germany': 0, 'germs': 0, 'ghana': 0, 'gis': 0, 'give': 0, 'given': 0, 'glasgow': 0, 'global': 0, 'globalization': 0, 'globally': 0, 'goal': 0, 'goals': 0, 'good': 0, 'governing': 0, 'government': 0, 'governmental': 0, 'governments': 0, 'gradient': 0, 'graduate': 0, 'graunt': 0, 'great': 0, 'greater': 0, 'greek': 0, 'group': 0, 'groups': 0, 'grow': 0, 'growing': 0, 'growth': 0, 'guards': 0, 'guided': 0, 'guilds': 0, 'habits': 0, 'had': 0, 'half': 0, 'hall': 0, 'handful': 0, 'handlesnow': 0, 'handwashing': 0, 'harm': 0, 'harmful': 0, 'harvard': 0, 'has': 0, 'have': 0, 'hazards': 0, 'he': 0, 'headquartered': 0, 'health': 2, 'healthcare': 0, 'healthier': 0, 'healthin': 0, 'healthism': 0, 'healthmany': 0, 'healthmodern': 0, 'healths': 0, 'healthy': 0, 'heart': 0, 'heavily': 0, 'held': 0, 'help': 0, 'henry': 0, 'herbal': 0, 'high': 0, 'higher': 0, 'highest': 0, 'highincome': 0, 'highlevel': 0, 'highlighted': 0, 'hippocratic': 0, 'his': 0, 'historical': 0, 'historically': 0, 'history': 0, 'hiv': 0, 'hivaids': 0, 'holding': 0, 'holland': 0, 'home': 0, 'homes': 0, 'honesty': 0, 'hopkins': 0, 'hospital': 0, 'hospitals': 0, 'hosting': 0, 'household': 0, 'housing': 0, 'how': 0, 'however': 0, 'huenemann': 0, 'human': 0, 'humanity': 0, 'humans': 0, 'humiliation': 0, 'humoral': 0, 'hunger': 0, 'hygiene': 0, 'hygienic': 0, 'i': 0, 'idea': 0, 'ideas': 0, 'identification': 0, 'identified': 0, 'identifies': 0, 'identify': 0, 'identifying': 0, 'ii': 0, 'illhealth': 0, 'illustrate': 0, 'illustrated': 0, 'immunological': 0, 'immunology': 0, 'impact': 0, 'impacts': 0, 'impending': 0, 'implement': 0, 'implementation': 0, 'implemented': 0, 'implementing': 0, 'implies': 0, 'importance': 0, 'important': 0, 'imposing': 0, 'improve': 0, 'improved': 0, 'improvement': 0, 'improvements': 0, 'improving': 0, 'in': 0, 'inadvertently': 0, 'inappropriate': 0, 'incidence': 0, 'incineration': 0, 'include': 0, 'included': 0, 'includes': 0, 'including': 0, 'inclusion': 0, 'income': 0, 'increase': 0, 'increased': 0, 'increases': 0, 'increasing': 0, 'increasingly': 0, 'incubation': 0, 'inculcating': 0, 'independent': 0, 'india': 0, 'indicators': 0, 'individual': 0, 'individuals': 1, 'indoors': 0, 'industrial': 0, 'industries': 0, 'industry': 0, 'inequalities': 0, 'inequality': 0, 'inequities': 0, 'inevitable': 0, 'infant': 0, 'infection': 0, 'infectious': 0, 'infirmity': 0, 'influences': 0, 'influential': 0, 'inform': 0, 'information': 0, 'informed': 1, 'informing': 0, 'infrastructure': 0, 'infrastructures': 0, 'inhabitants': 0, 'initially': 0, 'initiative': 0, 'initiatives': 0, 'injuries': 0, 'insanitary': 0, 'insecticide': 0, 'insecticidetreated': 0, 'inspectors': 0, 'instance': 0, 'instead': 0, 'institute': 0, 'instituted': 0, 'institutes': 0, 'institution': 0, 'institutional': 0, 'institutions': 0, 'instrumental': 0, 'insufficient': 0, 'integrated': 0, 'integrating': 0, 'interdisciplinary': 0, 'interest': 0, 'interests': 0, 'intermittent': 0, 'international': 0, 'internationalism': 0, 'intervention': 0, 'interventions': 0, 'into': 0, 'introduced': 0, 'introduction': 0, 'intromission': 0, 'investigate': 0, 'investigation': 0, 'involve': 0, 'involved': 0, 'is': 1, 'islam': 0, 'islamicate': 0, 'isolating': 0, 'issue': 0, 'issues': 0, 'issuing': 0, 'it': 0, 'italy': 0, 'its': 0, 'j': 0, 'james': 0, 'jenner': 0, 'jeremy': 0, 'job': 0, 'john': 0, 'johns': 0, 'joint': 0, 'jonas': 0, 'joseph': 0, 'josephine': 0, 'journal': 0, 'june': 0, 'jung': 0, 'justified': 0, 'justify': 0, 'kay': 0, 'key': 0, 'killers': 0, 'kingdom': 0, 'knowledge': 0, 'known': 0, 'koch': 0, 'labor': 0, 'laboratory': 0, 'laborintensive': 0, 'labouring': 0, 'lack': 0, 'lacks': 0, 'laid': 0, 'lancet': 0, 'landfill': 0, 'large': 0, 'largely': 0, 'larger': 0, 'largest': 0, 'late': 0, 'later': 0, 'latest': 0, 'latin': 0, 'latrines': 0, 'latter': 0, 'law': 0, 'lead': 0, 'leader': 0, 'leadership': 0, 'leading': 0, 'learned': 0, 'least': 0, 'led': 0, 'leeds': 0, 'left': 0, 'legal': 0, 'legislation': 0, 'legitimizing': 0, 'leisure': 0, 'lemuel': 0, 'lengthy': 0, 'lepers': 0, 'less': 0, 'lessen': 0, 'level': 0, 'levels': 0, 'liberal': 0, 'liberation': 0, 'libertarian': 0, 'liberty': 0, 'life': 1, 'lifestyle': 0, 'light': 0, 'like': 0, 'likely': 0, 'likewise': 0, 'limited': 0, 'limiting': 0, 'linds': 0, 'line': 0, 'link': 0, 'linked': 0, 'links': 0, 'list': 0, 'lister': 0, 'lived': 0, 'liverpool': 0, 'lives': 0, 'living': 0, 'local': 0, 'london': 0, 'londons': 0, 'long': 0, 'lord': 0, 'louis': 0, 'lowincome': 0, 'lushniak': 0, 'made': 0, 'mahalanabis': 0, 'main': 0, 'mainly': 0, 'maintained': 0, 'maintenance': 0, 'major': 0, 'majority': 0, 'making': 0, 'maladaptive': 0, 'malaria': 0, 'malnutrition': 0, 'malthus': 0, 'managed': 0, 'management': 0, 'managers': 0, 'manchester': 0, 'mandate': 0, 'mandated': 0, 'mandating': 0, 'mandatory': 0, 'manner': 0, 'manuals': 0, 'many': 0, 'map': 0, 'marginalized': 0, 'mark': 0, 'markedly': 0, 'marketing': 0, 'marketplaces': 0, 'markets': 0, 'maskwearing': 0, 'massive': 0, 'master': 0, 'material': 0, 'maternal': 0, 'matters': 0, 'maximizing': 0, 'may': 0, 'mayans': 0, 'mccormick': 0, 'mean': 0, 'means': 0, 'measure': 0, 'measures': 0, 'measurespublic': 0, 'meat': 0, 'mechanisms': 0, 'medical': 0, 'medication': 0, 'medicinal': 0, 'medicine': 0, 'medicines': 0, 'mediterranean': 0, 'meet': 0, 'meeting': 0, 'melinda': 0, 'members': 0, 'mental': 0, 'merely': 0, 'methodologies': 0, 'methods': 0, 'metrics': 0, 'mexico': 0, 'miasma': 0, 'microbiologists': 0, 'microbiology': 0, 'microscope': 0, 'microzoning': 0, 'middle': 0, 'midwives': 0, 'might': 0, 'military': 0, 'million': 0, 'millions': 0, 'ministry': 0, 'misplacement': 0, 'misuse': 0, 'mitigate': 0, 'mitigation': 0, 'mixtures': 0, 'mobile': 0, 'model': 0, 'modeling': 0, 'modern': 0, 'modernization': 0, 'modernizing': 0, 'modification': 0, 'modifiedin': 0, 'modulation': 0, 'monasteries': 0, 'monetary': 0, 'money': 0, 'monitor': 0, 'monitoring': 0, 'monks': 0, 'months': 0, 'moral': 0, 'moralistic': 0, 'morbidity': 0, 'more': 0, 'mortality': 0, 'mosquito': 0, 'mosquitoes': 0, 'most': 0, 'motivations': 0, 'movement': 0, 'movements': 0, 'mph': 0, 'msph': 0, 'muhtasib': 0, 'multidisciplinary': 0, 'multifaceted': 0, 'multilateral': 0, 'multiple': 0, 'name': 0, 'narrower': 0, 'nation': 0, 'national': 0, 'nations': 0, 'nationstate': 0, 'natural': 0, 'naturalphilosophical': 0, 'nature': 0, 'navy': 0, 'nazi': 0, 'near': 0, 'neareradication': 0, 'necessary': 0, 'necessity': 0, 'need': 0, 'needed': 0, 'needleexchange': 0, 'needs': 0, 'neglectful': 0, 'neglecting': 0, 'neighborhoods': 0, 'neil': 0, 'neither': 0, 'net': 0, 'nets': 0, 'network': 0, 'networks': 0, 'never': 0, 'new': 0, 'newlands': 0, 'news': 0, 'next': 0, 'nihr': 0, 'nine': 0, 'no': 0, 'nonclinical': 0, 'noncommunicable': 0, 'nongovernmental': 0, 'nonhuman': 0, 'nonmedical': 0, 'nor': 0, 'nora': 0, 'normative': 0, 'norms': 0, 'north': 0, 'not': 0, 'notable': 0, 'notably': 0, 'note': 0, 'notification': 0, 'notion': 0, 'novel': 0, 'now': 0, 'number': 0, 'numerous': 0, 'nuns': 0, 'nuremberg': 0, 'nurses': 0, 'nursing': 0, 'nutrition': 0, 'nutritious': 0, 'obe': 0, 'obesity': 0, 'objectifying': 0, 'objective': 0, 'objectives': 0, 'observations': 0, 'obtained': 0, 'occupational': 0, 'occupied': 0, 'occurrence': 0, 'occurring': 0, 'oceania': 0, 'ocular': 0, 'oecd': 0, 'of': 2, 'off': 0, 'offer': 0, 'officers': 0, 'officersfurther': 0, 'offices': 0, 'officials': 0, 'often': 0, 'on': 0, 'once': 0, 'one': 0, 'ones': 0, 'only': 0, 'onset': 0, 'onwards': 0, 'operate': 0, 'operating': 0, 'operational': 0, 'opined': 0, 'opinion': 0, 'opponents': 0, 'opportunities': 0, 'opposed': 0, 'options': 0, 'or': 0, 'oral': 0, 'order': 0, 'organization': 0, 'organizations': 1, 'organizationspublic': 0, 'organized': 1, 'oriented': 0, 'original': 0, 'origins': 0, 'ors': 0, 'other': 0, 'others': 0, 'our': 0, 'out': 0, 'outbreak': 0, 'outcome': 0, 'outcomes': 0, 'outdoors': 0, 'outside': 0, 'over': 0, 'overall': 0, 'overallpsychological': 0, 'overpopulation': 0, 'overweight': 0, 'own': 0, 'owners': 0, 'pandemic': 0, 'panel': 0, 'papal': 0, 'papers': 0, 'part': 0, 'particular': 0, 'particularly': 0, 'partners': 0, 'partnerships': 0, 'parts': 0, 'party': 0, 'passed': 0, 'passing': 0, 'passive': 0, 'passports': 0, 'pasteur': 0, 'patchwork': 0, 'pathogen': 0, 'pathways': 0, 'patient': 0, 'pattern': 0, 'paullouis': 0, 'paving': 0, 'peaked': 0, 'people': 0, 'peoples': 0, 'per': 0, 'perceived': 0, 'period': 0, 'person': 0, 'personal': 0, 'persons': 0, 'perspective': 0, 'perspectives': 0, 'persuade': 0, 'petr': 0, 'pharmacists': 0, 'phd': 0, 'philanthropists': 0, 'philanthropy': 0, 'phillips': 0, 'philosophies': 0, 'philosophy': 0, 'phs': 0, 'physical': 0, 'physician': 0, 'physicians': 0, 'pieces': 0, 'pielke': 0, 'pilgrims': 0, 'pioneer': 0, 'pioneering': 0, 'place': 0, 'places': 0, 'placing': 0, 'plague': 0, 'plagued': 0, 'plan': 0, 'planning': 0, 'planting': 0, 'played': 0, 'plays': 0, 'plummeted': 0, 'polarization': 0, 'policies': 0, 'policy': 0, 'polio': 0, 'politics': 0, 'polluted': 0, 'polluters': 0, 'pollution': 0, 'poor': 0, 'poorer': 0, 'poorest': 0, 'population': 0, 'populationbased': 0, 'populationlevel': 0, 'populations': 0, 'populous': 0, 'positions': 0, 'positive': 0, 'possibility': 0, 'possible': 0, 'postgraduate': 0, 'potential': 0, 'poverty': 0, 'power': 0, 'practical': 0, 'practice': 0, 'practiced': 0, 'practices': 0, 'practitioners': 0, 'predicting': 0, 'predictor': 0, 'pregnant': 0, 'preindustrialized': 0, 'preparedness': 0, 'preparing': 0, 'present': 0, 'presentday': 0, 'presenting': 0, 'preserve': 0, 'preserving': 0, 'prevailing': 0, 'prevalence': 0, 'prevent': 0, 'preventable': 0, 'preventative': 0, 'preventing': 1, 'prevention': 0, 'preventions': 0, 'preventive': 0, 'previous': 0, 'primarily': 0, 'primary': 0, 'primitive': 0, 'princely': 0, 'principles': 0, 'principlist': 0, 'pringle': 0, 'prior': 0, 'priorities': 0, 'prioritization': 0, 'prioritizing': 0, 'priority': 0, 'private': 1, 'problem': 0, 'problems': 0, 'processions': 0, 'produced': 0, 'products': 0, 'professional': 0, 'professionals': 0, 'programmes': 0, 'programs': 0, 'progress': 0, 'project': 0, 'projected': 0, 'projects': 0, 'prolonging': 1, 'prominently': 0, 'promised': 0, 'promote': 0, 'promoted': 0, 'promoting': 1, 'promotion': 0, 'prompt': 0, 'promulgate': 0, 'proof': 0, 'proofs': 0, 'propagation': 0, 'properties': 0, 'prophet': 0, 'proportion': 0, 'proposed': 0, 'protect': 0, 'protecting': 0, 'protocols': 0, 'prove': 0, 'proved': 0, 'provide': 0, 'provided': 0, 'providing': 0, 'provision': 0, 'psychological': 0, 'psychology': 0, 'public': 2, 'publications': 0, 'publicly': 0, 'published': 0, 'pump': 0, 'purported': 0, 'purpose': 0, 'purposes': 0, 'pursue': 0, 'pursued': 0, 'push': 0, 'put': 0, 'quality': 0, 'quarantine': 0, 'questioning': 0, 'race': 0, 'range': 0, 'ranged': 0, 'rapid': 0, 'rapidly': 0, 'rate': 0, 'rates': 0, 'rather': 0, 'rats': 0, 'reach': 0, 'reached': 0, 'reacted': 0, 'realities': 0, 'receive': 0, 'received': 0, 'receives': 0, 'recent': 0, 'recently': 0, 'recession': 0, 'recipients': 0, 'recognition': 0, 'recognize': 0, 'recognized': 0, 'recommendations': 0, 'recommended': 0, 'recorded': 0, 'reduce': 0, 'reduced': 0, 'reducing': 0, 'reduction': 0, 'reductions': 0, 'reed': 0, 'reemergence': 0, 'references': 0, 'refined': 0, 'reform': 0, 'reforms': 0, 'regarded': 0, 'regimens': 0, 'region': 0, 'regional': 0, 'regions': 0, 'registration': 0, 'regular': 0, 'reiterating': 0, 'related': 0, 'relationships': 0, 'relevant': 0, 'relied': 0, 'relieving': 0, 'religious': 0, 'reluctance': 0, 'relying': 0, 'remained': 0, 'remains': 0, 'remedy': 0, 'removal': 0, 'remove': 0, 'removing': 0, 'report': 0, 'reported': 0, 'reporting': 0, 'reports': 0, 'reproduced': 0, 'reproductive': 0, 'republic': 0, 'reputation': 0, 'required': 0, 'requirements': 0, 'requires': 0, 'requiring': 0, 'research': 0, 'researcher': 0, 'resentment': 0, 'residence': 0, 'residents': 0, 'resistance': 0, 'resource': 0, 'resources': 0, 'response': 0, 'responses': 0, 'responsibility': 0, 'responsible': 0, 'restored': 0, 'result': 0, 'results': 0, 'reverend': 0, 'revert': 0, 'review': 0, 'revolution': 0, 'revolutionized': 0, 'reward': 0, 'rift': 0, 'right': 0, 'rights': 0, 'rise': 0, 'risk': 0, 'risks': 0, 'road': 0, 'roads': 0, 'robert': 0, 'rockefeller': 0, 'role': 0, 'roman': 0, 'ronald': 0, 'roots': 0, 'rose': 0, 'ross': 0, 'royal': 0, 'rule': 0, 'rulers': 0, 'run': 0, 'runs': 0, 'russell': 0, 'ruth': 0, 'safe': 0, 'safeguarding': 0, 'safety': 0, 'sailors': 0, 'sale': 0, 'salk': 0, 'salt': 0, 'salubrious': 0, 'same': 0, 'sample': 0, 'samuel': 0, 'sanatory': 0, 'sanitary': 0, 'sanitation': 0, 'sara': 0, 'save': 0, 'saving': 0, 'saw': 0, 'say': 0, 'scale': 0, 'scd': 0, 'schism': 0, 'scholars': 0, 'school': 0, 'schools': 0, 'science': 1, 'sciences': 0, 'scientific': 0, 'scientist': 0, 'scope': 0, 'screening': 0, 'screens': 0, 'scurvy': 0, 'seasons': 0, 'seat': 0, 'second': 0, 'secondary': 0, 'secondhand': 0, 'sections': 0, 'sector': 0, 'securing': 0, 'security': 0, 'see': 0, 'seeking': 0, 'seen': 0, 'seminal': 0, 'sense': 0, 'sent': 0, 'separates': 0, 'september': 0, 'series': 0, 'serve': 0, 'service': 0, 'services': 0, 'set': 0, 'setting': 0, 'settings': 0, 'settingsmany': 0, 'settlements': 0, 'several': 0, 'severity': 0, 'sewagepolluted': 0, 'sewer': 0, 'sewerage': 0, 'sewers': 0, 'sex': 0, 'sexual': 0, 'sexually': 0, 'shaped': 0, 'shaping': 0, 'sharp': 0, 'shattuck': 0, 'she': 0, 'shift': 0, 'shkrabanek': 0, 'should': 0, 'showed': 0, 'shown': 0, 'sida': 0, 'significant': 0, 'significantly': 0, 'similar': 0, 'simond': 0, 'simple': 0, 'sin': 0, 'since': 0, 'single': 0, 'sir': 0, 'sites': 0, 'situation': 0, 'six': 0, 'skill': 0, 'slums': 0, 'small': 0, 'smaller': 0, 'smallpox': 0, 'smith': 0, 'smoke': 0, 'smoking': 0, 'snow': 0, 'snows': 0, 'so': 0, 'soap': 0, 'social': 0, 'societies': 0, 'society': 1, 'sociologists': 0, 'soldiers': 0, 'some': 0, 'sometimes': 0, 'source': 0, 'sources': 0, 'southeast': 0, 'southwark': 0, 'southwood': 0, 'spearheaded': 0, 'special': 0, 'specialists': 0, 'specialized': 0, 'specialties': 0, 'specialty': 0, 'specific': 0, 'specifically': 0, 'specified': 0, 'spectrum': 0, 'spend': 0, 'spending': 0, 'spends': 0, 'spent': 0, 'sports': 0, 'sprays': 0, 'spread': 0, 'stagnation': 0, 'stakeholders': 0, 'standards': 0, 'standing': 0, 'state': 0, 'statecraft': 0, 'states': 0, 'statistical': 0, 'statistics': 0, 'status': 0, 'staying': 0, 'stealth': 0, 'stephen': 0, 'still': 0, 'stimulating': 0, 'stink': 0, 'strands': 0, 'strategic': 0, 'strategies': 0, 'strategy': 0, 'street': 0, 'stress': 0, 'strict': 0, 'strictest': 0, 'strong': 0, 'strongly': 0, 'structure': 0, 'structures': 0, 'students': 0, 'studentsover': 0, 'studies': 0, 'study': 0, 'studying': 0, 'subfields': 0, 'subsaharan': 0, 'subsequent': 0, 'subsequently': 0, 'subspecialty': 0, 'substance': 0, 'substances': 0, 'substantially': 0, 'such': 0, 'sufficient': 0, 'suggests': 0, 'suicide': 0, 'suit': 0, 'summit': 0, 'sun': 0, 'supplementary': 0, 'supplies': 0, 'supply': 0, 'support': 0, 'supported': 0, 'supporters': 0, 'supporting': 0, 'surfaced': 0, 'surgeon': 0, 'surgery': 0, 'surveillance': 0, 'sustainable': 0, 'sustained': 0, 'swedish': 0, 'synergies': 0, 'system': 0, 'systems': 0, 'systemwide': 0, 'tackle': 0, 'tailored': 0, 'takes': 0, 'taking': 0, 'talking': 0, 'taxation': 0, 'teaching': 0, 'teams': 0, 'techniques': 0, 'technologies': 0, 'teenagers': 0, 'temporary': 0, 'tended': 0, 'tends': 0, 'tension': 0, 'term': 0, 'terms': 0, 'tertiary': 0, 'thames': 0, 'than': 0, 'that': 0, 'the': 2, 'their': 0, 'them': 0, 'theme': 0, 'then': 0, 'theories': 0, 'theory': 0, 'therapy': 0, 'there': 0, 'therefore': 0, 'these': 0, 'they': 0, 'third': 0, 'this': 0, 'thomas': 0, 'those': 0, 'though': 0, 'thought': 0, 'thousand': 0, 'thousands': 0, 'threats': 0, 'three': 0, 'through': 1, 'throughout': 0, 'time': 0, 'timecommon': 0, 'times': 0, 'to': 0, 'tobacco': 0, 'today': 0, 'together': 0, 'took': 0, 'tool': 0, 'tools': 0, 'topic': 0, 'topography': 0, 'total': 0, 'towards': 0, 'towns': 0, 'track': 0, 'traditional': 0, 'trained': 0, 'training': 0, 'transition': 0, 'translation': 0, 'transmissible': 0, 'transmission': 0, 'transmissionpublic': 0, 'transmitted': 0, 'transportation': 0, 'trap': 0, 'travel': 0, 'traveled': 0, 'travelers': 0, 'treatable': 0, 'treated': 0, 'treating': 0, 'treatment': 0, 'trendsin': 0, 'tropical': 0, 'tuberculosis': 0, 'tulane': 0, 'turn': 0, 'twentieth': 0, 'twenty': 0, 'twice': 0, 'two': 0, 'type': 0, 'types': 0, 'typically': 0, 'uks': 0, 'ultimately': 0, 'umbrella': 0, 'unavailable': 0, 'uncoordinated': 0, 'under': 0, 'underfunding': 0, 'underinvestment': 0, 'underlying': 0, 'undermined': 0, 'undermines': 0, 'understanding': 0, 'undesirable': 0, 'unequal': 0, 'uneven': 0, 'unicef': 0, 'union': 0, 'united': 0, 'universal': 0, 'university': 0, 'unsanitary': 0, 'until': 0, 'up': 0, 'upkeep': 0, 'uppermost': 0, 'upstream': 0, 'urban': 0, 'urbanization': 0, 'urging': 0, 'us': 0, 'us10': 0, 'us4500': 0, 'usage': 0, 'use': 0, 'used': 0, 'uses': 0, 'using': 0, 'usually': 0, 'utilitarian': 0, 'utilized': 0, 'v': 0, 'vaccination': 0, 'vaccinations': 0, 'vaccine': 0, 'vaccines': 0, 'vague': 0, 'vagueness': 0, 'valles': 0, 'valuable': 0, 'values': 0, 'valuing': 0, 'variable': 0, 'variety': 0, 'various': 0, 'vauxhall': 0, 'vector': 0, 'venezuela': 0, 'ventilation': 0, 'very': 0, 'veterinariansthe': 0, 'veterinary': 0, 'via': 0, 'view': 0, 'viewed': 0, 'viewpoint': 0, 'vigorously': 0, 'village': 0, 'virus': 0, 'vital': 0, 'volksgesundheit': 0, 'voluntary': 0, 'voyages': 0, 'vulnerability': 0, 'wales': 0, 'walter': 0, 'want': 0, 'war': 0, 'warned': 0, 'warning': 0, 'was': 0, 'waste': 0, 'water': 0, 'waterborne': 0, 'waterhouse': 0, 'waterworks': 0, 'wattie': 0, 'wealth': 0, 'wealthy': 0, 'weight': 0, 'weimar': 0, 'welch': 0, 'welchrose': 0, 'well': 0, 'wellbeing': 0, 'wellbeingpublic': 0, 'wellnesseven': 0, 'wells': 0, 'were': 0, 'western': 0, 'what': 0, 'when': 0, 'where': 0, 'whether': 0, 'which': 0, 'while': 0, 'whitehead': 0, 'who': 0, 'whos': 0, 'wickliffe': 0, 'wide': 0, 'widespread': 0, 'will': 0, 'william': 0, 'wind': 0, 'windows': 0, 'winslow': 0, 'wish': 0, 'with': 0, 'within': 0, 'women': 0, 'womens': 0, 'words': 0, 'work': 0, 'workers': 0, 'workforce': 0, 'workhouses': 0, 'working': 0, 'world': 0, 'worlds': 0, 'worldwide': 0, 'worries': 0, 'worry': 0, 'worse': 0, 'worsen': 0, 'worsened': 0, 'worst': 0, 'would': 0, 'write': 0, 'wrote': 0, 'yale': 0, 'year': 0, 'yearpublic': 0, 'years': 0, 'yellow': 0, 'yet': 0, 'york': 0, 'young': 0, 'zemurray': 0, 'zonesin': 0, 'zoning': 0, 'zoonotic': 0, '``': 1, ',': 4, \"''\": 1, '.': 1}\n"
     ]
    }
   ],
   "source": [
    "# let's apply bag of words to the first sentence in the public health wikipedia page\n",
    "\n",
    "print(calculateBOW(vocab, nltk.word_tokenize(sents[0])))"
   ]
  },
  {
   "cell_type": "markdown",
   "metadata": {
    "slideshow": {
     "slide_type": "slide"
    }
   },
   "source": [
    "# Word Embeddings\n",
    "* Another way to represent text as a vector is to use a word embedding which maps a word to a vector\n",
    "* There are pre-trained word embeddings that you can just take and use\n",
    "* You can develop your own word embedding too"
   ]
  },
  {
   "cell_type": "markdown",
   "metadata": {
    "slideshow": {
     "slide_type": "slide"
    }
   },
   "source": [
    "![Word Embedding Visualization](https://miro.medium.com/v2/resize:fit:1100/format:webp/1*SYiW1MUZul1NvL1kc1RxwQ.png)\n",
    "\n",
    "Image: https://towardsdatascience.com/a-guide-to-word-embeddings-8a23817ab60f"
   ]
  },
  {
   "cell_type": "code",
   "execution_count": 58,
   "metadata": {
    "slideshow": {
     "slide_type": "slide"
    }
   },
   "outputs": [
    {
     "data": {
      "text/plain": [
       "{'fasttext-wiki-news-subwords-300': {'num_records': 999999,\n",
       "  'file_size': 1005007116,\n",
       "  'base_dataset': 'Wikipedia 2017, UMBC webbase corpus and statmt.org news dataset (16B tokens)',\n",
       "  'reader_code': 'https://github.com/RaRe-Technologies/gensim-data/releases/download/fasttext-wiki-news-subwords-300/__init__.py',\n",
       "  'license': 'https://creativecommons.org/licenses/by-sa/3.0/',\n",
       "  'parameters': {'dimension': 300},\n",
       "  'description': '1 million word vectors trained on Wikipedia 2017, UMBC webbase corpus and statmt.org news dataset (16B tokens).',\n",
       "  'read_more': ['https://fasttext.cc/docs/en/english-vectors.html',\n",
       "   'https://arxiv.org/abs/1712.09405',\n",
       "   'https://arxiv.org/abs/1607.01759'],\n",
       "  'checksum': 'de2bb3a20c46ce65c9c131e1ad9a77af',\n",
       "  'file_name': 'fasttext-wiki-news-subwords-300.gz',\n",
       "  'parts': 1},\n",
       " 'conceptnet-numberbatch-17-06-300': {'num_records': 1917247,\n",
       "  'file_size': 1225497562,\n",
       "  'base_dataset': 'ConceptNet, word2vec, GloVe, and OpenSubtitles 2016',\n",
       "  'reader_code': 'https://github.com/RaRe-Technologies/gensim-data/releases/download/conceptnet-numberbatch-17-06-300/__init__.py',\n",
       "  'license': 'https://github.com/commonsense/conceptnet-numberbatch/blob/master/LICENSE.txt',\n",
       "  'parameters': {'dimension': 300},\n",
       "  'description': 'ConceptNet Numberbatch consists of state-of-the-art semantic vectors (also known as word embeddings) that can be used directly as a representation of word meanings or as a starting point for further machine learning. ConceptNet Numberbatch is part of the ConceptNet open data project. ConceptNet provides lots of ways to compute with word meanings, one of which is word embeddings. ConceptNet Numberbatch is a snapshot of just the word embeddings. It is built using an ensemble that combines data from ConceptNet, word2vec, GloVe, and OpenSubtitles 2016, using a variation on retrofitting.',\n",
       "  'read_more': ['http://aaai.org/ocs/index.php/AAAI/AAAI17/paper/view/14972',\n",
       "   'https://github.com/commonsense/conceptnet-numberbatch',\n",
       "   'http://conceptnet.io/'],\n",
       "  'checksum': 'fd642d457adcd0ea94da0cd21b150847',\n",
       "  'file_name': 'conceptnet-numberbatch-17-06-300.gz',\n",
       "  'parts': 1},\n",
       " 'word2vec-ruscorpora-300': {'num_records': 184973,\n",
       "  'file_size': 208427381,\n",
       "  'base_dataset': 'Russian National Corpus (about 250M words)',\n",
       "  'reader_code': 'https://github.com/RaRe-Technologies/gensim-data/releases/download/word2vec-ruscorpora-300/__init__.py',\n",
       "  'license': 'https://creativecommons.org/licenses/by/4.0/deed.en',\n",
       "  'parameters': {'dimension': 300, 'window_size': 10},\n",
       "  'description': 'Word2vec Continuous Skipgram vectors trained on full Russian National Corpus (about 250M words). The model contains 185K words.',\n",
       "  'preprocessing': 'The corpus was lemmatized and tagged with Universal PoS',\n",
       "  'read_more': ['https://www.academia.edu/24306935/WebVectors_a_Toolkit_for_Building_Web_Interfaces_for_Vector_Semantic_Models',\n",
       "   'http://rusvectores.org/en/',\n",
       "   'https://github.com/RaRe-Technologies/gensim-data/issues/3'],\n",
       "  'checksum': '9bdebdc8ae6d17d20839dd9b5af10bc4',\n",
       "  'file_name': 'word2vec-ruscorpora-300.gz',\n",
       "  'parts': 1},\n",
       " 'word2vec-google-news-300': {'num_records': 3000000,\n",
       "  'file_size': 1743563840,\n",
       "  'base_dataset': 'Google News (about 100 billion words)',\n",
       "  'reader_code': 'https://github.com/RaRe-Technologies/gensim-data/releases/download/word2vec-google-news-300/__init__.py',\n",
       "  'license': 'not found',\n",
       "  'parameters': {'dimension': 300},\n",
       "  'description': \"Pre-trained vectors trained on a part of the Google News dataset (about 100 billion words). The model contains 300-dimensional vectors for 3 million words and phrases. The phrases were obtained using a simple data-driven approach described in 'Distributed Representations of Words and Phrases and their Compositionality' (https://code.google.com/archive/p/word2vec/).\",\n",
       "  'read_more': ['https://code.google.com/archive/p/word2vec/',\n",
       "   'https://arxiv.org/abs/1301.3781',\n",
       "   'https://arxiv.org/abs/1310.4546',\n",
       "   'https://www.microsoft.com/en-us/research/publication/linguistic-regularities-in-continuous-space-word-representations/?from=http%3A%2F%2Fresearch.microsoft.com%2Fpubs%2F189726%2Frvecs.pdf'],\n",
       "  'checksum': 'a5e5354d40acb95f9ec66d5977d140ef',\n",
       "  'file_name': 'word2vec-google-news-300.gz',\n",
       "  'parts': 1},\n",
       " 'glove-wiki-gigaword-50': {'num_records': 400000,\n",
       "  'file_size': 69182535,\n",
       "  'base_dataset': 'Wikipedia 2014 + Gigaword 5 (6B tokens, uncased)',\n",
       "  'reader_code': 'https://github.com/RaRe-Technologies/gensim-data/releases/download/glove-wiki-gigaword-50/__init__.py',\n",
       "  'license': 'http://opendatacommons.org/licenses/pddl/',\n",
       "  'parameters': {'dimension': 50},\n",
       "  'description': 'Pre-trained vectors based on Wikipedia 2014 + Gigaword, 5.6B tokens, 400K vocab, uncased (https://nlp.stanford.edu/projects/glove/).',\n",
       "  'preprocessing': 'Converted to w2v format with `python -m gensim.scripts.glove2word2vec -i <fname> -o glove-wiki-gigaword-50.txt`.',\n",
       "  'read_more': ['https://nlp.stanford.edu/projects/glove/',\n",
       "   'https://nlp.stanford.edu/pubs/glove.pdf'],\n",
       "  'checksum': 'c289bc5d7f2f02c6dc9f2f9b67641813',\n",
       "  'file_name': 'glove-wiki-gigaword-50.gz',\n",
       "  'parts': 1},\n",
       " 'glove-wiki-gigaword-100': {'num_records': 400000,\n",
       "  'file_size': 134300434,\n",
       "  'base_dataset': 'Wikipedia 2014 + Gigaword 5 (6B tokens, uncased)',\n",
       "  'reader_code': 'https://github.com/RaRe-Technologies/gensim-data/releases/download/glove-wiki-gigaword-100/__init__.py',\n",
       "  'license': 'http://opendatacommons.org/licenses/pddl/',\n",
       "  'parameters': {'dimension': 100},\n",
       "  'description': 'Pre-trained vectors based on Wikipedia 2014 + Gigaword 5.6B tokens, 400K vocab, uncased (https://nlp.stanford.edu/projects/glove/).',\n",
       "  'preprocessing': 'Converted to w2v format with `python -m gensim.scripts.glove2word2vec -i <fname> -o glove-wiki-gigaword-100.txt`.',\n",
       "  'read_more': ['https://nlp.stanford.edu/projects/glove/',\n",
       "   'https://nlp.stanford.edu/pubs/glove.pdf'],\n",
       "  'checksum': '40ec481866001177b8cd4cb0df92924f',\n",
       "  'file_name': 'glove-wiki-gigaword-100.gz',\n",
       "  'parts': 1},\n",
       " 'glove-wiki-gigaword-200': {'num_records': 400000,\n",
       "  'file_size': 264336934,\n",
       "  'base_dataset': 'Wikipedia 2014 + Gigaword 5 (6B tokens, uncased)',\n",
       "  'reader_code': 'https://github.com/RaRe-Technologies/gensim-data/releases/download/glove-wiki-gigaword-200/__init__.py',\n",
       "  'license': 'http://opendatacommons.org/licenses/pddl/',\n",
       "  'parameters': {'dimension': 200},\n",
       "  'description': 'Pre-trained vectors based on Wikipedia 2014 + Gigaword, 5.6B tokens, 400K vocab, uncased (https://nlp.stanford.edu/projects/glove/).',\n",
       "  'preprocessing': 'Converted to w2v format with `python -m gensim.scripts.glove2word2vec -i <fname> -o glove-wiki-gigaword-200.txt`.',\n",
       "  'read_more': ['https://nlp.stanford.edu/projects/glove/',\n",
       "   'https://nlp.stanford.edu/pubs/glove.pdf'],\n",
       "  'checksum': '59652db361b7a87ee73834a6c391dfc1',\n",
       "  'file_name': 'glove-wiki-gigaword-200.gz',\n",
       "  'parts': 1},\n",
       " 'glove-wiki-gigaword-300': {'num_records': 400000,\n",
       "  'file_size': 394362229,\n",
       "  'base_dataset': 'Wikipedia 2014 + Gigaword 5 (6B tokens, uncased)',\n",
       "  'reader_code': 'https://github.com/RaRe-Technologies/gensim-data/releases/download/glove-wiki-gigaword-300/__init__.py',\n",
       "  'license': 'http://opendatacommons.org/licenses/pddl/',\n",
       "  'parameters': {'dimension': 300},\n",
       "  'description': 'Pre-trained vectors based on Wikipedia 2014 + Gigaword, 5.6B tokens, 400K vocab, uncased (https://nlp.stanford.edu/projects/glove/).',\n",
       "  'preprocessing': 'Converted to w2v format with `python -m gensim.scripts.glove2word2vec -i <fname> -o glove-wiki-gigaword-300.txt`.',\n",
       "  'read_more': ['https://nlp.stanford.edu/projects/glove/',\n",
       "   'https://nlp.stanford.edu/pubs/glove.pdf'],\n",
       "  'checksum': '29e9329ac2241937d55b852e8284e89b',\n",
       "  'file_name': 'glove-wiki-gigaword-300.gz',\n",
       "  'parts': 1},\n",
       " 'glove-twitter-25': {'num_records': 1193514,\n",
       "  'file_size': 109885004,\n",
       "  'base_dataset': 'Twitter (2B tweets, 27B tokens, 1.2M vocab, uncased)',\n",
       "  'reader_code': 'https://github.com/RaRe-Technologies/gensim-data/releases/download/glove-twitter-25/__init__.py',\n",
       "  'license': 'http://opendatacommons.org/licenses/pddl/',\n",
       "  'parameters': {'dimension': 25},\n",
       "  'description': 'Pre-trained vectors based on 2B tweets, 27B tokens, 1.2M vocab, uncased (https://nlp.stanford.edu/projects/glove/).',\n",
       "  'preprocessing': 'Converted to w2v format with `python -m gensim.scripts.glove2word2vec -i <fname> -o glove-twitter-25.txt`.',\n",
       "  'read_more': ['https://nlp.stanford.edu/projects/glove/',\n",
       "   'https://nlp.stanford.edu/pubs/glove.pdf'],\n",
       "  'checksum': '50db0211d7e7a2dcd362c6b774762793',\n",
       "  'file_name': 'glove-twitter-25.gz',\n",
       "  'parts': 1},\n",
       " 'glove-twitter-50': {'num_records': 1193514,\n",
       "  'file_size': 209216938,\n",
       "  'base_dataset': 'Twitter (2B tweets, 27B tokens, 1.2M vocab, uncased)',\n",
       "  'reader_code': 'https://github.com/RaRe-Technologies/gensim-data/releases/download/glove-twitter-50/__init__.py',\n",
       "  'license': 'http://opendatacommons.org/licenses/pddl/',\n",
       "  'parameters': {'dimension': 50},\n",
       "  'description': 'Pre-trained vectors based on 2B tweets, 27B tokens, 1.2M vocab, uncased (https://nlp.stanford.edu/projects/glove/)',\n",
       "  'preprocessing': 'Converted to w2v format with `python -m gensim.scripts.glove2word2vec -i <fname> -o glove-twitter-50.txt`.',\n",
       "  'read_more': ['https://nlp.stanford.edu/projects/glove/',\n",
       "   'https://nlp.stanford.edu/pubs/glove.pdf'],\n",
       "  'checksum': 'c168f18641f8c8a00fe30984c4799b2b',\n",
       "  'file_name': 'glove-twitter-50.gz',\n",
       "  'parts': 1},\n",
       " 'glove-twitter-100': {'num_records': 1193514,\n",
       "  'file_size': 405932991,\n",
       "  'base_dataset': 'Twitter (2B tweets, 27B tokens, 1.2M vocab, uncased)',\n",
       "  'reader_code': 'https://github.com/RaRe-Technologies/gensim-data/releases/download/glove-twitter-100/__init__.py',\n",
       "  'license': 'http://opendatacommons.org/licenses/pddl/',\n",
       "  'parameters': {'dimension': 100},\n",
       "  'description': 'Pre-trained vectors based on  2B tweets, 27B tokens, 1.2M vocab, uncased (https://nlp.stanford.edu/projects/glove/)',\n",
       "  'preprocessing': 'Converted to w2v format with `python -m gensim.scripts.glove2word2vec -i <fname> -o glove-twitter-100.txt`.',\n",
       "  'read_more': ['https://nlp.stanford.edu/projects/glove/',\n",
       "   'https://nlp.stanford.edu/pubs/glove.pdf'],\n",
       "  'checksum': 'b04f7bed38756d64cf55b58ce7e97b15',\n",
       "  'file_name': 'glove-twitter-100.gz',\n",
       "  'parts': 1},\n",
       " 'glove-twitter-200': {'num_records': 1193514,\n",
       "  'file_size': 795373100,\n",
       "  'base_dataset': 'Twitter (2B tweets, 27B tokens, 1.2M vocab, uncased)',\n",
       "  'reader_code': 'https://github.com/RaRe-Technologies/gensim-data/releases/download/glove-twitter-200/__init__.py',\n",
       "  'license': 'http://opendatacommons.org/licenses/pddl/',\n",
       "  'parameters': {'dimension': 200},\n",
       "  'description': 'Pre-trained vectors based on 2B tweets, 27B tokens, 1.2M vocab, uncased (https://nlp.stanford.edu/projects/glove/).',\n",
       "  'preprocessing': 'Converted to w2v format with `python -m gensim.scripts.glove2word2vec -i <fname> -o glove-twitter-200.txt`.',\n",
       "  'read_more': ['https://nlp.stanford.edu/projects/glove/',\n",
       "   'https://nlp.stanford.edu/pubs/glove.pdf'],\n",
       "  'checksum': 'e52e8392d1860b95d5308a525817d8f9',\n",
       "  'file_name': 'glove-twitter-200.gz',\n",
       "  'parts': 1},\n",
       " '__testing_word2vec-matrix-synopsis': {'description': '[THIS IS ONLY FOR TESTING] Word vecrors of the movie matrix.',\n",
       "  'parameters': {'dimensions': 50},\n",
       "  'preprocessing': 'Converted to w2v using a preprocessed corpus. Converted to w2v format with `python3.5 -m gensim.models.word2vec -train <input_filename> -iter 50 -output <output_filename>`.',\n",
       "  'read_more': [],\n",
       "  'checksum': '534dcb8b56a360977a269b7bfc62d124',\n",
       "  'file_name': '__testing_word2vec-matrix-synopsis.gz',\n",
       "  'parts': 1}}"
      ]
     },
     "execution_count": 58,
     "metadata": {},
     "output_type": "execute_result"
    }
   ],
   "source": [
    "# gensim has several pre-trained word embedding models\n",
    "\n",
    "gensim.downloader.info()['models']"
   ]
  },
  {
   "cell_type": "code",
   "execution_count": 59,
   "metadata": {
    "slideshow": {
     "slide_type": "slide"
    }
   },
   "outputs": [
    {
     "data": {
      "text/plain": [
       "{'num_records': 400000,\n",
       " 'file_size': 69182535,\n",
       " 'base_dataset': 'Wikipedia 2014 + Gigaword 5 (6B tokens, uncased)',\n",
       " 'reader_code': 'https://github.com/RaRe-Technologies/gensim-data/releases/download/glove-wiki-gigaword-50/__init__.py',\n",
       " 'license': 'http://opendatacommons.org/licenses/pddl/',\n",
       " 'parameters': {'dimension': 50},\n",
       " 'description': 'Pre-trained vectors based on Wikipedia 2014 + Gigaword, 5.6B tokens, 400K vocab, uncased (https://nlp.stanford.edu/projects/glove/).',\n",
       " 'preprocessing': 'Converted to w2v format with `python -m gensim.scripts.glove2word2vec -i <fname> -o glove-wiki-gigaword-50.txt`.',\n",
       " 'read_more': ['https://nlp.stanford.edu/projects/glove/',\n",
       "  'https://nlp.stanford.edu/pubs/glove.pdf'],\n",
       " 'checksum': 'c289bc5d7f2f02c6dc9f2f9b67641813',\n",
       " 'file_name': 'glove-wiki-gigaword-50.gz',\n",
       " 'parts': 1}"
      ]
     },
     "execution_count": 59,
     "metadata": {},
     "output_type": "execute_result"
    }
   ],
   "source": [
    "# let's try a model pre-trained on wikipedia and gigaword data\n",
    "\n",
    "gensim.downloader.info()['models']['glove-wiki-gigaword-50']"
   ]
  },
  {
   "cell_type": "code",
   "execution_count": 60,
   "metadata": {
    "slideshow": {
     "slide_type": "slide"
    }
   },
   "outputs": [
    {
     "name": "stdout",
     "output_type": "stream",
     "text": [
      "[ 0.31161   0.33903   0.033922 -0.30914  -0.43078   0.3417   -0.6864\n",
      " -0.83817   1.478    -0.5249    0.13326  -0.069083  0.40058  -0.35225\n",
      "  0.20453   0.16683  -0.56978  -0.1359    1.1439    0.15662  -0.23462\n",
      "  0.60111  -0.13868  -0.3787   -0.03634  -1.6429   -0.10716  -0.73417\n",
      " -0.62077   0.88903   3.3969    0.88545  -0.20321  -1.1283   -0.36811\n",
      "  0.088206  0.055528  0.39659   1.6077    0.031832 -0.91684   0.07666\n",
      "  0.67848   0.64672   0.74549   0.56715  -1.0098    0.81053   0.85948\n",
      "  1.0404  ]\n",
      "50\n"
     ]
    }
   ],
   "source": [
    "# it maps a given word to a 50-dimensional vector\n",
    "\n",
    "glove_vectors = gensim.downloader.load('glove-wiki-gigaword-50')\n",
    "print(glove_vectors['health'])\n",
    "print(len(glove_vectors['health']))"
   ]
  },
  {
   "cell_type": "code",
   "execution_count": 61,
   "metadata": {
    "slideshow": {
     "slide_type": "slide"
    }
   },
   "outputs": [
    {
     "data": {
      "text/plain": [
       "[('care', 0.8932641744613647),\n",
       " ('medical', 0.843585193157196),\n",
       " ('education', 0.7962790131568909),\n",
       " ('welfare', 0.7925363183021545),\n",
       " ('prevention', 0.7868608832359314),\n",
       " ('public', 0.7673367261886597),\n",
       " ('environmental', 0.7635215520858765),\n",
       " ('aids', 0.7625102400779724),\n",
       " ('healthcare', 0.7602637410163879),\n",
       " ('poor', 0.755757749080658)]"
      ]
     },
     "execution_count": 61,
     "metadata": {},
     "output_type": "execute_result"
    }
   ],
   "source": [
    "# get similar words\n",
    "\n",
    "glove_vectors.most_similar('health')"
   ]
  },
  {
   "cell_type": "markdown",
   "metadata": {
    "slideshow": {
     "slide_type": "slide"
    }
   },
   "source": [
    "# Gender Classification"
   ]
  },
  {
   "cell_type": "code",
   "execution_count": 62,
   "metadata": {
    "slideshow": {
     "slide_type": "slide"
    }
   },
   "outputs": [
    {
     "data": {
      "text/plain": [
       "{'last_letter': 'n'}"
      ]
     },
     "execution_count": 62,
     "metadata": {},
     "output_type": "execute_result"
    }
   ],
   "source": [
    "# names can be clasified into male and female names\n",
    "# what features should be used?\n",
    "# let's start with the last letter of the name\n",
    "\n",
    "def gender_features(word):\n",
    "    return {'last_letter': word[-1]}\n",
    "\n",
    "gender_features('John')"
   ]
  },
  {
   "cell_type": "code",
   "execution_count": 63,
   "metadata": {
    "slideshow": {
     "slide_type": "slide"
    }
   },
   "outputs": [
    {
     "name": "stdout",
     "output_type": "stream",
     "text": [
      "[('Lizbeth', 'female'), ('Carlena', 'female'), ('Pierrette', 'female'), ('Rad', 'male'), ('Henry', 'male'), ('Doralynne', 'female'), ('Scarlet', 'female'), ('Benn', 'male'), ('Hayden', 'male'), ('Frankie', 'male')]\n",
      "7944\n"
     ]
    }
   ],
   "source": [
    "# NLTK contains lists of male and female names\n",
    "# load and shuffle them\n",
    "\n",
    "labeled_names = ([(name, 'male') for name in names.words('male.txt')] + \n",
    "                 [(name, 'female') for name in names.words('female.txt')])\n",
    "random.shuffle(labeled_names)\n",
    "print(labeled_names[:10])\n",
    "print(len(labeled_names))"
   ]
  },
  {
   "cell_type": "code",
   "execution_count": 64,
   "metadata": {
    "slideshow": {
     "slide_type": "slide"
    }
   },
   "outputs": [
    {
     "data": {
      "text/plain": [
       "0.792"
      ]
     },
     "execution_count": 64,
     "metadata": {},
     "output_type": "execute_result"
    }
   ],
   "source": [
    "# it's necessary to partition the data into\n",
    "# training and test data\n",
    "# use the training data to train a naive Bayes classifier\n",
    "# and evaluate the classifier on the test data\n",
    "\n",
    "gender_featuresets = [(gender_features(n), gender) for (n, gender) in labeled_names]\n",
    "train_set, test_set = gender_featuresets[500:], gender_featuresets[:500]\n",
    "classifier_gender = nltk.NaiveBayesClassifier.train(train_set)\n",
    "nltk.classify.accuracy(classifier_gender, test_set)"
   ]
  },
  {
   "cell_type": "code",
   "execution_count": 65,
   "metadata": {
    "slideshow": {
     "slide_type": "slide"
    }
   },
   "outputs": [
    {
     "data": {
      "text/plain": [
       "'male'"
      ]
     },
     "execution_count": 65,
     "metadata": {},
     "output_type": "execute_result"
    }
   ],
   "source": [
    "# you can apply the classifier to a particular name as well\n",
    "# it correctly classifies my name!\n",
    "\n",
    "classifier_gender.classify(gender_features('Joon'))"
   ]
  },
  {
   "cell_type": "code",
   "execution_count": 66,
   "metadata": {
    "slideshow": {
     "slide_type": "slide"
    }
   },
   "outputs": [
    {
     "name": "stdout",
     "output_type": "stream",
     "text": [
      "Most Informative Features\n",
      "             last_letter = 'a'            female : male   =     33.3 : 1.0\n",
      "             last_letter = 'k'              male : female =     30.1 : 1.0\n",
      "             last_letter = 'f'              male : female =     15.9 : 1.0\n",
      "             last_letter = 'p'              male : female =     12.5 : 1.0\n",
      "             last_letter = 'v'              male : female =     10.5 : 1.0\n"
     ]
    }
   ],
   "source": [
    "# you can also examine which feature values were most useful\n",
    "# likelihood ratios are displayed\n",
    "\n",
    "classifier_gender.show_most_informative_features(5)"
   ]
  },
  {
   "cell_type": "markdown",
   "metadata": {
    "slideshow": {
     "slide_type": "slide"
    }
   },
   "source": [
    "# Document Classification"
   ]
  },
  {
   "cell_type": "code",
   "execution_count": 67,
   "metadata": {
    "slideshow": {
     "slide_type": "slide"
    }
   },
   "outputs": [
    {
     "name": "stdout",
     "output_type": "stream",
     "text": [
      "(['a', 'few', 'months', 'before', 'the', 'release', 'of', 'star', 'wars', 'episode', '1', ',', 'the', 'phantom', 'menace', ',', '20th', 'century', 'fox', 'decides', 'to', 'release', 'another', 'space', 'film', ',', 'that', 'is', 'a', 'complete', 'rip', 'off', 'of', 'star', 'wars', '.', 'what', 'is', 'the', 'point', 'of', 'this', '?', 'i', 'do', 'not', 'know', ',', 'but', 'i', 'wish', 'it', 'hadn', \"'\", 't', 'been', 'done', ',', 'considering', 'wing', 'commander', 'is', 'definitely', 'the', 'year', \"'\", 's', 'worst', 'film', 'so', 'far', '.', 'to', 'attract', 'people', 'to', 'this', 'horrible', 'movie', ',', 'they', 'attached', 'the', 'full', 'trailer', 'for', 'the', 'phantom', 'menace', '.', 'wing', 'commander', 'will', 'draw', 'large', 'crowds', ',', 'because', 'this', 'is', 'the', 'only', 'film', 'where', 'you', 'can', 'find', 'the', 'phantom', 'menace', 'full', 'trailer', 'attached', 'at', 'this', 'time', '.', 'the', 'trailer', 'for', 'the', 'phantom', 'menace', 'was', 'certainly', 'the', 'best', 'part', 'of', 'the', 'movie', 'experience', 'i', 'had', 'tonight', '.', 'many', 'people', 'do', 'not', 'know', 'that', 'wing', 'commander', 'is', 'based', 'on', 'a', 'star', 'wars', 'computer', 'game', '.', 'i', 'found', 'this', 'very', 'interesting', ',', 'considering', 'this', 'fact', 'almost', 'says', 'that', 'wing', 'commander', 'is', 'a', 'star', 'wars', 'movie', '.', 'it', 'is', 'nowhere', 'near', 'the', 'level', 'of', 'the', 'star', 'wars', 'films', 'though', '.', 'freddie', 'prinze', 'jr', '.', 'stars', 'in', 'the', 'film', 'as', 'christopher', 'blair', '.', 'wing', 'commander', 'was', 'a', 'huge', 'mistake', 'for', 'freddie', '.', 'this', 'was', 'definitely', 'his', 'worst', 'performance', 'to', 'date', '.', 'after', 'january', \"'\", 's', 'she', \"'\", 's', 'all', 'that', ',', 'i', 'actually', 'saw', 'a', 'good', 'actor', 'in', 'freddie', ',', 'but', 'now', 'all', 'those', 'visions', 'have', 'been', 'crushed', '.', '(', 'for', 'now', 'anyway', '.', ')', 'christopher', 'blair', 'is', 'a', 'pilot', 'who', 'is', 'a', 'part', 'of', 'the', 'battle', 'to', 'stop', 'the', 'kilrathi', ',', 'a', 'group', 'that', 'is', 'trying', 'to', 'destroy', 'the', 'earth', '.', 'blair', \"'\", 's', 'parents', 'also', 'fought', 'in', 'the', 'space', 'battles', ',', 'and', 'also', 'died', 'there', '.', 'his', 'parents', 'were', 'pilgrims', ',', 'so', 'many', 'people', 'disrespect', 'him', 'because', 'of', 'this', '.', 'blair', 'is', 'under', 'the', 'command', 'of', '\"', 'angel', '\"', ',', 'played', 'by', 'saffron', 'burrows', ',', 'and', 'he', 'is', 'friends', 'with', 'another', 'pilot', ',', 'todd', '\"', 'maniac', 'marshall', '\"', ',', 'played', 'by', 'matthew', 'lillard', '.', 'matthew', 'lillard', 'seems', 'to', 'play', 'the', 'same', 'role', 'in', 'every', 'movie', ',', 'and', 'he', 'does', 'in', 'this', 'one', 'too', '.', 'his', 'character', 'as', 'stu', 'in', '1996', \"'\", 's', 'scream', '(', 'a', '+', ')', ',', 'was', 'a', 'great', 'one', ',', 'but', 'now', ',', 'it', 'seems', 'like', 'that', 'same', 'role', 'is', 'being', 'played', 'again', ',', 'only', 'in', 'a', 'space', 'movie', '.', 'the', 'three', 'are', 'just', 'a', 'small', 'part', 'of', 'a', 'large', 'group', 'trying', 'to', 'stop', 'the', 'kilrathi', 'before', 'they', 'take', 'over', 'earth', '.', 'this', 'plot', 'is', 'very', 'flimsy', ',', 'and', 'doesn', \"'\", 't', 'give', 'a', 'whole', 'lot', 'to', 'work', 'with', 'at', 'all', '.', 'this', 'explains', 'why', 'wing', 'commander', 'drags', 'on', ',', 'seeming', 'like', 'there', 'is', 'no', 'point', 'to', 'any', 'of', 'the', 'events', 'that', 'are', 'going', 'on', '.', 'the', 'acting', 'is', 'horrible', 'in', 'wing', 'commander', '.', 'many', 'lines', 'seem', 'out', 'of', 'place', ',', 'and', 'are', 'completely', 'meaningless', '.', 'the', 'acting', 'and', 'dialogue', 'was', 'so', 'terrible', ',', 'i', 'even', 'found', 'myself', 'laughing', 'at', 'it', '.', 'the', 'other', 'things', 'which', 'are', 'very', 'bad', 'about', 'wing', 'commander', 'are', 'the', 'special', 'effects', 'and', 'the', 'music', '.', 'the', 'special', 'effects', 'are', 'very', 'unrealistic', '.', 'when', 'looking', 'at', 'two', 'ships', 'flying', 'side', 'by', 'side', ',', 'it', 'is', 'simple', 'to', 'tell', 'they', 'are', 'hanging', 'and', 'a', 'blue', 'screen', 'is', 'behind', 'them', '.', 'the', 'explosions', 'look', 'very', 'unrealistic', 'as', 'well', '.', 'a', 'ship', 'will', 'be', 'blown', 'up', ',', 'but', 'there', 'will', 'only', 'be', 'fire', 'present', 'four', 'about', 'one', 'half', 'of', 'a', 'second', '.', 'this', 'is', 'very', 'unrealistic', '.', 'music', 'pretty', 'much', 'accompanies', 'the', 'film', 'the', 'entire', 'time', '.', 'the', 'music', 'also', 'felt', 'like', 'video', 'game', 'music', ',', 'and', 'it', 'was', 'very', 'corny', 'and', 'annoying', 'sounding', '.', 'after', 'we', 'are', 'given', 'the', 'plot', ',', 'the', 'film', 'repeats', 'itself', 'for', 'another', 'hour', ',', 'without', 'any', 'plot', 'twists', ',', 'interesting', 'scenes', ',', 'or', 'anything', 'important', 'to', 'the', 'film', '.', 'blair', 'is', 'forced', 'to', 'make', 'jumps', 'over', 'other', 'planets', ',', 'and', 'he', 'must', 'also', 'fight', 'against', 'the', 'kilrathi', 'aircraft', '.', 'for', 'the', 'entire', 'length', 'of', 'the', 'movie', ',', 'it', 'takes', 'place', 'in', 'space', '.', 'it', 'is', 'truly', 'like', 'you', 'are', 'in', 'a', 'video', 'game', ',', 'because', 'you', 'are', 'just', 'watching', 'people', 'shoot', 'at', 'each', 'other', 'in', 'ships', 'for', 'a', 'long', ',', 'extended', 'period', 'of', 'time', '.', 'it', \"'\", 's', 'not', 'much', 'fun', 'to', 'watch', 'at', 'all', '.', 'if', 'i', 'wanted', 'to', 'watch', 'people', 'shoot', 'at', 'each', 'other', 'in', 'ships', ',', 'i', 'would', 'go', 'watch', 'star', 'wars', 'at', 'home', '.', 'at', 'least', 'star', 'wars', 'pays', 'attention', 'to', 'people', ',', 'myth', ',', 'feelings', ',', 'and', 'has', 'some', 'real', 'plot', 'to', 'it', '.', 'the', 'bottom', 'line', '-', 'bring', 'on', 'the', 'phantom', 'menace', '20th', 'century', 'fox', '!'], 'neg')\n"
     ]
    }
   ],
   "source": [
    "# Movie Reviews corpus contains postivie and negative movie reviews\n",
    "# we can train ML models that classify movie reviews into positive or negative\n",
    "# let's prepare the data set first\n",
    "\n",
    "reviews = [(list(movie_reviews.words(fileid)), category)\n",
    "             for category in movie_reviews.categories()\n",
    "             for fileid in movie_reviews.fileids(category)]\n",
    "random.shuffle(reviews)\n",
    "print(reviews[0])"
   ]
  },
  {
   "cell_type": "code",
   "execution_count": 68,
   "metadata": {
    "slideshow": {
     "slide_type": "slide"
    }
   },
   "outputs": [],
   "source": [
    "# for features, use the presence/absence\n",
    "# of the 2000 most frequent words\n",
    "\n",
    "all_words = nltk.FreqDist(w.lower() for w in movie_reviews.words())\n",
    "word_features = list(all_words)[:2000]\n",
    "\n",
    "def review_features(review):\n",
    "    review_words = set(review)\n",
    "    features = {}\n",
    "    for word in word_features:\n",
    "        features['contains({})'.format(word)] = (word in review_words)\n",
    "    return features"
   ]
  },
  {
   "cell_type": "code",
   "execution_count": 69,
   "metadata": {
    "slideshow": {
     "slide_type": "slide"
    }
   },
   "outputs": [],
   "source": [
    "# construct the features and train a naive Bayes classifier\n",
    "\n",
    "review_featuresets = [(review_features(d), c) for (d,c) in reviews]\n",
    "train_set, test_set = review_featuresets[100:], review_featuresets[:100]\n",
    "classifier_review = nltk.NaiveBayesClassifier.train(train_set)"
   ]
  },
  {
   "cell_type": "code",
   "execution_count": 70,
   "metadata": {
    "slideshow": {
     "slide_type": "slide"
    }
   },
   "outputs": [
    {
     "data": {
      "text/plain": [
       "0.83"
      ]
     },
     "execution_count": 70,
     "metadata": {},
     "output_type": "execute_result"
    }
   ],
   "source": [
    "# test classification performance\n",
    "\n",
    "nltk.classify.accuracy(classifier_review, test_set)"
   ]
  },
  {
   "cell_type": "code",
   "execution_count": 71,
   "metadata": {
    "slideshow": {
     "slide_type": "slide"
    }
   },
   "outputs": [
    {
     "name": "stdout",
     "output_type": "stream",
     "text": [
      "Most Informative Features\n",
      "   contains(outstanding) = True              pos : neg    =     10.7 : 1.0\n",
      "         contains(mulan) = True              pos : neg    =      8.9 : 1.0\n",
      "        contains(seagal) = True              neg : pos    =      7.9 : 1.0\n",
      "         contains(damon) = True              pos : neg    =      7.7 : 1.0\n",
      "   contains(wonderfully) = True              pos : neg    =      7.4 : 1.0\n"
     ]
    }
   ],
   "source": [
    "# five most important features\n",
    "\n",
    "classifier_review.show_most_informative_features(5) "
   ]
  },
  {
   "cell_type": "markdown",
   "metadata": {
    "slideshow": {
     "slide_type": "slide"
    }
   },
   "source": [
    "# POS Tag Classification"
   ]
  },
  {
   "cell_type": "code",
   "execution_count": 72,
   "metadata": {
    "slideshow": {
     "slide_type": "slide"
    }
   },
   "outputs": [
    {
     "data": {
      "text/plain": [
       "['e', ',', '.', 's', 'd', 't', 'he', 'n', 'a', 'of']"
      ]
     },
     "execution_count": 72,
     "metadata": {},
     "output_type": "execute_result"
    }
   ],
   "source": [
    "# instead of manually creating a POS tagger\n",
    "# it's possible to train a classifier to learn suffix patterns\n",
    "# let's extract common suffixes first\n",
    "\n",
    "suffix_fdist = nltk.FreqDist()\n",
    "for word in brown.words():\n",
    "    word = word.lower()\n",
    "    suffix_fdist[word[-1:]] += 1\n",
    "    suffix_fdist[word[-2:]] += 1\n",
    "    suffix_fdist[word[-3:]] += 1\n",
    "\n",
    "common_suffixes = [suffix for (suffix, count) in suffix_fdist.most_common(100)]\n",
    "common_suffixes[:10]"
   ]
  },
  {
   "cell_type": "code",
   "execution_count": 73,
   "metadata": {
    "slideshow": {
     "slide_type": "slide"
    }
   },
   "outputs": [],
   "source": [
    "# define a feature extractor\n",
    "# that indicates whether the given word ends with \n",
    "# one of the common suffixes\n",
    "\n",
    "def pos_features(word):\n",
    "    features = {}\n",
    "    for suffix in common_suffixes:\n",
    "        features['endswith({})'.format(suffix)] = word.lower().endswith(suffix)\n",
    "    return features"
   ]
  },
  {
   "cell_type": "code",
   "execution_count": 74,
   "metadata": {
    "slideshow": {
     "slide_type": "slide"
    }
   },
   "outputs": [
    {
     "data": {
      "text/plain": [
       "0.6270512182993535"
      ]
     },
     "execution_count": 74,
     "metadata": {},
     "output_type": "execute_result"
    }
   ],
   "source": [
    "# train a decision tree and evaluate\n",
    "\n",
    "tagged_words = brown.tagged_words(categories='news')\n",
    "tag_featuresets = [(pos_features(n), g) for (n,g) in tagged_words]\n",
    "size = int(len(tag_featuresets) * 0.1)\n",
    "train_set, test_set = tag_featuresets[size:], tag_featuresets[:size]\n",
    "classifier_tag = nltk.DecisionTreeClassifier.train(train_set)\n",
    "nltk.classify.accuracy(classifier_tag, test_set)"
   ]
  },
  {
   "cell_type": "code",
   "execution_count": 75,
   "metadata": {
    "slideshow": {
     "slide_type": "slide"
    }
   },
   "outputs": [
    {
     "data": {
      "text/plain": [
       "'NN'"
      ]
     },
     "execution_count": 75,
     "metadata": {},
     "output_type": "execute_result"
    }
   ],
   "source": [
    "# see how the classifier performs for a specific word\n",
    "\n",
    "classifier_tag.classify(pos_features('artificial intelligence'))"
   ]
  },
  {
   "cell_type": "markdown",
   "metadata": {
    "slideshow": {
     "slide_type": "slide"
    }
   },
   "source": [
    "# Sentence Segmentation with Classification"
   ]
  },
  {
   "cell_type": "code",
   "execution_count": 76,
   "metadata": {
    "slideshow": {
     "slide_type": "slide"
    }
   },
   "outputs": [],
   "source": [
    "# setence segmentation essentially looks for \n",
    "# sentence-ending punctuation\n",
    "# which can be learned using machine learning\n",
    "# first we need segmented data\n",
    "\n",
    "sents = nltk.corpus.treebank_raw.sents()\n",
    "tokens = []\n",
    "boundaries = set()\n",
    "offset = 0\n",
    "for sent in sents:\n",
    "    tokens.extend(sent)\n",
    "    offset += len(sent)\n",
    "    boundaries.add(offset-1)"
   ]
  },
  {
   "cell_type": "code",
   "execution_count": 77,
   "metadata": {
    "slideshow": {
     "slide_type": "slide"
    }
   },
   "outputs": [
    {
     "data": {
      "text/plain": [
       "['.', 'START', 'Pierre', 'Vinken', ',', '61', 'years', 'old', ',', 'will']"
      ]
     },
     "execution_count": 77,
     "metadata": {},
     "output_type": "execute_result"
    }
   ],
   "source": [
    "# 'tokens' contains tokens from individual sentences\n",
    "\n",
    "tokens[:10]"
   ]
  },
  {
   "cell_type": "code",
   "execution_count": 78,
   "metadata": {
    "slideshow": {
     "slide_type": "slide"
    }
   },
   "outputs": [
    {
     "name": "stdout",
     "output_type": "stream",
     "text": [
      "{1, 90116, 16389, 40968, 81929, 24587, 16396, 65548, 73741, 8207, 32784, 81931, 90128, 98315, 20, 65557, 57366, 8221, 24611, 36, 32804, 38, 57382, 81957, 98345, 73771, 8236, 41004, 8238, 16430, 49201, 73785, 49210, 16445, 57405, 64, 90176, 66, 32835, 73794, 24649, 16459, 65615, 98383, 82001, 57426, 49235, 8276, 82003, 90195, 32855, 90197, 41050, 8285, 73824, 32868, 49252, 102, 16487, 65640, 98410, 82029, 24688, 49265, 73840, 41075, 90227, 16502, 32887, 65662, 8319, 24704, 57474, 134, 41097, 41099, 49292, 73867, 32911, 65686, 57495, 73878, 98454, 8346, 82074, 8348, 24732, 90267, 32930, 163, 8355, 24740, 41126, 57511, 49320, 73897, 16554, 82088, 98475, 65712, 41137, 57522, 16568, 90304, 98497, 82114, 8390, 199, 24775, 49352, 57545, 16587, 73929, 211, 24788, 65749, 32982, 90324, 41180, 57569, 49378, 73955, 228, 49380, 98537, 65770, 237, 8430, 16622, 33010, 41203, 82162, 73973, 57590, 90359, 8442, 258, 24836, 49413, 98565, 16650, 65803, 41228, 74000, 33041, 82195, 90389, 49436, 57628, 286, 65821, 8481, 74018, 98595, 8485, 90406, 16680, 24873, 90408, 82220, 41262, 98609, 8498, 33074, 310, 16698, 65853, 74049, 8514, 57667, 82244, 98627, 82246, 33096, 49485, 74062, 90447, 41301, 98646, 8535, 344, 24920, 65880, 16731, 74075, 8546, 57698, 82274, 41317, 98662, 8555, 41324, 365, 90476, 49522, 65906, 57717, 74107, 24956, 98684, 98686, 90497, 33154, 387, 82308, 57734, 16777, 57740, 8589, 57742, 98702, 74129, 24978, 57748, 406, 65942, 41369, 33181, 49567, 8613, 74149, 24999, 98726, 429, 25006, 33199, 57775, 8625, 49586, 65965, 82356, 41397, 16822, 57783, 90549, 33213, 33215, 49602, 82370, 453, 57800, 16841, 74186, 98761, 25037, 41422, 66000, 49620, 8662, 98774, 82393, 49627, 74204, 16861, 98779, 98781, 8673, 33249, 66021, 57830, 489, 41450, 90601, 90603, 49648, 82417, 16882, 74227, 82419, 41461, 57847, 33277, 8702, 98813, 512, 74240, 66050, 98815, 57860, 90628, 16902, 74248, 57865, 8716, 25100, 33296, 98838, 41495, 25112, 57880, 82458, 8732, 66076, 49695, 57888, 25121, 41509, 57899, 74285, 558, 16942, 8752, 74287, 33331, 98870, 90679, 66109, 25150, 82497, 98884, 41541, 49734, 8775, 33352, 66121, 16973, 90704, 98897, 8786, 82520, 8795, 49758, 66145, 16998, 41575, 74343, 617, 25193, 33385, 8812, 90729, 98927, 57970, 82546, 25204, 90743, 66168, 637, 33410, 74371, 49800, 8841, 41611, 17036, 82571, 655, 98963, 90775, 8856, 90777, 66203, 25244, 58013, 25246, 671, 49822, 17057, 74402, 41637, 33447, 66216, 98983, 692, 8885, 41652, 82616, 66233, 74425, 90808, 25277, 17087, 705, 25283, 49859, 58052, 99016, 33486, 41678, 82641, 90834, 8916, 25310, 90847, 25312, 33505, 41698, 739, 58084, 17125, 74470, 99049, 66282, 8940, 58093, 49902, 82672, 99058, 17142, 33529, 763, 49916, 41725, 66299, 74492, 82692, 74501, 58121, 90889, 8971, 17165, 25360, 74515, 74517, 82709, 90902, 66328, 49945, 796, 99100, 8990, 33567, 74534, 17193, 41769, 811, 25387, 66356, 821, 9013, 823, 58166, 33596, 90944, 74561, 82753, 41795, 58180, 25413, 66371, 33607, 9033, 17226, 17228, 846, 90959, 99150, 90961, 17236, 82772, 33625, 50010, 50012, 25437, 9054, 66397, 41827, 25445, 33640, 99179, 25454, 17264, 9073, 90995, 74617, 891, 17276, 50044, 82812, 91009, 33666, 99203, 25476, 66440, 17290, 907, 17291, 17292, 17293, 9103, 41866, 66449, 50066, 99219, 74647, 17306, 17307, 17308, 17309, 25500, 58268, 82845, 91041, 9122, 66468, 41893, 934, 33702, 50090, 25518, 74674, 17331, 91063, 9146, 66491, 50109, 958, 50111, 74687, 99265, 58307, 82884, 41930, 17356, 25549, 33742, 976, 33744, 91091, 99283, 50135, 58328, 41950, 17375, 25570, 82916, 74725, 50150, 82918, 66536, 17387, 9198, 74735, 58353, 99314, 1013, 33782, 25591, 17407, 9216, 41983, 58369, 66563, 82948, 33798, 41996, 99341, 91155, 91157, 17431, 1048, 74775, 66588, 9245, 25629, 9247, 42016, 74785, 33832, 25642, 99373, 82990, 17457, 50227, 1077, 33849, 66618, 58427, 42046, 1092, 17476, 74820, 42055, 9288, 25673, 50247, 99401, 83020, 66639, 83026, 58451, 33878, 50262, 17499, 1117, 91230, 9311, 66656, 25698, 33892, 42085, 33894, 74853, 17512, 50280, 91238, 42092, 58477, 83054, 99437, 17520, 83056, 58483, 1142, 74871, 17529, 66681, 91257, 9340, 99452, 83071, 1153, 25732, 33928, 50315, 17549, 25745, 9362, 42131, 66708, 91287, 33947, 83099, 99485, 25758, 74912, 66721, 9380, 58535, 1192, 33960, 42155, 50347, 58541, 91314, 33971, 99508, 83125, 58551, 25787, 1213, 42174, 66750, 33985, 33987, 91336, 83146, 25803, 58571, 58573, 66764, 9423, 42192, 1235, 50387, 17621, 99543, 91353, 91355, 74974, 25825, 34022, 99558, 58600, 66793, 42218, 83178, 42225, 74994, 91377, 50421, 66805, 1273, 17658, 1275, 25853, 58622, 9471, 50431, 42241, 66817, 34054, 42248, 83209, 75020, 9485, 58637, 17680, 91409, 99600, 25880, 58649, 1312, 9504, 42275, 66851, 91431, 17705, 34093, 99629, 9522, 75059, 1332, 50484, 58676, 17719, 66869, 83251, 91445, 25915, 34111, 1348, 66885, 1350, 42311, 50503, 99658, 58699, 91472, 58707, 17748, 25940, 66899, 83283, 9562, 9564, 42335, 83295, 17761, 1378, 34146, 75107, 91489, 25962, 34155, 34156, 34157, 58731, 50543, 66923, 42353, 91500, 17781, 1398, 99701, 1400, 83321, 9595, 50555, 42370, 91522, 91524, 99717, 66954, 75147, 58766, 1424, 50576, 26003, 34195, 9621, 1431, 99735, 17819, 42401, 26018, 34211, 66979, 75170, 9638, 83365, 1448, 58793, 91561, 99753, 50606, 9651, 83379, 1463, 26040, 17849, 67002, 34235, 58811, 99767, 91587, 42437, 1479, 9671, 1481, 17865, 26059, 75208, 99783, 34254, 58830, 58842, 83418, 99802, 42461, 50654, 99808, 1505, 17890, 67042, 9701, 34277, 26087, 91623, 42475, 83438, 17907, 99829, 26102, 50678, 75255, 1529, 91641, 34300, 58876, 9728, 17920, 42499, 83463, 50701, 26126, 58893, 1552, 67085, 91663, 34323, 99853, 83477, 58907, 26140, 26142, 42527, 75295, 1570, 9764, 17956, 99877, 34344, 50731, 91691, 67117, 34351, 9777, 42548, 58932, 75318, 83511, 26168, 50745, 91700, 99894, 26174, 1601, 67138, 58947, 99905, 75333, 17991, 9801, 42572, 67150, 26191, 50767, 91727, 34386, 83538, 99922, 50773, 1624, 1626, 91738, 58972, 91740, 18014, 75358, 9826, 50787, 67170, 83556, 99938, 42602, 75373, 34415, 58992, 99953, 42611, 91763, 18037, 26230, 1656, 9848, 83578, 99969, 26242, 9860, 26244, 34436, 9863, 50820, 9869, 1679, 67215, 75407, 83600, 91797, 50838, 18072, 83615, 9889, 50849, 91811, 67237, 1702, 9895, 59050, 26283, 34475, 86635, 100013, 75439, 42673, 1716, 9908, 1718, 18106, 75453, 91838, 100033, 18115, 26307, 9925, 26309, 50885, 67269, 75459, 75470, 57335, 50900, 59093, 9942, 1751, 34520, 42713, 34522, 1755, 67284, 50909, 91862, 100054, 9953, 75490, 26341, 91879, 34538, 67307, 100075, 1773, 67310, 75502, 34544, 83698, 9971, 67316, 26357, 18168, 59129, 67320, 50941, 1791, 100096, 42756, 75527, 18184, 26379, 50956, 34576, 67344, 34578, 59155, 10004, 91922, 91924, 18203, 100123, 50974, 67358, 26400, 26402, 83748, 34598, 75558, 1832, 67368, 100140, 34607, 50992, 59187, 42805, 59189, 51000, 10043, 83772, 100156, 26431, 91967, 26433, 34628, 75588, 1863, 18247, 10059, 26443, 67407, 42833, 83795, 51029, 59222, 59223, 34648, 59224, 59225, 42845, 42847, 75615, 91999, 100194, 1892, 26468, 1897, 18282, 26474, 34667, 51053, 26478, 59241, 26480, 67441, 83820, 10099, 42869, 51062, 75640, 100217, 34682, 51076, 1926, 18310, 42886, 92039, 100234, 10125, 59280, 26515, 18324, 75667, 1943, 67479, 51098, 34715, 51100, 42909, 10142, 75675, 83874, 59300, 83876, 1962, 100267, 92076, 34735, 75695, 10164, 26548, 42935, 59324, 59325, 59326, 59327, 67517, 10177, 92098, 18375, 1993, 51146, 83914, 34767, 75731, 34776, 2009, 18394, 92123, 100312, 59358, 10207, 26597, 67558, 10217, 34797, 42989, 59374, 2032, 18417, 75761, 75763, 83953, 92146, 92148, 100337, 100345, 51198, 92161, 83970, 2051, 18436, 67591, 26635, 34827, 59404, 34832, 2065, 43025, 10259, 75793, 100372, 18455, 34840, 59417, 83997, 26654, 18463, 34850, 43043, 67618, 92194, 34855, 75818, 100397, 51246, 59438, 43056, 100399, 18482, 10293, 84022, 2103, 26679, 59452, 67645, 92226, 26693, 84037, 34887, 43079, 75851, 2125, 34895, 10321, 92241, 34899, 51284, 67669, 100434, 10334, 59487, 26722, 100451, 2148, 18533, 43110, 84069, 100453, 92265, 10352, 34930, 75890, 34932, 2166, 26742, 2168, 67705, 84092, 51326, 92289, 100482, 43140, 18565, 26757, 10375, 59531, 2196, 43160, 51352, 67737, 18587, 75934, 26783, 34978, 10403, 92323, 100515, 10406, 84136, 10419, 18611, 75956, 2231, 26808, 34999, 35001, 59575, 92348, 43198, 100543, 51393, 67777, 26819, 10436, 75978, 92364, 18640, 35024, 10450, 73719, 43220, 84179, 35030, 100565, 18649, 51420, 2272, 92385, 76006, 18663, 100582, 59625, 35052, 67827, 84212, 43255, 35064, 92407, 35066, 2299, 51451, 76027, 67838, 26879, 59647, 67841, 10498, 76029, 18692, 84229, 100613, 26889, 92425, 2320, 92438, 43288, 18713, 26906, 10523, 67868, 35105, 100641, 2341, 51494, 59686, 67880, 76071, 92459, 10544, 84272, 26932, 43317, 26934, 18749, 2368, 35137, 76098, 84288, 100674, 10565, 43333, 67912, 84299, 2380, 92492, 2382, 35152, 59735, 10584, 67929, 43354, 51547, 35165, 100702, 84320, 10598, 76135, 18792, 26984, 26986, 2411, 92518, 67949, 43374, 84339, 100723, 35189, 10615, 76153, 92540, 84349, 10624, 27009, 67975, 2440, 51594, 43405, 18831, 76178, 35220, 67989, 92565, 10647, 43415, 43417, 35226, 59800, 84380, 100764, 10658, 18853, 76201, 100779, 84398, 68015, 59826, 27059, 10676, 92597, 76216, 18874, 35259, 2492, 43452, 92605, 51650, 10693, 59845, 100812, 92621, 43472, 2513, 76240, 18900, 68053, 84439, 43485, 35296, 2529, 10721, 27108, 59878, 68072, 10734, 35313, 92658, 76275, 51700, 18934, 100856, 84474, 84476, 84480, 59908, 35333, 68100, 92683, 10764, 18957, 35340, 43533, 68117, 2585, 76315, 84507, 59933, 18975, 43552, 76320, 100902, 2599, 27180, 68141, 51758, 18991, 10803, 35380, 92724, 76343, 43579, 2620, 84541, 59967, 68160, 19009, 76352, 100928, 68166, 10827, 92748, 84557, 19025, 27220, 19030, 76377, 68186, 10845, 100958, 19039, 92768, 60001, 2659, 43619, 51813, 35431, 27242, 84592, 10866, 19059, 68220, 84604, 92798, 100990, 60032, 43650, 51848, 19082, 84620, 10895, 76431, 101011, 27284, 19095, 2712, 10905, 43674, 35483, 68248, 84633, 84637, 92835, 27302, 60071, 101035, 68268, 10926, 51888, 84656, 35506, 2739, 76468, 84662, 84664, 19131, 92863, 10945, 43713, 10947, 60099, 101060, 27334, 68296, 35533, 19151, 76495, 2769, 51921, 43731, 101500, 92887, 101079, 2782, 84709, 19174, 43750, 76520, 51945, 101095, 10987, 68334, 43759, 76530, 92917, 27384, 35576, 2812, 11005, 43780, 51972, 51974, 84744, 51977, 19211, 51981, 92942, 11023, 68367, 35601, 101133, 76564, 2838, 60182, 11034, 27420, 19229, 84765, 51999, 92959, 101152, 43812, 35621, 76581, 68392, 52010, 11052, 2861, 2863, 11056, 84798, 52031, 68416, 101186, 19268, 92999, 27467, 35660, 60235, 76623, 11088, 43857, 52050, 84822, 2903, 101207, 35677, 60253, 68445, 93021, 19297, 43884, 68461, 76654, 19313, 52082, 84851, 60281, 11130, 27515, 101241, 68477, 19329, 2946, 76673, 35716, 43909, 93057, 27527, 93059, 101258, 19340, 68492, 52110, 84877, 101260, 68498, 11161, 19354, 60317, 43935, 27552, 93090, 35747, 52132, 76708, 84904, 84906, 101290, 101292, 68526, 11183, 101295, 60339, 2997, 11191, 60345, 43962, 68540, 93117, 19391, 52164, 76745, 35787, 27596, 84939, 43986, 68564, 101337, 35802, 93147, 35804, 19421, 101339, 52191, 3040, 11233, 52195, 44004, 60388, 19431, 84972, 76783, 93167, 11253, 19447, 27639, 35833, 68604, 76804, 93189, 19462, 44040, 85004, 27661, 52237, 101391, 101393, 19474, 60434, 68627, 3096, 76824, 85017, 11292, 19485, 60445, 93216, 44070, 35881, 93226, 60459, 11308, 93228, 101417, 68656, 76849, 52274, 85042, 3125, 52277, 27703, 52279, 60472, 52282, 85050, 3134, 19521, 98317, 68682, 76874, 3148, 93258, 52302, 11344, 60499, 35924, 85076, 85078, 44122, 27741, 101470, 76903, 85095, 3177, 19562, 11371, 27756, 68716, 3182, 3183, 3184, 35951, 93292, 52346, 11388, 44157, 76926, 35967, 60543, 35969, 76928, 85120, 19588, 27781, 52359, 93319, 3211, 68748, 101516, 27792, 52369, 60562, 19607, 35991, 52376, 44187, 19616, 85310, 27811, 19621, 27813, 68774, 11432, 19625, 52393, 76965, 85158, 3245, 93351, 19631, 101549, 52405, 68789, 36024, 44216, 44218, 19643, 52411, 60601, 68797, 76992, 11457, 101569, 19656, 27850, 85197, 93389, 52431, 60623, 77011, 36052, 11477, 68821, 77013, 3288, 101591, 60634, 52445, 3299, 19683, 27876, 36069, 11495, 85223, 52458, 101611, 52461, 52464, 60657, 68848, 44275, 77043, 93424, 93426, 19703, 101616, 27897, 44281, 19708, 36093, 3326, 85245, 11520, 52480, 101634, 93450, 19726, 27921, 68883, 52501, 19735, 60697, 68893, 77086, 101663, 19747, 3365, 52520, 44331, 85293, 93485, 36143, 60721, 68914, 44340, 3390, 44351, 3392, 27968, 52546, 19779, 60734, 68933, 77121, 68935, 101705, 93520, 52562, 60755, 77141, 85337, 11610, 19805, 93536, 36194, 28004, 77160, 68969, 52587, 60780, 28013, 3438, 85358, 44402, 19827, 11636, 60787, 36214, 52598, 93555, 101750, 101752, 85373, 28031, 77185, 60805, 36232, 52618, 69003, 93581, 19855, 3472, 28049, 3474, 101775, 11669, 101781, 36247, 85400, 60826, 77210, 44444, 44446, 93502, 44451, 101796, 44453, 60838, 93607, 52648, 11691, 52651, 69038, 77232, 3505, 77234, 28086, 19900, 60860, 60862, 85439, 44481, 52676, 36295, 52680, 11724, 28109, 52684, 77262, 3539, 85460, 19925, 69077, 93651, 60893, 19937, 52706, 44516, 93670, 93672, 77292, 60911, 36336, 52720, 93684, 28149, 69111, 85496, 77305, 3582, 44545, 52739, 11782, 19977, 93705, 85517, 44558, 69135, 77326, 36369, 77328, 11795, 19990, 93718, 28184, 3613, 20000, 60960, 3618, 3619, 3620, 28195, 69160, 60969, 52778, 93740, 44592, 85552, 3635, 20019, 60985, 77371, 93757, 52798, 69189, 3656, 44617, 28237, 20046, 11858, 36436, 77396, 44631, 52823, 85595, 61021, 93791, 3680, 44642, 69219, 77414, 20073, 52843, 28269, 11890, 93810, 3701, 20088, 36472, 61048, 69240, 85629, 28287, 77440, 20097, 28292, 93828, 69257, 3723, 44683, 52879, 61071, 20116, 85652, 85654, 36503, 11928, 77465, 44698, 52897, 93858, 11939, 36515, 28325, 52899, 69286, 3754, 85675, 77484, 61101, 20142, 77486, 69296, 11961, 28346, 28348, 93886, 44735, 61119, 3778, 20165, 36549, 28363, 52940, 11981, 77521, 36562, 3797, 44757, 44759, 61143, 93913, 20186, 11995, 69341, 85726, 20195, 28389, 85737, 93931, 44783, 3824, 61170, 77555, 28405, 28407, 12024, 52985, 20224, 77570, 93955, 3846, 20234, 36618, 69389, 53008, 85777, 12050, 77590, 61208, 93977, 3867, 28443, 44829, 12070, 69415, 93991, 28457, 77614, 85807, 20272, 77616, 20274, 85809, 61236, 3893, 94003, 53048, 28476, 44863, 36672, 20293, 94023, 69449, 85835, 61260, 36691, 12116, 3925, 44883, 77657, 12122, 36702, 61278, 28513, 20323, 94051, 69478, 85862, 3944, 36714, 53099, 44909, 77677, 12144, 3959, 94071, 20348, 69501, 94078, 12160, 85888, 53122, 28550, 20362, 77707, 36748, 69517, 44946, 61330, 3989, 12184, 95231, 94108, 85920, 28578, 61349, 36774, 20394, 53162, 69548, 44973, 69550, 77744, 36785, 94128, 4020, 85944, 28602, 69562, 20412, 12224, 61380, 4037, 69572, 61385, 77769, 94155, 85969, 36818, 4052, 28629, 45017, 53210, 61402, 36832, 53217, 94182, 4074, 20458, 4076, 28652, 69611, 77803, 61424, 77805, 86000, 53238, 36857, 20474, 77817, 94204, 94206, 45055, 77823, 69635, 28677, 12294, 36869, 20488, 53254, 94216, 4116, 53269, 45078, 69657, 77850, 61468, 45087, 20512, 36898, 69669, 53288, 4137, 12330, 28715, 86058, 94248, 77870, 94260, 4149, 61495, 53304, 36921, 69696, 28737, 45121, 4164, 77894, 61511, 53321, 61513, 69706, 94286, 86096, 77905, 12370, 20562, 36946, 4181, 69721, 28763, 36962, 94308, 53349, 86118, 12391, 94310, 20585, 77931, 28780, 45164, 61548, 36976, 69745, 36983, 4217, 69754, 4219, 45179, 86137, 36990, 36992, 94336, 69764, 77956, 12424, 28809, 53390, 4244, 86168, 61596, 77982, 28831, 37023, 12450, 69796, 53413, 37037, 20654, 69805, 61616, 77998, 45234, 4275, 94384, 28854, 86200, 78014, 37056, 4289, 12481, 4291, 69825, 20677, 94404, 45255, 28873, 53453, 86224, 53460, 53462, 69846, 12506, 61662, 94433, 37091, 69861, 4327, 78056, 61675, 86254, 45295, 12528, 53488, 28917, 20726, 53497, 69883, 61694, 94463, 4352, 37127, 78088, 86281, 20747, 12560, 28944, 53523, 53525, 69909, 45335, 37144, 78106, 94498, 61731, 69924, 20774, 12584, 86319, 4402, 37171, 45363, 12599, 53563, 69948, 94530, 37188, 86340, 69958, 45386, 20811, 78156, 29005, 61774, 37202, 12629, 61786, 4446, 45407, 20832, 53598, 78176, 94561, 53605, 45416, 86376, 20842, 61804, 29037, 37229, 12657, 53621, 78198, 20855, 4472, 70008, 29051, 94588, 86402, 53637, 45448, 12681, 94600, 37259, 78219, 61840, 70036, 29077, 53653, 61847, 20888, 94616, 45466, 4508, 12703, 20899, 29095, 70055, 37290, 86443, 53679, 20913, 29107, 45492, 94645, 4535, 86457, 45501, 61886, 78269, 12736, 37318, 53703, 61903, 4560, 29136, 70095, 78288, 94673, 12759, 86490, 70107, 45534, 4575, 53729, 78306, 20964, 29160, 12778, 70122, 94701, 37359, 78322, 4595, 61942, 94711, 12795, 37371, 70141, 86525, 4609, 45571, 78339, 20998, 78345, 29194, 86539, 61966, 94734, 37393, 12819, 45587, 53780, 70166, 94749, 4641, 12833, 12834, 12835, 45603, 61985, 70180, 78371, 53801, 86572, 62000, 29234, 94770, 29237, 29238, 29239, 29240, 53815, 78392, 4676, 62020, 70214, 45640, 70218, 12875, 21067, 94794, 78415, 37459, 86613, 21079, 53849, 29276, 4702, 21087, 70238, 53857, 45671, 37481, 4714, 12906, 12908, 53865, 29294, 53868, 53871, 78441, 53874, 53875, 62068, 70260, 94830, 4729, 86655, 94847, 37505, 78465, 29315, 21131, 45708, 53901, 70286, 29331, 94867, 62101, 78486, 12951, 4760, 37530, 86688, 45729, 21154, 62114, 86694, 70314, 37553, 53938, 29363, 4788, 62130, 70324, 78515, 86708, 45753, 94899, 12987, 29377, 21186, 12996, 4809, 94922, 78539, 70348, 86735, 45777, 62166, 86742, 45784, 37593, 45786, 21212, 78556, 29406, 70367, 94945, 86754, 13027, 29417, 21229, 78573, 62191, 21235, 86774, 13050, 70395, 4860, 37629, 62205, 45825, 54019, 78596, 94979, 13065, 45833, 13067, 54027, 54028, 70413, 37648, 54032, 29458, 21268, 54038, 4888, 70428, 13085, 86814, 45855, 37664, 78627, 13095, 29480, 95017, 37676, 37677, 21294, 37678, 62255, 45874, 45875, 45876, 45880, 4921, 37689, 70456, 29500, 86845, 54079, 62272, 45890, 37699, 21317, 13126, 21319, 78665, 45900, 62286, 70480, 86864, 95056, 29523, 86871, 21339, 4956, 45917, 62306, 54115, 95076, 4966, 21350, 70502, 45929, 62314, 78696, 37742, 54131, 4980, 29559, 13176, 45943, 70522, 4989, 62340, 21382, 45960, 37769, 54152, 86921, 95114, 29582, 5007, 37775, 78736, 21395, 62358, 95128, 21403, 13212, 21405, 54171, 70557, 45984, 54176, 54177, 70558, 70559, 70560, 29606, 54183, 95135, 29612, 29614, 13234, 21428, 5045, 78772, 37819, 13244, 70588, 70590, 62399, 86971, 78785, 95168, 5059, 46025, 62412, 13263, 95185, 29653, 54229, 21463, 37848, 86998, 87010, 78821, 62440, 70635, 37868, 95211, 5102, 87026, 21491, 62453, 78838, 54264, 37883, 70652, 46078, 62463, 46080, 46081, 29698, 46083, 54275, 5125, 13318, 54279, 62465, 54283, 95244, 21517, 37903, 78866, 87060, 70677, 29722, 62497, 95272, 21545, 5162, 70700, 13360, 78897, 95282, 37940, 95286, 78903, 87096, 29753, 62523, 95293, 46142, 5185, 70721, 95298, 13382, 95306, 29771, 87117, 5198, 37967, 21584, 78930, 62549, 54358, 95320, 13403, 46176, 95329, 87147, 70764, 62573, 37998, 21615, 54382, 62575, 78959, 29811, 95343, 13429, 95347, 95352, 46201, 98735, 70779, 95356, 78973, 38020, 62596, 87174, 95364, 87176, 54409, 70793, 29835, 5260, 62603, 95375, 78993, 5266, 95377, 46230, 13465, 70812, 21661, 13471, 54431, 29857, 79008, 5289, 38057, 5291, 13484, 79020, 95403, 29872, 21681, 62640, 46259, 79028, 87217, 13496, 70841, 29888, 38082, 5315, 54468, 70852, 95427, 13511, 13517, 62669, 46288, 79056, 5330, 70869, 87255, 21720, 79064, 95452, 46301, 29919, 5345, 70883, 62697, 38122, 54506, 46316, 54510, 46320, 5361, 79088, 62707, 46324, 54516, 21750, 46326, 54518, 95481, 87291, 38140, 13566, 5376, 70912, 79106, 29956, 87302, 13579, 79115, 79117, 21774, 87311, 95501, 38162, 5396, 38164, 62742, 46362, 79130, 70940, 5405, 54557, 13601, 95525, 21798, 29990, 38183, 62760, 46380, 5421, 54572, 87345, 5427, 5429, 79158, 21815, 38199, 13625, 38209, 87361, 87363, 62788, 95558, 70983, 21832, 54601, 30028, 46421, 79189, 62808, 71006, 95583, 95585, 46435, 13668, 5478, 38246, 54631, 62825, 87398, 21870, 79214, 54641, 30066, 54643, 46453, 79226, 13695, 21887, 46465, 30084, 38276, 46469, 54664, 79243, 71052, 95630, 62863, 5522, 13714, 38291, 38293, 71063, 87450, 30109, 62877, 54687, 21923, 38309, 71077, 13735, 79270, 87468, 30125, 95665, 46514, 71093, 5560, 21951, 46528, 13764, 30149, 38341, 30151, 46532, 54729, 79302, 95689, 21969, 46545, 87506, 5588, 54741, 62935, 13784, 71131, 38366, 95710, 21986, 30179, 46563, 87526, 71152, 62962, 30196, 54773, 13815, 38393, 5629, 87549, 95746, 79364, 79366, 22024, 71176, 79370, 46607, 79376, 30226, 62994, 79379, 87571, 87573, 38423, 54807, 79384, 95766, 46619, 13852, 22045, 30238, 79388, 38434, 79396, 79397, 38442, 79404, 5677, 46638, 71213, 79406, 87599, 95792, 79412, 79414, 38455, 13881, 71225, 71233, 30276, 95813, 13895, 54855, 54857, 22091, 5708, 63053, 87630, 79439, 38481, 46680, 71261, 38494, 5727, 13919, 95841, 95843, 22116, 30308, 22118, 38505, 13932, 87660, 63086, 46705, 54898, 13939, 95861, 95867, 46716, 71294, 38530, 5764, 30341, 71301, 87686, 22153, 46730, 71309, 79502, 13968, 63122, 5788, 87709, 95902, 22175, 71329, 38564, 63143, 79531, 22188, 87728, 46769, 14003, 30387, 95925, 54968, 38588, 71359, 14016, 22208, 5826, 95935, 79556, 46789, 71373, 30414, 5839, 46801, 87761, 22228, 63188, 14039, 30426, 95964, 38621, 5854, 79582, 71392, 22246, 79590, 79592, 63211, 14062, 46833, 87793, 71414, 95991, 79608, 55033, 30459, 22269, 46850, 30470, 96006, 71435, 87819, 5903, 30479, 38673, 22290, 63247, 14105, 55065, 87834, 79644, 96029, 71454, 96031, 46883, 63267, 30501, 71462, 14130, 46899, 14132, 71477, 55094, 30519, 22328, 38712, 79669, 87864, 22335, 5957, 63303, 96071, 87883, 38733, 22351, 14162, 71506, 38740, 79699, 5976, 30556, 87903, 71522, 46952, 55146, 30576, 79730, 6004, 63348, 96118, 14202, 22394, 79739, 38781, 87939, 46980, 30597, 79757, 6030, 55183, 14224, 55185, 38802, 71569, 96142, 22421, 30613, 55190, 79770, 63389, 87968, 47009, 96161, 71589, 14247, 6063, 38832, 87983, 63412, 79798, 22457, 71611, 14268, 47036, 14270, 30655, 47040, 55228, 79810, 88000, 88002, 6085, 22473, 79819, 96203, 14293, 55254, 71639, 30680, 38873, 79833, 38879, 71650, 6116, 6118, 30697, 47081, 22509, 88046, 55279, 96238, 71669, 63481, 55290, 14334, 47102, 6144, 79870, 71685, 38918, 22536, 30729, 63504, 71699, 71701, 38934, 47126, 55319, 96278, 22555, 55324, 6173, 38941, 79900, 88091, 30753, 96288, 96290, 63526, 47143, 14378, 6189, 22574, 55341, 55345, 55349, 63541, 30776, 22585, 38968, 55354, 71737, 79933, 88128, 47170, 14403, 63554, 30789, 96325, 30791, 6218, 38990, 55375, 71765, 6235, 63579, 88155, 30814, 79966, 22624, 39008, 55393, 96355, 47207, 14440, 88168, 6252, 47214, 71790, 71792, 63601, 63603, 55413, 39030, 88186, 96384, 30850, 22659, 47236, 88200, 80009, 30862, 63630, 14480, 30864, 6290, 88209, 39061, 47254, 71831, 55450, 96410, 6305, 6307, 88228, 22693, 14502, 80039, 88230, 63657, 96430, 30896, 55476, 39099, 14524, 6333, 22720, 55489, 71873, 80067, 30917, 30919, 63688, 6347, 96459, 63693, 88272, 80082, 22744, 14554, 55515, 6364, 71898, 39136, 96483, 6374, 71911, 80102, 63721, 30955, 14581, 80117, 96502, 55545, 6395, 55553, 39170, 63748, 71942, 30983, 14601, 22793, 80139, 88331, 55565, 96529, 39192, 6427, 31007, 55583, 39201, 88355, 47396, 96548, 63782, 22823, 71974, 6441, 14635, 71982, 80174, 80176, 22834, 88376, 31034, 55612, 96573, 6462, 63809, 6473, 55625, 88397, 72014, 55631, 22864, 80206, 88399, 39252, 63830, 96598, 14680, 31072, 72033, 39269, 55657, 14700, 6510, 63855, 88433, 22899, 47480, 39293, 96637, 72063, 55681, 6530, 31108, 80260, 6537, 63882, 14732, 96654, 31119, 55695, 22933, 47511, 63899, 39327, 72095, 31139, 55716, 96675, 47527, 14761, 88490, 6572, 72108, 22960, 80304, 96690, 96692, 39350, 14775, 55734, 39355, 6594, 14786, 22979, 55746, 63939, 88519, 39368, 31177, 55755, 80331, 14799, 63955, 96725, 72151, 88535, 14811, 96732, 23005, 6622, 96734, 55777, 14820, 39403, 14832, 88563, 88565, 80375, 6648, 63993, 31229, 72190, 96765, 55808, 14849, 39426, 6664, 14856, 6666, 23048, 14861, 6670, 72210, 96786, 23062, 55830, 88598, 39449, 64026, 80411, 14878, 31263, 55842, 6694, 23079, 47658, 64046, 72238, 39474, 6711, 80439, 88636, 31293, 31295, 14912, 72257, 96837, 23112, 39500, 6733, 64081, 72275, 31316, 80469, 14935, 39514, 55902, 39523, 31332, 88675, 96870, 6762, 6764, 64111, 72304, 14963, 80507, 55932, 14974, 39552, 72321, 39554, 64131, 23172, 39556, 72323, 88709, 31372, 80527, 23188, 55965, 64158, 6815, 15007, 96929, 39587, 31397, 80549, 88741, 72362, 31407, 23216, 31409, 6834, 64178, 64180, 15029, 72370, 88756, 6842, 47802, 96957, 80578, 6851, 39619, 15048, 72393, 88776, 39632, 23249, 56018, 6867, 23251, 72404, 31448, 88795, 6876, 96991, 15072, 39648, 39650, 56032, 31461, 6887, 31463, 64237, 39663, 23281, 39665, 64243, 80626, 97013, 39670, 39672, 15097, 64250, 31483, 88827, 39677, 47870, 6911, 15104, 39679, 72449, 80644, 39686, 39688, 39693, 39695, 97042, 56084, 31509, 72473, 6939, 47900, 6941, 23325, 15135, 80672, 6945, 88863, 97056, 39719, 64295, 80689, 72498, 31542, 64312, 88888, 39739, 15167, 47937, 97090, 72516, 6983, 64328, 80714, 56141, 6991, 23378, 56146, 88918, 72537, 39770, 72539, 80736, 97122, 56170, 64362, 15212, 23407, 7025, 31601, 31603, 39793, 80756, 7037, 88958, 7039, 97151, 56194, 72580, 39816, 64394, 39821, 80783, 23440, 39826, 39829, 31644, 88991, 15265, 80801, 80803, 72612, 56233, 7085, 23470, 97205, 39862, 89023, 97215, 23489, 64449, 31683, 56260, 72643, 80839, 64458, 7116, 15310, 23502, 56279, 7128, 39901, 97248, 31713, 89059, 72677, 15337, 39916, 97260, 80878, 7152, 23536, 31731, 56308, 72692, 97269, 39929, 15355, 97276, 64511, 31751, 89099, 39950, 97297, 56344, 64541, 15390, 80925, 72737, 7203, 23589, 56361, 31790, 39983, 89140, 97332, 15414, 23612, 72765, 80962, 40006, 23625, 56393, 7243, 64589, 72784, 15444, 97364, 72795, 80992, 7266, 23653, 97382, 40039, 15473, 31858, 40049, 40051, 81013, 56438, 89204, 97393, 64634, 23675, 48255, 31874, 40072, 81032, 89224, 97419, 64656, 15505, 48273, 81043, 23701, 31896, 56472, 48282, 72856, 7327, 56479, 7329, 89249, 56483, 40100, 56484, 56485, 97442, 23721, 81069, 64691, 15543, 48314, 48316, 31939, 40132, 72899, 89286, 7367, 56520, 97477, 81098, 31953, 15570, 56530, 64721, 89301, 48342, 97492, 56538, 72922, 89310, 23779, 56547, 7397, 56553, 81129, 72940, 15598, 56558, 48369, 7411, 31988, 56567, 40186, 97531, 64765, 56574, 23811, 32006, 7433, 89358, 97552, 81170, 15635, 81172, 48406, 15639, 56601, 56603, 15644, 7454, 64798, 23840, 15649, 40224, 81188, 32037, 73004, 97581, 64814, 23858, 48436, 15669, 32053, 64820, 81207, 89398, 40251, 97599, 7492, 48453, 56644, 32071, 73030, 64841, 89417, 97613, 32079, 73040, 64852, 97621, 7515, 15707, 23899, 48477, 97631, 81249, 15719, 73063, 32107, 40300, 23917, 32121, 7546, 81273, 56700, 89466, 97662, 81282, 64902, 73097, 7563, 23948, 15757, 32139, 48529, 56721, 40339, 89490, 7573, 15770, 32155, 89500, 73119, 56736, 15777, 97700, 15782, 73128, 23977, 81320, 7595, 48558, 64943, 81327, 7607, 73146, 15803, 15804, 15805, 56763, 23999, 32192, 48576, 97722, 40387, 15817, 64969, 7627, 97738, 7629, 24015, 97749, 15833, 56794, 32219, 40412, 81372, 15840, 73185, 24034, 7655, 48615, 7657, 56809, 64999, 81387, 89577, 73198, 97771, 32240, 97773, 24050, 56826, 89596, 15872, 81412, 48645, 81416, 7689, 40458, 48650, 65036, 24077, 97808, 32276, 81429, 24087, 56857, 15900, 89629, 65056, 97824, 89643, 7725, 40494, 32304, 97840, 56883, 15927, 65080, 40507, 7741, 48702, 81471, 15937, 56903, 7752, 73287, 24139, 97867, 73293, 32334, 65103, 81491, 89683, 15958, 24153, 89689, 7773, 32351, 81504, 81506, 48739, 97895, 7788, 32365, 65133, 89711, 56944, 15986, 15988, 40565, 48759, 73336, 81530, 89723, 73341, 24194, 73347, 40581, 48774, 7816, 56968, 65162, 97930, 89743, 16016, 56977, 40601, 81562, 24219, 32413, 48799, 56992, 89759, 65186, 16036, 89768, 73386, 24236, 97964, 40623, 7856, 65200, 89779, 32436, 24245, 16059, 32444, 16061, 24254, 24255, 24256, 57024, 73406, 81598, 89795, 89797, 24262, 48838, 97990, 16074, 65232, 7894, 81622, 24281, 40665, 57052, 32479, 48865, 98019, 40679, 7912, 65256, 73447, 89832, 16108, 73453, 57074, 65266, 24311, 65275, 32509, 89855, 16128, 32516, 7941, 81670, 65292, 98062, 57103, 24337, 48917, 73493, 98075, 24348, 81692, 40734, 48927, 98077, 89889, 16166, 7977, 73515, 48943, 57135, 65331, 89911, 81720, 16187, 48956, 48957, 48958, 24384, 98116, 40773, 57161, 81739, 81741, 32592, 89937, 8020, 48980, 8022, 24406, 73558, 48988, 73564, 16225, 65377, 57187, 81762, 40805, 98145, 32624, 89969, 16242, 24435, 8052, 49011, 8054, 57204, 65399, 81789, 24450, 49026, 89986, 89988, 98181, 16263, 40839, 73607, 57230, 81806, 49042, 73622, 73624, 49050, 24476, 16285, 8094, 32670, 40862, 57249, 98213, 65450, 24492, 32684, 40878, 73647, 81844, 49077, 81846, 65468, 90045, 16318, 81854, 8128, 24513, 8130, 57280, 40901, 73670, 98247, 8138, 32714, 90058, 98254, 16337, 49108, 81877, 57303, 65498, 40924, 73693, 24543, 32736, 90092, 16367, 24559, 98287, 81908, 8182, 40951, 49148, 73727}\n"
     ]
    }
   ],
   "source": [
    "# boundaries contains indexes of sentence-boundary tokens\n",
    "\n",
    "print(boundaries)"
   ]
  },
  {
   "cell_type": "code",
   "execution_count": 79,
   "metadata": {
    "slideshow": {
     "slide_type": "slide"
    }
   },
   "outputs": [],
   "source": [
    "# extract the following features\n",
    "\n",
    "def punct_features(tokens, i):\n",
    "    return {'next-word-capitalized': tokens[i+1][0].isupper(),\n",
    "            'prev-word': tokens[i-1].lower(),\n",
    "            'punct': tokens[i],\n",
    "            'prev-word-is-one-char': len(tokens[i-1]) == 1}"
   ]
  },
  {
   "cell_type": "code",
   "execution_count": 80,
   "metadata": {
    "slideshow": {
     "slide_type": "slide"
    }
   },
   "outputs": [
    {
     "data": {
      "text/plain": [
       "0.9730639730639731"
      ]
     },
     "execution_count": 80,
     "metadata": {},
     "output_type": "execute_result"
    }
   ],
   "source": [
    "# extract features and use them \n",
    "# to train and evaluate a decision tree\n",
    "\n",
    "seg_featuresets = [(punct_features(tokens, i), (i in boundaries))\n",
    "               for i in range(1, len(tokens)-1)\n",
    "               if tokens[i] in '.?!']\n",
    "size = int(len(seg_featuresets) * 0.1)\n",
    "train_set, test_set = seg_featuresets[size:], seg_featuresets[:size]\n",
    "classifier_seg = nltk.DecisionTreeClassifier.train(train_set)\n",
    "nltk.classify.accuracy(classifier_seg, test_set)"
   ]
  },
  {
   "cell_type": "markdown",
   "metadata": {
    "slideshow": {
     "slide_type": "slide"
    }
   },
   "source": [
    "# Closing Remarks\n",
    "* We only covered basic NLP\n",
    "* More ML can be done with scikit-learn, TensorFlow, PyTorch, etc.\n",
    "* Large language models are much more advanced but what we covered in this course is still foundational to them"
   ]
  }
 ],
 "metadata": {
  "celltoolbar": "Slideshow",
  "kernelspec": {
   "display_name": "Python 3 (ipykernel)",
   "language": "python",
   "name": "python3"
  },
  "language_info": {
   "codemirror_mode": {
    "name": "ipython",
    "version": 3
   },
   "file_extension": ".py",
   "mimetype": "text/x-python",
   "name": "python",
   "nbconvert_exporter": "python",
   "pygments_lexer": "ipython3",
   "version": "3.9.13"
  }
 },
 "nbformat": 4,
 "nbformat_minor": 4
}
